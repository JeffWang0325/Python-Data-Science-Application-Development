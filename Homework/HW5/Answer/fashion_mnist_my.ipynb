{
 "cells": [
  {
   "cell_type": "markdown",
   "metadata": {},
   "source": [
    "# Fashion-MNIST 辨識\n",
    "\n",
    "![alt text](https://github.com/margaretmz/deep-learning/blob/master/images/modern%20dl_fash-mnist_keras.png?raw=1)"
   ]
  },
  {
   "cell_type": "code",
   "execution_count": 58,
   "metadata": {},
   "outputs": [
    {
     "name": "stdout",
     "output_type": "stream",
     "text": [
      "x_train shape: (60000, 28, 28) y_train shape: (60000,)\n"
     ]
    }
   ],
   "source": [
    "import tensorflow as tf\n",
    "import numpy as np\n",
    "import matplotlib.pyplot as plt\n",
    "\n",
    "# Load the fashion-mnist pre-shuffled train data and test data\n",
    "(x_train, y_train), (x_test, y_test) = tf.keras.datasets.fashion_mnist.load_data() \n",
    "print(\"x_train shape:\", x_train.shape, \"y_train shape:\", y_train.shape)"
   ]
  },
  {
   "cell_type": "code",
   "execution_count": 59,
   "metadata": {},
   "outputs": [
    {
     "data": {
      "text/plain": [
       "array([9, 0, 0, 3, 0, 2, 7, 2, 5, 5], dtype=uint8)"
      ]
     },
     "execution_count": 59,
     "metadata": {},
     "output_type": "execute_result"
    }
   ],
   "source": [
    "y_train[:10]"
   ]
  },
  {
   "cell_type": "code",
   "execution_count": 60,
   "metadata": {},
   "outputs": [
    {
     "data": {
      "text/plain": [
       "array([[  0,   0,   0,   0,   0,   0,   0,   0,   0,   0,   0,   0,   0,\n",
       "          0,   0,   0,   0,   0,   0,   0,   0,   0,   0,   0,   0,   0,\n",
       "          0,   0],\n",
       "       [  0,   0,   0,   0,   0,   0,   0,   0,   0,   0,   0,   0,   0,\n",
       "          0,   0,   0,   0,   0,   0,   0,   0,   0,   0,   0,   0,   0,\n",
       "          0,   0],\n",
       "       [  0,   0,   0,   0,   0,   0,   0,   0,   0,   0,   0,   0,   0,\n",
       "          0,   0,   0,   0,   0,   0,   0,   0,   0,   0,   0,   0,   0,\n",
       "          0,   0],\n",
       "       [  0,   0,   0,   0,   0,   0,   0,   0,   0,   0,   0,   0,   1,\n",
       "          0,   0,  13,  73,   0,   0,   1,   4,   0,   0,   0,   0,   1,\n",
       "          1,   0],\n",
       "       [  0,   0,   0,   0,   0,   0,   0,   0,   0,   0,   0,   0,   3,\n",
       "          0,  36, 136, 127,  62,  54,   0,   0,   0,   1,   3,   4,   0,\n",
       "          0,   3],\n",
       "       [  0,   0,   0,   0,   0,   0,   0,   0,   0,   0,   0,   0,   6,\n",
       "          0, 102, 204, 176, 134, 144, 123,  23,   0,   0,   0,   0,  12,\n",
       "         10,   0],\n",
       "       [  0,   0,   0,   0,   0,   0,   0,   0,   0,   0,   0,   0,   0,\n",
       "          0, 155, 236, 207, 178, 107, 156, 161, 109,  64,  23,  77, 130,\n",
       "         72,  15],\n",
       "       [  0,   0,   0,   0,   0,   0,   0,   0,   0,   0,   0,   1,   0,\n",
       "         69, 207, 223, 218, 216, 216, 163, 127, 121, 122, 146, 141,  88,\n",
       "        172,  66],\n",
       "       [  0,   0,   0,   0,   0,   0,   0,   0,   0,   1,   1,   1,   0,\n",
       "        200, 232, 232, 233, 229, 223, 223, 215, 213, 164, 127, 123, 196,\n",
       "        229,   0],\n",
       "       [  0,   0,   0,   0,   0,   0,   0,   0,   0,   0,   0,   0,   0,\n",
       "        183, 225, 216, 223, 228, 235, 227, 224, 222, 224, 221, 223, 245,\n",
       "        173,   0],\n",
       "       [  0,   0,   0,   0,   0,   0,   0,   0,   0,   0,   0,   0,   0,\n",
       "        193, 228, 218, 213, 198, 180, 212, 210, 211, 213, 223, 220, 243,\n",
       "        202,   0],\n",
       "       [  0,   0,   0,   0,   0,   0,   0,   0,   0,   1,   3,   0,  12,\n",
       "        219, 220, 212, 218, 192, 169, 227, 208, 218, 224, 212, 226, 197,\n",
       "        209,  52],\n",
       "       [  0,   0,   0,   0,   0,   0,   0,   0,   0,   0,   6,   0,  99,\n",
       "        244, 222, 220, 218, 203, 198, 221, 215, 213, 222, 220, 245, 119,\n",
       "        167,  56],\n",
       "       [  0,   0,   0,   0,   0,   0,   0,   0,   0,   4,   0,   0,  55,\n",
       "        236, 228, 230, 228, 240, 232, 213, 218, 223, 234, 217, 217, 209,\n",
       "         92,   0],\n",
       "       [  0,   0,   1,   4,   6,   7,   2,   0,   0,   0,   0,   0, 237,\n",
       "        226, 217, 223, 222, 219, 222, 221, 216, 223, 229, 215, 218, 255,\n",
       "         77,   0],\n",
       "       [  0,   3,   0,   0,   0,   0,   0,   0,   0,  62, 145, 204, 228,\n",
       "        207, 213, 221, 218, 208, 211, 218, 224, 223, 219, 215, 224, 244,\n",
       "        159,   0],\n",
       "       [  0,   0,   0,   0,  18,  44,  82, 107, 189, 228, 220, 222, 217,\n",
       "        226, 200, 205, 211, 230, 224, 234, 176, 188, 250, 248, 233, 238,\n",
       "        215,   0],\n",
       "       [  0,  57, 187, 208, 224, 221, 224, 208, 204, 214, 208, 209, 200,\n",
       "        159, 245, 193, 206, 223, 255, 255, 221, 234, 221, 211, 220, 232,\n",
       "        246,   0],\n",
       "       [  3, 202, 228, 224, 221, 211, 211, 214, 205, 205, 205, 220, 240,\n",
       "         80, 150, 255, 229, 221, 188, 154, 191, 210, 204, 209, 222, 228,\n",
       "        225,   0],\n",
       "       [ 98, 233, 198, 210, 222, 229, 229, 234, 249, 220, 194, 215, 217,\n",
       "        241,  65,  73, 106, 117, 168, 219, 221, 215, 217, 223, 223, 224,\n",
       "        229,  29],\n",
       "       [ 75, 204, 212, 204, 193, 205, 211, 225, 216, 185, 197, 206, 198,\n",
       "        213, 240, 195, 227, 245, 239, 223, 218, 212, 209, 222, 220, 221,\n",
       "        230,  67],\n",
       "       [ 48, 203, 183, 194, 213, 197, 185, 190, 194, 192, 202, 214, 219,\n",
       "        221, 220, 236, 225, 216, 199, 206, 186, 181, 177, 172, 181, 205,\n",
       "        206, 115],\n",
       "       [  0, 122, 219, 193, 179, 171, 183, 196, 204, 210, 213, 207, 211,\n",
       "        210, 200, 196, 194, 191, 195, 191, 198, 192, 176, 156, 167, 177,\n",
       "        210,  92],\n",
       "       [  0,   0,  74, 189, 212, 191, 175, 172, 175, 181, 185, 188, 189,\n",
       "        188, 193, 198, 204, 209, 210, 210, 211, 188, 188, 194, 192, 216,\n",
       "        170,   0],\n",
       "       [  2,   0,   0,   0,  66, 200, 222, 237, 239, 242, 246, 243, 244,\n",
       "        221, 220, 193, 191, 179, 182, 182, 181, 176, 166, 168,  99,  58,\n",
       "          0,   0],\n",
       "       [  0,   0,   0,   0,   0,   0,   0,  40,  61,  44,  72,  41,  35,\n",
       "          0,   0,   0,   0,   0,   0,   0,   0,   0,   0,   0,   0,   0,\n",
       "          0,   0],\n",
       "       [  0,   0,   0,   0,   0,   0,   0,   0,   0,   0,   0,   0,   0,\n",
       "          0,   0,   0,   0,   0,   0,   0,   0,   0,   0,   0,   0,   0,\n",
       "          0,   0],\n",
       "       [  0,   0,   0,   0,   0,   0,   0,   0,   0,   0,   0,   0,   0,\n",
       "          0,   0,   0,   0,   0,   0,   0,   0,   0,   0,   0,   0,   0,\n",
       "          0,   0]], dtype=uint8)"
      ]
     },
     "execution_count": 60,
     "metadata": {},
     "output_type": "execute_result"
    }
   ],
   "source": [
    "x_train[0]"
   ]
  },
  {
   "cell_type": "code",
   "execution_count": 62,
   "metadata": {},
   "outputs": [
    {
     "data": {
      "text/plain": [
       "['[0 0 0 0 0 0 0 0 1 1 1 1 1 1 1 1 1 1 1 0 0 0 0 0 0 0 0 0]',\n",
       " '[0 0 0 0 0 0 1 1 1 1 1 1 1 1 1 1 1 1 1 1 1 0 0 0 0 0 0 0]',\n",
       " '[0 0 0 0 0 1 1 1 1 1 1 1 1 1 1 1 1 1 1 1 1 1 0 0 0 0 0 0]',\n",
       " '[0 0 0 0 0 1 1 1 1 1 1 1 1 1 1 1 1 1 1 1 1 1 1 0 0 0 0 0]',\n",
       " '[0 0 0 0 0 1 1 1 1 1 1 1 1 1 1 1 1 1 1 1 1 1 0 0 0 0 0 0]',\n",
       " '[0 0 0 0 0 0 1 1 1 1 1 1 1 1 1 1 1 1 1 1 1 1 0 0 0 0 0 0]',\n",
       " '[0 0 0 0 0 0 0 1 1 1 1 1 1 1 1 1 1 1 1 1 1 0 0 0 0 0 0 0]',\n",
       " '[0 0 0 0 0 1 0 1 1 1 1 1 1 1 1 1 1 1 1 1 0 0 0 0 0 0 0 0]',\n",
       " '[0 0 0 0 0 0 0 0 1 1 1 1 1 1 1 1 1 1 1 1 0 0 0 0 0 0 0 0]',\n",
       " '[0 0 0 0 0 0 0 0 1 1 1 1 1 1 1 1 1 1 1 1 0 0 0 0 0 0 0 0]',\n",
       " '[0 0 0 0 0 0 1 0 1 1 1 1 1 1 1 1 1 1 1 1 0 1 0 0 0 0 0 0]',\n",
       " '[0 0 0 0 0 0 1 0 1 1 1 1 1 1 1 1 1 1 1 1 0 1 0 0 0 0 0 0]',\n",
       " '[0 0 0 0 0 0 1 0 1 1 1 1 1 1 1 1 1 1 1 1 0 1 0 0 0 0 0 0]',\n",
       " '[0 0 0 0 0 0 0 0 1 1 1 1 1 1 1 1 1 1 1 1 0 1 0 0 0 0 0 0]',\n",
       " '[0 0 0 0 0 0 1 0 1 1 1 1 1 1 1 1 1 1 1 1 0 0 0 0 0 0 0 0]',\n",
       " '[0 0 0 0 0 0 0 0 1 1 1 1 1 1 1 1 1 1 1 1 0 0 0 0 0 0 0 0]',\n",
       " '[0 0 0 0 0 0 0 0 1 1 1 1 1 1 1 1 1 1 1 1 1 0 1 0 0 0 0 0]',\n",
       " '[0 0 0 0 0 1 0 1 1 1 1 1 1 1 1 1 1 1 1 1 1 0 0 0 0 0 0 0]',\n",
       " '[0 0 0 0 0 0 0 1 1 1 1 1 1 1 1 1 1 1 1 1 1 1 0 0 0 0 0 0]',\n",
       " '[0 0 0 0 0 0 0 1 1 1 1 1 1 1 1 1 1 1 1 1 1 1 0 0 0 0 0 0]',\n",
       " '[0 0 0 0 0 0 1 1 1 1 1 1 1 1 1 1 1 1 1 1 1 1 0 0 0 0 0 0]',\n",
       " '[0 0 0 0 0 0 1 1 1 1 1 1 1 1 1 1 1 1 1 1 1 1 1 0 0 0 0 0]',\n",
       " '[0 0 0 0 0 0 1 1 1 1 1 1 1 1 1 1 1 1 1 1 1 1 1 0 0 0 0 0]',\n",
       " '[0 0 0 0 0 0 1 1 1 1 1 1 1 1 1 1 1 1 1 1 1 1 1 0 0 0 0 0]',\n",
       " '[0 0 0 0 0 0 1 1 1 1 1 1 1 1 1 1 1 1 1 1 1 1 1 0 0 0 0 0]',\n",
       " '[0 0 0 0 0 0 1 1 1 1 1 1 1 1 1 1 1 1 1 1 1 1 1 0 0 0 0 0]',\n",
       " '[0 0 0 0 0 0 1 1 1 1 1 1 1 1 1 1 1 1 1 1 1 1 1 0 0 0 0 0]',\n",
       " '[0 0 0 0 0 0 1 0 1 0 1 1 1 0 0 0 0 0 0 0 0 0 0 0 0 0 0 0]']"
      ]
     },
     "execution_count": 62,
     "metadata": {},
     "output_type": "execute_result"
    }
   ],
   "source": [
    "# 將非0的數字轉為1，顯示第1張圖片\n",
    "data = x_train[3].copy()\n",
    "data[data>0]=1\n",
    "\n",
    "# 將轉換後二維內容顯示出來\n",
    "text_image=[]\n",
    "for i in range(data.shape[0]):\n",
    "    text_image.append(''.join(str(data[i])))\n",
    "text_image"
   ]
  },
  {
   "cell_type": "code",
   "execution_count": 4,
   "metadata": {},
   "outputs": [
    {
     "data": {
      "text/plain": [
       "<matplotlib.image.AxesImage at 0x1a221584dc8>"
      ]
     },
     "execution_count": 4,
     "metadata": {},
     "output_type": "execute_result"
    },
    {
     "data": {
      "image/png": "[encoded data removed]",
      "text/plain": [
       "<Figure size 432x288 with 1 Axes>"
      ]
     },
     "metadata": {
      "needs_background": "light"
     },
     "output_type": "display_data"
    }
   ],
   "source": [
    "# 將非0的數字轉為1\n",
    "img_index=3\n",
    "data = x_train[img_index].copy()\n",
    "data[data>0] = 1\n",
    "plt.imshow(data, cmap='gray')"
   ]
  },
  {
   "cell_type": "code",
   "execution_count": 5,
   "metadata": {},
   "outputs": [
    {
     "data": {
      "text/plain": [
       "<matplotlib.image.AxesImage at 0x1a2216934c8>"
      ]
     },
     "execution_count": 5,
     "metadata": {},
     "output_type": "execute_result"
    },
    {
     "data": {
      "image/png": "[encoded data removed]",
      "text/plain": [
       "<Figure size 432x288 with 1 Axes>"
      ]
     },
     "metadata": {
      "needs_background": "light"
     },
     "output_type": "display_data"
    }
   ],
   "source": [
    "img_index=3\n",
    "plt.imshow(x_train[img_index], cmap='gray')"
   ]
  },
  {
   "cell_type": "code",
   "execution_count": 6,
   "metadata": {
    "scrolled": true
   },
   "outputs": [
    {
     "data": {
      "text/plain": [
       "array([[0.        , 0.        , 0.        , 0.        , 0.        ,\n",
       "        0.        , 0.        , 0.        , 0.        , 0.        ,\n",
       "        0.        , 0.        , 0.        , 0.        , 0.        ,\n",
       "        0.        , 0.        , 0.        , 0.        , 0.        ,\n",
       "        0.        , 0.        , 0.        , 0.        , 0.        ,\n",
       "        0.        , 0.        , 0.        ],\n",
       "       [0.        , 0.        , 0.        , 0.        , 0.        ,\n",
       "        0.        , 0.        , 0.        , 0.        , 0.        ,\n",
       "        0.        , 0.        , 0.        , 0.        , 0.        ,\n",
       "        0.        , 0.        , 0.        , 0.        , 0.        ,\n",
       "        0.        , 0.        , 0.        , 0.        , 0.        ,\n",
       "        0.        , 0.        , 0.        ],\n",
       "       [0.        , 0.        , 0.        , 0.        , 0.        ,\n",
       "        0.        , 0.        , 0.        , 0.        , 0.        ,\n",
       "        0.        , 0.        , 0.        , 0.        , 0.        ,\n",
       "        0.        , 0.        , 0.        , 0.        , 0.        ,\n",
       "        0.        , 0.        , 0.        , 0.        , 0.        ,\n",
       "        0.        , 0.        , 0.        ],\n",
       "       [0.        , 0.        , 0.        , 0.        , 0.        ,\n",
       "        0.        , 0.        , 0.        , 0.        , 0.        ,\n",
       "        0.        , 0.        , 0.00392157, 0.        , 0.        ,\n",
       "        0.05098039, 0.28627452, 0.        , 0.        , 0.00392157,\n",
       "        0.01568628, 0.        , 0.        , 0.        , 0.        ,\n",
       "        0.00392157, 0.00392157, 0.        ],\n",
       "       [0.        , 0.        , 0.        , 0.        , 0.        ,\n",
       "        0.        , 0.        , 0.        , 0.        , 0.        ,\n",
       "        0.        , 0.        , 0.01176471, 0.        , 0.14117648,\n",
       "        0.53333336, 0.49803922, 0.24313726, 0.21176471, 0.        ,\n",
       "        0.        , 0.        , 0.00392157, 0.01176471, 0.01568628,\n",
       "        0.        , 0.        , 0.01176471],\n",
       "       [0.        , 0.        , 0.        , 0.        , 0.        ,\n",
       "        0.        , 0.        , 0.        , 0.        , 0.        ,\n",
       "        0.        , 0.        , 0.02352941, 0.        , 0.4       ,\n",
       "        0.8       , 0.6901961 , 0.5254902 , 0.5647059 , 0.48235294,\n",
       "        0.09019608, 0.        , 0.        , 0.        , 0.        ,\n",
       "        0.04705882, 0.03921569, 0.        ],\n",
       "       [0.        , 0.        , 0.        , 0.        , 0.        ,\n",
       "        0.        , 0.        , 0.        , 0.        , 0.        ,\n",
       "        0.        , 0.        , 0.        , 0.        , 0.60784316,\n",
       "        0.9254902 , 0.8117647 , 0.69803923, 0.41960785, 0.6117647 ,\n",
       "        0.6313726 , 0.42745098, 0.2509804 , 0.09019608, 0.3019608 ,\n",
       "        0.50980395, 0.28235295, 0.05882353],\n",
       "       [0.        , 0.        , 0.        , 0.        , 0.        ,\n",
       "        0.        , 0.        , 0.        , 0.        , 0.        ,\n",
       "        0.        , 0.00392157, 0.        , 0.27058825, 0.8117647 ,\n",
       "        0.8745098 , 0.85490197, 0.84705883, 0.84705883, 0.6392157 ,\n",
       "        0.49803922, 0.4745098 , 0.47843137, 0.57254905, 0.5529412 ,\n",
       "        0.34509805, 0.6745098 , 0.25882354],\n",
       "       [0.        , 0.        , 0.        , 0.        , 0.        ,\n",
       "        0.        , 0.        , 0.        , 0.        , 0.00392157,\n",
       "        0.00392157, 0.00392157, 0.        , 0.78431374, 0.9098039 ,\n",
       "        0.9098039 , 0.9137255 , 0.8980392 , 0.8745098 , 0.8745098 ,\n",
       "        0.84313726, 0.8352941 , 0.6431373 , 0.49803922, 0.48235294,\n",
       "        0.76862746, 0.8980392 , 0.        ],\n",
       "       [0.        , 0.        , 0.        , 0.        , 0.        ,\n",
       "        0.        , 0.        , 0.        , 0.        , 0.        ,\n",
       "        0.        , 0.        , 0.        , 0.7176471 , 0.88235295,\n",
       "        0.84705883, 0.8745098 , 0.89411765, 0.92156863, 0.8901961 ,\n",
       "        0.8784314 , 0.87058824, 0.8784314 , 0.8666667 , 0.8745098 ,\n",
       "        0.9607843 , 0.6784314 , 0.        ],\n",
       "       [0.        , 0.        , 0.        , 0.        , 0.        ,\n",
       "        0.        , 0.        , 0.        , 0.        , 0.        ,\n",
       "        0.        , 0.        , 0.        , 0.75686276, 0.89411765,\n",
       "        0.85490197, 0.8352941 , 0.7764706 , 0.7058824 , 0.83137256,\n",
       "        0.8235294 , 0.827451  , 0.8352941 , 0.8745098 , 0.8627451 ,\n",
       "        0.9529412 , 0.7921569 , 0.        ],\n",
       "       [0.        , 0.        , 0.        , 0.        , 0.        ,\n",
       "        0.        , 0.        , 0.        , 0.        , 0.00392157,\n",
       "        0.01176471, 0.        , 0.04705882, 0.85882354, 0.8627451 ,\n",
       "        0.83137256, 0.85490197, 0.7529412 , 0.6627451 , 0.8901961 ,\n",
       "        0.8156863 , 0.85490197, 0.8784314 , 0.83137256, 0.8862745 ,\n",
       "        0.77254903, 0.81960785, 0.20392157],\n",
       "       [0.        , 0.        , 0.        , 0.        , 0.        ,\n",
       "        0.        , 0.        , 0.        , 0.        , 0.        ,\n",
       "        0.02352941, 0.        , 0.3882353 , 0.95686275, 0.87058824,\n",
       "        0.8627451 , 0.85490197, 0.79607844, 0.7764706 , 0.8666667 ,\n",
       "        0.84313726, 0.8352941 , 0.87058824, 0.8627451 , 0.9607843 ,\n",
       "        0.46666667, 0.654902  , 0.21960784],\n",
       "       [0.        , 0.        , 0.        , 0.        , 0.        ,\n",
       "        0.        , 0.        , 0.        , 0.        , 0.01568628,\n",
       "        0.        , 0.        , 0.21568628, 0.9254902 , 0.89411765,\n",
       "        0.9019608 , 0.89411765, 0.9411765 , 0.9098039 , 0.8352941 ,\n",
       "        0.85490197, 0.8745098 , 0.91764706, 0.8509804 , 0.8509804 ,\n",
       "        0.81960785, 0.36078432, 0.        ],\n",
       "       [0.        , 0.        , 0.00392157, 0.01568628, 0.02352941,\n",
       "        0.02745098, 0.00784314, 0.        , 0.        , 0.        ,\n",
       "        0.        , 0.        , 0.92941177, 0.8862745 , 0.8509804 ,\n",
       "        0.8745098 , 0.87058824, 0.85882354, 0.87058824, 0.8666667 ,\n",
       "        0.84705883, 0.8745098 , 0.8980392 , 0.84313726, 0.85490197,\n",
       "        1.        , 0.3019608 , 0.        ],\n",
       "       [0.        , 0.01176471, 0.        , 0.        , 0.        ,\n",
       "        0.        , 0.        , 0.        , 0.        , 0.24313726,\n",
       "        0.5686275 , 0.8       , 0.89411765, 0.8117647 , 0.8352941 ,\n",
       "        0.8666667 , 0.85490197, 0.8156863 , 0.827451  , 0.85490197,\n",
       "        0.8784314 , 0.8745098 , 0.85882354, 0.84313726, 0.8784314 ,\n",
       "        0.95686275, 0.62352943, 0.        ],\n",
       "       [0.        , 0.        , 0.        , 0.        , 0.07058824,\n",
       "        0.17254902, 0.32156864, 0.41960785, 0.7411765 , 0.89411765,\n",
       "        0.8627451 , 0.87058824, 0.8509804 , 0.8862745 , 0.78431374,\n",
       "        0.8039216 , 0.827451  , 0.9019608 , 0.8784314 , 0.91764706,\n",
       "        0.6901961 , 0.7372549 , 0.98039216, 0.972549  , 0.9137255 ,\n",
       "        0.93333334, 0.84313726, 0.        ],\n",
       "       [0.        , 0.22352941, 0.73333335, 0.8156863 , 0.8784314 ,\n",
       "        0.8666667 , 0.8784314 , 0.8156863 , 0.8       , 0.8392157 ,\n",
       "        0.8156863 , 0.81960785, 0.78431374, 0.62352943, 0.9607843 ,\n",
       "        0.75686276, 0.80784315, 0.8745098 , 1.        , 1.        ,\n",
       "        0.8666667 , 0.91764706, 0.8666667 , 0.827451  , 0.8627451 ,\n",
       "        0.9098039 , 0.9647059 , 0.        ],\n",
       "       [0.01176471, 0.7921569 , 0.89411765, 0.8784314 , 0.8666667 ,\n",
       "        0.827451  , 0.827451  , 0.8392157 , 0.8039216 , 0.8039216 ,\n",
       "        0.8039216 , 0.8627451 , 0.9411765 , 0.3137255 , 0.5882353 ,\n",
       "        1.        , 0.8980392 , 0.8666667 , 0.7372549 , 0.6039216 ,\n",
       "        0.7490196 , 0.8235294 , 0.8       , 0.81960785, 0.87058824,\n",
       "        0.89411765, 0.88235295, 0.        ],\n",
       "       [0.38431373, 0.9137255 , 0.7764706 , 0.8235294 , 0.87058824,\n",
       "        0.8980392 , 0.8980392 , 0.91764706, 0.9764706 , 0.8627451 ,\n",
       "        0.7607843 , 0.84313726, 0.8509804 , 0.94509804, 0.25490198,\n",
       "        0.28627452, 0.41568628, 0.45882353, 0.65882355, 0.85882354,\n",
       "        0.8666667 , 0.84313726, 0.8509804 , 0.8745098 , 0.8745098 ,\n",
       "        0.8784314 , 0.8980392 , 0.11372549],\n",
       "       [0.29411766, 0.8       , 0.83137256, 0.8       , 0.75686276,\n",
       "        0.8039216 , 0.827451  , 0.88235295, 0.84705883, 0.7254902 ,\n",
       "        0.77254903, 0.80784315, 0.7764706 , 0.8352941 , 0.9411765 ,\n",
       "        0.7647059 , 0.8901961 , 0.9607843 , 0.9372549 , 0.8745098 ,\n",
       "        0.85490197, 0.83137256, 0.81960785, 0.87058824, 0.8627451 ,\n",
       "        0.8666667 , 0.9019608 , 0.2627451 ],\n",
       "       [0.1882353 , 0.79607844, 0.7176471 , 0.7607843 , 0.8352941 ,\n",
       "        0.77254903, 0.7254902 , 0.74509805, 0.7607843 , 0.7529412 ,\n",
       "        0.7921569 , 0.8392157 , 0.85882354, 0.8666667 , 0.8627451 ,\n",
       "        0.9254902 , 0.88235295, 0.84705883, 0.78039217, 0.80784315,\n",
       "        0.7294118 , 0.70980394, 0.69411767, 0.6745098 , 0.70980394,\n",
       "        0.8039216 , 0.80784315, 0.4509804 ],\n",
       "       [0.        , 0.47843137, 0.85882354, 0.75686276, 0.7019608 ,\n",
       "        0.67058825, 0.7176471 , 0.76862746, 0.8       , 0.8235294 ,\n",
       "        0.8352941 , 0.8117647 , 0.827451  , 0.8235294 , 0.78431374,\n",
       "        0.76862746, 0.7607843 , 0.7490196 , 0.7647059 , 0.7490196 ,\n",
       "        0.7764706 , 0.7529412 , 0.6901961 , 0.6117647 , 0.654902  ,\n",
       "        0.69411767, 0.8235294 , 0.36078432],\n",
       "       [0.        , 0.        , 0.2901961 , 0.7411765 , 0.83137256,\n",
       "        0.7490196 , 0.6862745 , 0.6745098 , 0.6862745 , 0.70980394,\n",
       "        0.7254902 , 0.7372549 , 0.7411765 , 0.7372549 , 0.75686276,\n",
       "        0.7764706 , 0.8       , 0.81960785, 0.8235294 , 0.8235294 ,\n",
       "        0.827451  , 0.7372549 , 0.7372549 , 0.7607843 , 0.7529412 ,\n",
       "        0.84705883, 0.6666667 , 0.        ],\n",
       "       [0.00784314, 0.        , 0.        , 0.        , 0.25882354,\n",
       "        0.78431374, 0.87058824, 0.92941177, 0.9372549 , 0.9490196 ,\n",
       "        0.9647059 , 0.9529412 , 0.95686275, 0.8666667 , 0.8627451 ,\n",
       "        0.75686276, 0.7490196 , 0.7019608 , 0.7137255 , 0.7137255 ,\n",
       "        0.70980394, 0.6901961 , 0.6509804 , 0.65882355, 0.3882353 ,\n",
       "        0.22745098, 0.        , 0.        ],\n",
       "       [0.        , 0.        , 0.        , 0.        , 0.        ,\n",
       "        0.        , 0.        , 0.15686275, 0.23921569, 0.17254902,\n",
       "        0.28235295, 0.16078432, 0.13725491, 0.        , 0.        ,\n",
       "        0.        , 0.        , 0.        , 0.        , 0.        ,\n",
       "        0.        , 0.        , 0.        , 0.        , 0.        ,\n",
       "        0.        , 0.        , 0.        ],\n",
       "       [0.        , 0.        , 0.        , 0.        , 0.        ,\n",
       "        0.        , 0.        , 0.        , 0.        , 0.        ,\n",
       "        0.        , 0.        , 0.        , 0.        , 0.        ,\n",
       "        0.        , 0.        , 0.        , 0.        , 0.        ,\n",
       "        0.        , 0.        , 0.        , 0.        , 0.        ,\n",
       "        0.        , 0.        , 0.        ],\n",
       "       [0.        , 0.        , 0.        , 0.        , 0.        ,\n",
       "        0.        , 0.        , 0.        , 0.        , 0.        ,\n",
       "        0.        , 0.        , 0.        , 0.        , 0.        ,\n",
       "        0.        , 0.        , 0.        , 0.        , 0.        ,\n",
       "        0.        , 0.        , 0.        , 0.        , 0.        ,\n",
       "        0.        , 0.        , 0.        ]], dtype=float32)"
      ]
     },
     "execution_count": 6,
     "metadata": {},
     "output_type": "execute_result"
    }
   ],
   "source": [
    "x_train = x_train.astype('float32') / 255\n",
    "x_test = x_test.astype('float32') / 255\n",
    "x_train[0]"
   ]
  },
  {
   "cell_type": "code",
   "execution_count": 35,
   "metadata": {},
   "outputs": [
    {
     "name": "stdout",
     "output_type": "stream",
     "text": [
      "Model: \"sequential_5\"\n",
      "_________________________________________________________________\n",
      "Layer (type)                 Output Shape              Param #   \n",
      "=================================================================\n",
      "conv2d_10 (Conv2D)           (None, 28, 28, 64)        320       \n",
      "_________________________________________________________________\n",
      "max_pooling2d_10 (MaxPooling (None, 14, 14, 64)        0         \n",
      "_________________________________________________________________\n",
      "dropout_15 (Dropout)         (None, 14, 14, 64)        0         \n",
      "_________________________________________________________________\n",
      "conv2d_11 (Conv2D)           (None, 14, 14, 32)        8224      \n",
      "_________________________________________________________________\n",
      "max_pooling2d_11 (MaxPooling (None, 7, 7, 32)          0         \n",
      "_________________________________________________________________\n",
      "dropout_16 (Dropout)         (None, 7, 7, 32)          0         \n",
      "_________________________________________________________________\n",
      "flatten_5 (Flatten)          (None, 1568)              0         \n",
      "_________________________________________________________________\n",
      "dense_10 (Dense)             (None, 256)               401664    \n",
      "_________________________________________________________________\n",
      "dropout_17 (Dropout)         (None, 256)               0         \n",
      "_________________________________________________________________\n",
      "dense_11 (Dense)             (None, 10)                2570      \n",
      "=================================================================\n",
      "Total params: 412,778\n",
      "Trainable params: 412,778\n",
      "Non-trainable params: 0\n",
      "_________________________________________________________________\n"
     ]
    }
   ],
   "source": [
    "model = tf.keras.Sequential()\n",
    "# Must define the input shape in the first layer of the neural network\n",
    "model.add(tf.keras.layers.Conv2D(filters=64, kernel_size=2, padding='same', activation='relu', input_shape=(28,28,1)))\n",
    "# model.add(tf.keras.layers.Conv2D(filters=64, kernel_size=2, padding='same', activation='relu'))\n",
    "model.add(tf.keras.layers.MaxPooling2D(pool_size=2))\n",
    "model.add(tf.keras.layers.Dropout(0.3))\n",
    "\n",
    "model.add(tf.keras.layers.Conv2D(filters=32, kernel_size=2, padding='same', activation='relu'))\n",
    "model.add(tf.keras.layers.MaxPooling2D(pool_size=2))\n",
    "model.add(tf.keras.layers.Dropout(0.3))\n",
    "\n",
    "model.add(tf.keras.layers.Flatten())\n",
    "model.add(tf.keras.layers.Dense(256, activation='relu'))\n",
    "model.add(tf.keras.layers.Dropout(0.5))\n",
    "model.add(tf.keras.layers.Dense(10, activation='softmax'))\n",
    "# Take a look at the model summary\n",
    "model.summary()"
   ]
  },
  {
   "cell_type": "code",
   "execution_count": 36,
   "metadata": {},
   "outputs": [
    {
     "data": {
      "text/plain": [
       "(320, 8224)"
      ]
     },
     "execution_count": 36,
     "metadata": {},
     "output_type": "execute_result"
    }
   ],
   "source": [
    "# Param #\n",
    "(1 * (2 * 2) + 1) * 64, (64 * (2 * 2) + 1) * 32"
   ]
  },
  {
   "cell_type": "code",
   "execution_count": 37,
   "metadata": {},
   "outputs": [],
   "source": [
    "model.compile(loss='CategoricalCrossentropy', # loss='mse', 'CategoricalCrossentropy'\n",
    "              optimizer='adam',\n",
    "              metrics=['accuracy'])"
   ]
  },
  {
   "cell_type": "code",
   "execution_count": 10,
   "metadata": {},
   "outputs": [
    {
     "name": "stdout",
     "output_type": "stream",
     "text": [
      "(60000, 28, 28, 1)\n"
     ]
    }
   ],
   "source": [
    "# Method 1\n",
    "# x_train=x_train.reshape(x_train.shape[0],x_train.shape[1],x_train.shape[2],1)\n",
    "# x_test=x_test.reshape(x_test.shape[0],x_test.shape[1],x_test.shape[2],1)\n",
    "\n",
    "# Method 2\n",
    "x_train = x_train[:, :, :, np.newaxis]\n",
    "x_test = x_test[:, :, :, np.newaxis]\n",
    "\n",
    "print(x_train.shape)"
   ]
  },
  {
   "cell_type": "code",
   "execution_count": 11,
   "metadata": {},
   "outputs": [
    {
     "data": {
      "text/plain": [
       "array([[0., 0., 0., ..., 0., 0., 1.],\n",
       "       [1., 0., 0., ..., 0., 0., 0.],\n",
       "       [1., 0., 0., ..., 0., 0., 0.],\n",
       "       ...,\n",
       "       [0., 0., 0., ..., 0., 0., 0.],\n",
       "       [1., 0., 0., ..., 0., 0., 0.],\n",
       "       [0., 0., 0., ..., 0., 0., 0.]], dtype=float32)"
      ]
     },
     "execution_count": 11,
     "metadata": {},
     "output_type": "execute_result"
    }
   ],
   "source": [
    "from keras.utils import np_utils # 用來後續將 label 標籤轉為 one-hot-encoding  \n",
    "\n",
    "y_train = np_utils.to_categorical(y_train)\n",
    "y_test = np_utils.to_categorical(y_test)\n",
    "y_train"
   ]
  },
  {
   "cell_type": "code",
   "execution_count": 12,
   "metadata": {},
   "outputs": [
    {
     "data": {
      "text/plain": [
       "(60000, 10)"
      ]
     },
     "execution_count": 12,
     "metadata": {},
     "output_type": "execute_result"
    }
   ],
   "source": [
    "y_train.shape"
   ]
  },
  {
   "cell_type": "code",
   "execution_count": null,
   "metadata": {},
   "outputs": [],
   "source": []
  },
  {
   "cell_type": "markdown",
   "metadata": {},
   "source": [
    "## Dataset 1: No ImageDataGenerator"
   ]
  },
  {
   "cell_type": "code",
   "execution_count": 13,
   "metadata": {},
   "outputs": [
    {
     "data": {
      "text/plain": [
       "48.0"
      ]
     },
     "execution_count": 13,
     "metadata": {},
     "output_type": "execute_result"
    }
   ],
   "source": [
    "60000 * (1 - 0.2) / 1000"
   ]
  },
  {
   "cell_type": "code",
   "execution_count": 19,
   "metadata": {
    "scrolled": false
   },
   "outputs": [
    {
     "name": "stdout",
     "output_type": "stream",
     "text": [
      "Epoch 1/50\n",
      "48/48 [==============================] - 2s 26ms/step - loss: 1.1104 - accuracy: 0.5868 - val_loss: 0.6422 - val_accuracy: 0.7649\n",
      "Epoch 2/50\n",
      "48/48 [==============================] - 1s 24ms/step - loss: 0.6194 - accuracy: 0.7684 - val_loss: 0.4958 - val_accuracy: 0.8202\n",
      "Epoch 3/50\n",
      "48/48 [==============================] - 1s 24ms/step - loss: 0.5218 - accuracy: 0.8093 - val_loss: 0.4447 - val_accuracy: 0.8418\n",
      "Epoch 4/50\n",
      "48/48 [==============================] - 1s 24ms/step - loss: 0.4735 - accuracy: 0.8270 - val_loss: 0.4136 - val_accuracy: 0.8481\n",
      "Epoch 5/50\n",
      "48/48 [==============================] - 1s 24ms/step - loss: 0.4440 - accuracy: 0.8393 - val_loss: 0.3810 - val_accuracy: 0.8622\n",
      "Epoch 6/50\n",
      "48/48 [==============================] - 1s 24ms/step - loss: 0.4236 - accuracy: 0.8462 - val_loss: 0.3584 - val_accuracy: 0.8712\n",
      "Epoch 7/50\n",
      "48/48 [==============================] - 1s 24ms/step - loss: 0.4025 - accuracy: 0.8541 - val_loss: 0.3457 - val_accuracy: 0.8763\n",
      "Epoch 8/50\n",
      "48/48 [==============================] - 1s 24ms/step - loss: 0.3874 - accuracy: 0.8598 - val_loss: 0.3291 - val_accuracy: 0.8832\n",
      "Epoch 9/50\n",
      "48/48 [==============================] - 1s 24ms/step - loss: 0.3761 - accuracy: 0.8637 - val_loss: 0.3269 - val_accuracy: 0.8814\n",
      "Epoch 10/50\n",
      "48/48 [==============================] - 1s 24ms/step - loss: 0.3700 - accuracy: 0.8663 - val_loss: 0.3146 - val_accuracy: 0.8865\n",
      "Epoch 11/50\n",
      "48/48 [==============================] - 1s 24ms/step - loss: 0.3577 - accuracy: 0.8693 - val_loss: 0.3095 - val_accuracy: 0.8877\n",
      "Epoch 12/50\n",
      "48/48 [==============================] - 1s 24ms/step - loss: 0.3479 - accuracy: 0.8736 - val_loss: 0.3007 - val_accuracy: 0.8895\n",
      "Epoch 13/50\n",
      "48/48 [==============================] - 1s 24ms/step - loss: 0.3419 - accuracy: 0.8758 - val_loss: 0.2942 - val_accuracy: 0.8925\n",
      "Epoch 14/50\n",
      "48/48 [==============================] - 1s 24ms/step - loss: 0.3326 - accuracy: 0.8785 - val_loss: 0.2924 - val_accuracy: 0.8938\n",
      "Epoch 15/50\n",
      "48/48 [==============================] - 1s 24ms/step - loss: 0.3277 - accuracy: 0.8804 - val_loss: 0.2858 - val_accuracy: 0.8974\n",
      "Epoch 16/50\n",
      "48/48 [==============================] - 1s 24ms/step - loss: 0.3211 - accuracy: 0.8826 - val_loss: 0.2810 - val_accuracy: 0.8977\n",
      "Epoch 17/50\n",
      "48/48 [==============================] - 1s 24ms/step - loss: 0.3167 - accuracy: 0.8845 - val_loss: 0.2806 - val_accuracy: 0.8972\n",
      "Epoch 18/50\n",
      "48/48 [==============================] - 1s 24ms/step - loss: 0.3112 - accuracy: 0.8875 - val_loss: 0.2760 - val_accuracy: 0.9007\n",
      "Epoch 19/50\n",
      "48/48 [==============================] - 1s 25ms/step - loss: 0.3092 - accuracy: 0.8870 - val_loss: 0.2684 - val_accuracy: 0.9026\n",
      "Epoch 20/50\n",
      "48/48 [==============================] - 1s 25ms/step - loss: 0.3015 - accuracy: 0.8890 - val_loss: 0.2670 - val_accuracy: 0.9022\n",
      "Epoch 21/50\n",
      "48/48 [==============================] - 1s 25ms/step - loss: 0.2975 - accuracy: 0.8914 - val_loss: 0.2686 - val_accuracy: 0.9013\n",
      "Epoch 22/50\n",
      "48/48 [==============================] - 1s 25ms/step - loss: 0.2951 - accuracy: 0.8912 - val_loss: 0.2622 - val_accuracy: 0.9060\n",
      "Epoch 23/50\n",
      "48/48 [==============================] - 1s 28ms/step - loss: 0.2891 - accuracy: 0.8940 - val_loss: 0.2556 - val_accuracy: 0.9063\n",
      "Epoch 24/50\n",
      "48/48 [==============================] - 1s 25ms/step - loss: 0.2861 - accuracy: 0.8960 - val_loss: 0.2545 - val_accuracy: 0.9064\n",
      "Epoch 25/50\n",
      "48/48 [==============================] - 1s 27ms/step - loss: 0.2857 - accuracy: 0.8957 - val_loss: 0.2526 - val_accuracy: 0.9066\n",
      "Epoch 26/50\n",
      "48/48 [==============================] - 1s 27ms/step - loss: 0.2807 - accuracy: 0.8967 - val_loss: 0.2527 - val_accuracy: 0.9082\n",
      "Epoch 27/50\n",
      "48/48 [==============================] - 1s 26ms/step - loss: 0.2757 - accuracy: 0.8979 - val_loss: 0.2504 - val_accuracy: 0.9085\n",
      "Epoch 28/50\n",
      "48/48 [==============================] - 1s 25ms/step - loss: 0.2760 - accuracy: 0.8991 - val_loss: 0.2470 - val_accuracy: 0.9094\n",
      "Epoch 29/50\n",
      "48/48 [==============================] - 1s 25ms/step - loss: 0.2723 - accuracy: 0.9009 - val_loss: 0.2492 - val_accuracy: 0.9105\n",
      "Epoch 30/50\n",
      "48/48 [==============================] - 1s 24ms/step - loss: 0.2682 - accuracy: 0.9012 - val_loss: 0.2469 - val_accuracy: 0.9099\n",
      "Epoch 31/50\n",
      "48/48 [==============================] - 1s 24ms/step - loss: 0.2663 - accuracy: 0.9033 - val_loss: 0.2430 - val_accuracy: 0.9126\n",
      "Epoch 32/50\n",
      "48/48 [==============================] - 1s 24ms/step - loss: 0.2619 - accuracy: 0.9028 - val_loss: 0.2465 - val_accuracy: 0.9115\n",
      "Epoch 33/50\n",
      "48/48 [==============================] - 1s 25ms/step - loss: 0.2589 - accuracy: 0.9050 - val_loss: 0.2411 - val_accuracy: 0.9137\n",
      "Epoch 34/50\n",
      "48/48 [==============================] - 1s 24ms/step - loss: 0.2581 - accuracy: 0.9038 - val_loss: 0.2387 - val_accuracy: 0.9138\n",
      "Epoch 35/50\n",
      "48/48 [==============================] - 1s 24ms/step - loss: 0.2579 - accuracy: 0.9047 - val_loss: 0.2353 - val_accuracy: 0.9153\n",
      "Epoch 36/50\n",
      "48/48 [==============================] - 1s 24ms/step - loss: 0.2527 - accuracy: 0.9062 - val_loss: 0.2369 - val_accuracy: 0.9136\n",
      "Epoch 37/50\n",
      "48/48 [==============================] - 1s 24ms/step - loss: 0.2526 - accuracy: 0.9064 - val_loss: 0.2350 - val_accuracy: 0.9145\n",
      "Epoch 38/50\n",
      "48/48 [==============================] - 1s 24ms/step - loss: 0.2507 - accuracy: 0.9065 - val_loss: 0.2341 - val_accuracy: 0.9147\n",
      "Epoch 39/50\n",
      "48/48 [==============================] - 1s 24ms/step - loss: 0.2441 - accuracy: 0.9098 - val_loss: 0.2306 - val_accuracy: 0.9172\n",
      "Epoch 40/50\n",
      "48/48 [==============================] - 1s 24ms/step - loss: 0.2438 - accuracy: 0.9085 - val_loss: 0.2342 - val_accuracy: 0.9134\n",
      "Epoch 41/50\n",
      "48/48 [==============================] - 1s 25ms/step - loss: 0.2476 - accuracy: 0.9086 - val_loss: 0.2315 - val_accuracy: 0.9171\n",
      "Epoch 42/50\n",
      "48/48 [==============================] - 1s 24ms/step - loss: 0.2388 - accuracy: 0.9120 - val_loss: 0.2264 - val_accuracy: 0.9168\n",
      "Epoch 43/50\n",
      "48/48 [==============================] - 1s 25ms/step - loss: 0.2360 - accuracy: 0.9120 - val_loss: 0.2272 - val_accuracy: 0.9172\n",
      "Epoch 44/50\n",
      "48/48 [==============================] - 1s 25ms/step - loss: 0.2339 - accuracy: 0.9137 - val_loss: 0.2253 - val_accuracy: 0.9177\n",
      "Epoch 45/50\n",
      "48/48 [==============================] - 1s 24ms/step - loss: 0.2371 - accuracy: 0.9120 - val_loss: 0.2245 - val_accuracy: 0.9175\n",
      "Epoch 46/50\n",
      "48/48 [==============================] - 1s 24ms/step - loss: 0.2314 - accuracy: 0.9147 - val_loss: 0.2236 - val_accuracy: 0.9196\n",
      "Epoch 47/50\n",
      "48/48 [==============================] - 1s 24ms/step - loss: 0.2316 - accuracy: 0.9128 - val_loss: 0.2257 - val_accuracy: 0.9167\n",
      "Epoch 48/50\n",
      "48/48 [==============================] - 1s 24ms/step - loss: 0.2281 - accuracy: 0.9143 - val_loss: 0.2226 - val_accuracy: 0.9180\n",
      "Epoch 49/50\n",
      "48/48 [==============================] - 1s 24ms/step - loss: 0.2258 - accuracy: 0.9166 - val_loss: 0.2237 - val_accuracy: 0.9192\n",
      "Epoch 50/50\n",
      "48/48 [==============================] - 1s 24ms/step - loss: 0.2232 - accuracy: 0.9164 - val_loss: 0.2181 - val_accuracy: 0.9197\n"
     ]
    }
   ],
   "source": [
    "history = model.fit(x_train,\n",
    "                    y_train,\n",
    "                    batch_size=1000,\n",
    "                    epochs=50,\n",
    "                    validation_split=0.2)"
   ]
  },
  {
   "cell_type": "code",
   "execution_count": null,
   "metadata": {},
   "outputs": [],
   "source": []
  },
  {
   "cell_type": "markdown",
   "metadata": {},
   "source": [
    "## Dataset 2: With ImageDataGenerator"
   ]
  },
  {
   "cell_type": "code",
   "execution_count": 49,
   "metadata": {
    "scrolled": false
   },
   "outputs": [
    {
     "name": "stdout",
     "output_type": "stream",
     "text": [
      "Epoch 1/50\n",
      "24/24 [==============================] - 10s 412ms/step - loss: 0.3594 - accuracy: 0.8670 - val_loss: 0.2880 - val_accuracy: 0.8962\n",
      "Epoch 2/50\n",
      "24/24 [==============================] - 10s 411ms/step - loss: 0.3601 - accuracy: 0.8668 - val_loss: 0.2871 - val_accuracy: 0.8975\n",
      "Epoch 3/50\n",
      "24/24 [==============================] - 10s 408ms/step - loss: 0.3618 - accuracy: 0.8667 - val_loss: 0.2791 - val_accuracy: 0.8982\n",
      "Epoch 4/50\n",
      "24/24 [==============================] - 10s 411ms/step - loss: 0.3582 - accuracy: 0.8674 - val_loss: 0.2875 - val_accuracy: 0.8891\n",
      "Epoch 5/50\n",
      "24/24 [==============================] - 10s 435ms/step - loss: 0.3624 - accuracy: 0.8649 - val_loss: 0.2861 - val_accuracy: 0.8942\n",
      "Epoch 6/50\n",
      "24/24 [==============================] - 11s 451ms/step - loss: 0.3545 - accuracy: 0.8684 - val_loss: 0.2820 - val_accuracy: 0.8947\n",
      "Epoch 7/50\n",
      "24/24 [==============================] - 11s 458ms/step - loss: 0.3613 - accuracy: 0.8677 - val_loss: 0.2835 - val_accuracy: 0.8926\n",
      "Epoch 8/50\n",
      "24/24 [==============================] - 10s 432ms/step - loss: 0.3576 - accuracy: 0.8694 - val_loss: 0.2832 - val_accuracy: 0.8946\n",
      "Epoch 9/50\n",
      "24/24 [==============================] - 11s 450ms/step - loss: 0.3604 - accuracy: 0.8669 - val_loss: 0.2967 - val_accuracy: 0.8898\n",
      "Epoch 10/50\n",
      "24/24 [==============================] - 10s 440ms/step - loss: 0.3588 - accuracy: 0.8693 - val_loss: 0.2806 - val_accuracy: 0.8957\n",
      "Epoch 11/50\n",
      "24/24 [==============================] - 10s 422ms/step - loss: 0.3600 - accuracy: 0.8664 - val_loss: 0.2844 - val_accuracy: 0.8938\n",
      "Epoch 12/50\n",
      "24/24 [==============================] - 10s 419ms/step - loss: 0.3599 - accuracy: 0.8670 - val_loss: 0.2840 - val_accuracy: 0.8940\n",
      "Epoch 13/50\n",
      "24/24 [==============================] - 10s 418ms/step - loss: 0.3572 - accuracy: 0.8689 - val_loss: 0.2884 - val_accuracy: 0.8900\n",
      "Epoch 14/50\n",
      "24/24 [==============================] - 10s 425ms/step - loss: 0.3578 - accuracy: 0.8681 - val_loss: 0.2772 - val_accuracy: 0.8989\n",
      "Epoch 15/50\n",
      "24/24 [==============================] - 10s 430ms/step - loss: 0.3535 - accuracy: 0.8707 - val_loss: 0.2864 - val_accuracy: 0.8932\n",
      "Epoch 16/50\n",
      "24/24 [==============================] - 10s 424ms/step - loss: 0.3581 - accuracy: 0.8666 - val_loss: 0.2840 - val_accuracy: 0.8945\n",
      "Epoch 17/50\n",
      "24/24 [==============================] - 10s 424ms/step - loss: 0.3568 - accuracy: 0.8656 - val_loss: 0.2760 - val_accuracy: 0.8973\n",
      "Epoch 18/50\n",
      "24/24 [==============================] - 10s 416ms/step - loss: 0.3577 - accuracy: 0.8679 - val_loss: 0.2821 - val_accuracy: 0.8934\n",
      "Epoch 19/50\n",
      "24/24 [==============================] - 10s 413ms/step - loss: 0.3542 - accuracy: 0.8697 - val_loss: 0.2790 - val_accuracy: 0.8961\n",
      "Epoch 20/50\n",
      "24/24 [==============================] - 10s 420ms/step - loss: 0.3524 - accuracy: 0.8694 - val_loss: 0.2812 - val_accuracy: 0.8969\n",
      "Epoch 21/50\n",
      "24/24 [==============================] - 10s 432ms/step - loss: 0.3512 - accuracy: 0.8706 - val_loss: 0.2853 - val_accuracy: 0.8925\n",
      "Epoch 22/50\n",
      "24/24 [==============================] - 10s 424ms/step - loss: 0.3561 - accuracy: 0.8692 - val_loss: 0.2820 - val_accuracy: 0.8972\n",
      "Epoch 23/50\n",
      "24/24 [==============================] - 10s 434ms/step - loss: 0.3515 - accuracy: 0.8700 - val_loss: 0.2789 - val_accuracy: 0.8997\n",
      "Epoch 24/50\n",
      "24/24 [==============================] - 10s 424ms/step - loss: 0.3504 - accuracy: 0.8699 - val_loss: 0.2793 - val_accuracy: 0.8984\n",
      "Epoch 25/50\n",
      "24/24 [==============================] - 10s 420ms/step - loss: 0.3507 - accuracy: 0.8690 - val_loss: 0.2764 - val_accuracy: 0.8994\n",
      "Epoch 26/50\n",
      "24/24 [==============================] - 10s 422ms/step - loss: 0.3522 - accuracy: 0.8701 - val_loss: 0.2777 - val_accuracy: 0.8971\n",
      "Epoch 27/50\n",
      "24/24 [==============================] - 10s 421ms/step - loss: 0.3520 - accuracy: 0.8703 - val_loss: 0.2788 - val_accuracy: 0.8948\n",
      "Epoch 28/50\n",
      "24/24 [==============================] - 10s 423ms/step - loss: 0.3487 - accuracy: 0.8702 - val_loss: 0.2735 - val_accuracy: 0.9003\n",
      "Epoch 29/50\n",
      "24/24 [==============================] - 10s 436ms/step - loss: 0.3511 - accuracy: 0.8699 - val_loss: 0.2762 - val_accuracy: 0.8973\n",
      "Epoch 30/50\n",
      "24/24 [==============================] - 11s 443ms/step - loss: 0.3509 - accuracy: 0.8713 - val_loss: 0.2778 - val_accuracy: 0.8982\n",
      "Epoch 31/50\n",
      "24/24 [==============================] - 10s 427ms/step - loss: 0.3497 - accuracy: 0.8704 - val_loss: 0.2760 - val_accuracy: 0.8981\n",
      "Epoch 32/50\n",
      "24/24 [==============================] - 10s 429ms/step - loss: 0.3522 - accuracy: 0.8712 - val_loss: 0.2822 - val_accuracy: 0.8951\n",
      "Epoch 33/50\n",
      "24/24 [==============================] - 10s 433ms/step - loss: 0.3519 - accuracy: 0.8716 - val_loss: 0.2800 - val_accuracy: 0.8974\n",
      "Epoch 34/50\n",
      "24/24 [==============================] - 10s 425ms/step - loss: 0.3482 - accuracy: 0.8706 - val_loss: 0.2787 - val_accuracy: 0.8967\n",
      "Epoch 35/50\n",
      "24/24 [==============================] - 10s 425ms/step - loss: 0.3463 - accuracy: 0.8712 - val_loss: 0.2831 - val_accuracy: 0.8964\n",
      "Epoch 36/50\n",
      "24/24 [==============================] - 10s 438ms/step - loss: 0.3516 - accuracy: 0.8709 - val_loss: 0.2737 - val_accuracy: 0.8966\n",
      "Epoch 37/50\n",
      "24/24 [==============================] - 10s 423ms/step - loss: 0.3490 - accuracy: 0.8714 - val_loss: 0.2714 - val_accuracy: 0.8992\n",
      "Epoch 38/50\n",
      "24/24 [==============================] - 10s 418ms/step - loss: 0.3529 - accuracy: 0.8702 - val_loss: 0.2768 - val_accuracy: 0.8992\n",
      "Epoch 39/50\n",
      "24/24 [==============================] - 11s 452ms/step - loss: 0.3456 - accuracy: 0.8714 - val_loss: 0.2753 - val_accuracy: 0.8982\n",
      "Epoch 40/50\n",
      "24/24 [==============================] - 10s 428ms/step - loss: 0.3449 - accuracy: 0.8727 - val_loss: 0.2783 - val_accuracy: 0.8966\n",
      "Epoch 41/50\n",
      "24/24 [==============================] - 11s 442ms/step - loss: 0.3467 - accuracy: 0.8725 - val_loss: 0.2720 - val_accuracy: 0.9011\n",
      "Epoch 42/50\n",
      "24/24 [==============================] - 10s 426ms/step - loss: 0.3442 - accuracy: 0.8736 - val_loss: 0.2698 - val_accuracy: 0.9005\n",
      "Epoch 43/50\n",
      "24/24 [==============================] - 10s 436ms/step - loss: 0.3444 - accuracy: 0.8719 - val_loss: 0.2785 - val_accuracy: 0.8961\n",
      "Epoch 44/50\n",
      "24/24 [==============================] - 11s 445ms/step - loss: 0.3508 - accuracy: 0.8712 - val_loss: 0.2737 - val_accuracy: 0.9017\n",
      "Epoch 45/50\n",
      "24/24 [==============================] - 11s 444ms/step - loss: 0.3465 - accuracy: 0.8723 - val_loss: 0.2733 - val_accuracy: 0.8999\n",
      "Epoch 46/50\n",
      "24/24 [==============================] - 11s 441ms/step - loss: 0.3444 - accuracy: 0.8727 - val_loss: 0.2715 - val_accuracy: 0.9023\n",
      "Epoch 47/50\n",
      "24/24 [==============================] - 10s 421ms/step - loss: 0.3465 - accuracy: 0.8719 - val_loss: 0.2767 - val_accuracy: 0.8992\n",
      "Epoch 48/50\n",
      "24/24 [==============================] - 10s 435ms/step - loss: 0.3445 - accuracy: 0.8724 - val_loss: 0.2717 - val_accuracy: 0.8989\n",
      "Epoch 49/50\n",
      "24/24 [==============================] - 10s 413ms/step - loss: 0.3421 - accuracy: 0.8736 - val_loss: 0.2669 - val_accuracy: 0.9007\n",
      "Epoch 50/50\n",
      "24/24 [==============================] - 10s 417ms/step - loss: 0.3445 - accuracy: 0.8732 - val_loss: 0.2709 - val_accuracy: 0.9006\n"
     ]
    }
   ],
   "source": [
    "from tensorflow.keras.preprocessing.image import ImageDataGenerator\n",
    "datagen = ImageDataGenerator(rotation_range=10,\n",
    "                             zoom_range=0.1,\n",
    "                             width_shift_range=0.1,\n",
    "                             height_shift_range=0.1,\n",
    "                             horizontal_flip=True,\n",
    "                             validation_split=0.2) # Add validation_split -> subset='training' or 'validation'\n",
    "\n",
    "history = model.fit(datagen.flow(x_train, y_train, batch_size=2000, subset='training'),\n",
    "                    epochs=200,\n",
    "                    validation_data=datagen.flow(x_train, y_train, batch_size=250, subset='validation'))"
   ]
  },
  {
   "cell_type": "code",
   "execution_count": null,
   "metadata": {},
   "outputs": [],
   "source": []
  },
  {
   "cell_type": "code",
   "execution_count": 50,
   "metadata": {},
   "outputs": [
    {
     "name": "stdout",
     "output_type": "stream",
     "text": [
      "313/313 - 1s - loss: 0.2574 - accuracy: 0.9092\n",
      "\n",
      " Test accuracy: 0.909\n"
     ]
    }
   ],
   "source": [
    "# Evaluate the model on test set\n",
    "score = model.evaluate(x_test, y_test, verbose=2) # verbose=0, 1, 2\n",
    "# Print test accuracy\n",
    "print('\\n', f'Test accuracy: {score[1]:.3f}')"
   ]
  },
  {
   "cell_type": "code",
   "execution_count": 51,
   "metadata": {},
   "outputs": [
    {
     "data": {
      "text/plain": [
       "<matplotlib.legend.Legend at 0x1a5173e6048>"
      ]
     },
     "execution_count": 51,
     "metadata": {},
     "output_type": "execute_result"
    },
    {
     "data": {
      "image/png": "[encoded data removed]",
      "text/plain": [
       "<Figure size 432x288 with 1 Axes>"
      ]
     },
     "metadata": {
      "needs_background": "light"
     },
     "output_type": "display_data"
    }
   ],
   "source": [
    "plt.plot(history.history['accuracy'], 'r', label = 'accuracy')\n",
    "plt.plot(history.history['val_accuracy'], 'g', label = 'val_accuracy')\n",
    "plt.xlabel('Epoch', fontdict={'c': 'r', 'size': 18})\n",
    "plt.legend(loc='lower right')"
   ]
  },
  {
   "cell_type": "code",
   "execution_count": 52,
   "metadata": {},
   "outputs": [
    {
     "data": {
      "text/plain": [
       "<matplotlib.legend.Legend at 0x1a5174174c8>"
      ]
     },
     "execution_count": 52,
     "metadata": {},
     "output_type": "execute_result"
    },
    {
     "data": {
      "image/png": "[encoded data removed]",
      "text/plain": [
       "<Figure size 432x288 with 1 Axes>"
      ]
     },
     "metadata": {
      "needs_background": "light"
     },
     "output_type": "display_data"
    }
   ],
   "source": [
    "plt.plot(history.history['loss'], 'r', label = 'loss')\n",
    "plt.plot(history.history['val_loss'], 'g', label = 'val_loss')\n",
    "plt.xlabel('Epoch', fontdict={'c': 'r', 'size': 18})\n",
    "plt.legend(loc='upper right')"
   ]
  },
  {
   "cell_type": "code",
   "execution_count": 53,
   "metadata": {},
   "outputs": [
    {
     "name": "stdout",
     "output_type": "stream",
     "text": [
      "7\n",
      "bag1.jpg\n",
      "pant1.jpg\n",
      "Sandal1.jpg\n",
      "Sandal2.jpg\n",
      "shirt1.jpg\n",
      "t-shirt.jpg\n",
      "trouser.jpg\n"
     ]
    }
   ],
   "source": [
    "# 安裝 openCV\n",
    "# pip install opencv-python\n",
    "import os\n",
    "import cv2\n",
    "import numpy as np\n",
    "\n",
    "my_path='./test_data/'\n",
    "num_imgs = len(os.listdir(my_path))\n",
    "print(num_imgs)\n",
    "new_data = np.empty([int(num_imgs),28,28,1]) # in which to put the images\n",
    "for i,image in enumerate(os.listdir(my_path)):\n",
    "    print(image)\n",
    "    the_img = cv2.imread(os.path.join(my_path, image), cv2.IMREAD_GRAYSCALE)\n",
    "    the_img = cv2.resize(the_img,(28,28))\n",
    "    the_img = (255-the_img) / 255 # 反白，因白色為0，黑色為255\n",
    "    new_data[i] = the_img.reshape(28, 28, -1)"
   ]
  },
  {
   "cell_type": "code",
   "execution_count": 54,
   "metadata": {},
   "outputs": [],
   "source": [
    "label_dict = {0: 'T-shirt/top', \n",
    "              1:'Trouser',\n",
    "              2:'Pullover', \n",
    "              3:'Dress', \n",
    "              4:'Coat',\n",
    "              5:'Sandal', \n",
    "              6:'Shirt', \n",
    "              7:'Sneaker', \n",
    "              8:'Bag', \n",
    "              9:'Ankle boot'}"
   ]
  },
  {
   "cell_type": "code",
   "execution_count": 55,
   "metadata": {},
   "outputs": [
    {
     "data": {
      "text/plain": [
       "array([8, 1, 5, 5, 6, 0, 1], dtype=int64)"
      ]
     },
     "execution_count": 55,
     "metadata": {},
     "output_type": "execute_result"
    }
   ],
   "source": [
    "# model.predict_classes(new_data)\n",
    "import numpy as np\n",
    "np.argmax(model.predict(new_data), axis=1)"
   ]
  },
  {
   "cell_type": "code",
   "execution_count": 56,
   "metadata": {},
   "outputs": [
    {
     "data": {
      "text/plain": [
       "['Bag', 'Trouser', 'Sandal', 'Sandal', 'Shirt', 'T-shirt/top', 'Trouser']"
      ]
     },
     "execution_count": 56,
     "metadata": {},
     "output_type": "execute_result"
    }
   ],
   "source": [
    "# [label_dict[k] for k in model.predict_classes(new_data)]\n",
    "[label_dict[k] for k in np.argmax(model.predict(new_data), axis=1)]"
   ]
  },
  {
   "cell_type": "code",
   "execution_count": null,
   "metadata": {},
   "outputs": [],
   "source": []
  }
 ],
 "metadata": {
  "kernelspec": {
   "display_name": "Python 3",
   "language": "python",
   "name": "python3"
  },
  "language_info": {
   "codemirror_mode": {
    "name": "ipython",
    "version": 3
   },
   "file_extension": ".py",
   "mimetype": "text/x-python",
   "name": "python",
   "nbconvert_exporter": "python",
   "pygments_lexer": "ipython3",
   "version": "3.7.10"
  }
 },
 "nbformat": 4,
 "nbformat_minor": 2
}
