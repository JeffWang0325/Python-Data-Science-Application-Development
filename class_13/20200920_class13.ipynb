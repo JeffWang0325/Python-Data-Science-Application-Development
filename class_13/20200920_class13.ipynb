{
 "cells": [
  {
   "cell_type": "markdown",
   "metadata": {},
   "source": [
    "# SVM"
   ]
  },
  {
   "cell_type": "code",
   "execution_count": 1,
   "metadata": {},
   "outputs": [],
   "source": [
    "import numpy as np\n",
    "import matplotlib.pyplot as plt\n",
    "from sklearn import svm, datasets"
   ]
  },
  {
   "cell_type": "code",
   "execution_count": 2,
   "metadata": {},
   "outputs": [],
   "source": [
    "# import iris data\n",
    "iris = datasets.load_iris()\n",
    "# X = iris.data[:, :]\n",
    "X = iris.data[:, 2:] # 後兩變數\n",
    "# avoid this ugly slicing by using a two-dim dataset\n",
    "y = iris.target"
   ]
  },
  {
   "cell_type": "code",
   "execution_count": 3,
   "metadata": {
    "scrolled": false
   },
   "outputs": [
    {
     "data": {
      "text/plain": [
       "(array([[1.4, 0.2],\n",
       "        [1.4, 0.2],\n",
       "        [1.3, 0.2],\n",
       "        [1.5, 0.2],\n",
       "        [1.4, 0.2],\n",
       "        [1.7, 0.4],\n",
       "        [1.4, 0.3],\n",
       "        [1.5, 0.2],\n",
       "        [1.4, 0.2],\n",
       "        [1.5, 0.1],\n",
       "        [1.5, 0.2],\n",
       "        [1.6, 0.2],\n",
       "        [1.4, 0.1],\n",
       "        [1.1, 0.1],\n",
       "        [1.2, 0.2],\n",
       "        [1.5, 0.4],\n",
       "        [1.3, 0.4],\n",
       "        [1.4, 0.3],\n",
       "        [1.7, 0.3],\n",
       "        [1.5, 0.3],\n",
       "        [1.7, 0.2],\n",
       "        [1.5, 0.4],\n",
       "        [1. , 0.2],\n",
       "        [1.7, 0.5],\n",
       "        [1.9, 0.2],\n",
       "        [1.6, 0.2],\n",
       "        [1.6, 0.4],\n",
       "        [1.5, 0.2],\n",
       "        [1.4, 0.2],\n",
       "        [1.6, 0.2],\n",
       "        [1.6, 0.2],\n",
       "        [1.5, 0.4],\n",
       "        [1.5, 0.1],\n",
       "        [1.4, 0.2],\n",
       "        [1.5, 0.2],\n",
       "        [1.2, 0.2],\n",
       "        [1.3, 0.2],\n",
       "        [1.4, 0.1],\n",
       "        [1.3, 0.2],\n",
       "        [1.5, 0.2],\n",
       "        [1.3, 0.3],\n",
       "        [1.3, 0.3],\n",
       "        [1.3, 0.2],\n",
       "        [1.6, 0.6],\n",
       "        [1.9, 0.4],\n",
       "        [1.4, 0.3],\n",
       "        [1.6, 0.2],\n",
       "        [1.4, 0.2],\n",
       "        [1.5, 0.2],\n",
       "        [1.4, 0.2],\n",
       "        [4.7, 1.4],\n",
       "        [4.5, 1.5],\n",
       "        [4.9, 1.5],\n",
       "        [4. , 1.3],\n",
       "        [4.6, 1.5],\n",
       "        [4.5, 1.3],\n",
       "        [4.7, 1.6],\n",
       "        [3.3, 1. ],\n",
       "        [4.6, 1.3],\n",
       "        [3.9, 1.4],\n",
       "        [3.5, 1. ],\n",
       "        [4.2, 1.5],\n",
       "        [4. , 1. ],\n",
       "        [4.7, 1.4],\n",
       "        [3.6, 1.3],\n",
       "        [4.4, 1.4],\n",
       "        [4.5, 1.5],\n",
       "        [4.1, 1. ],\n",
       "        [4.5, 1.5],\n",
       "        [3.9, 1.1],\n",
       "        [4.8, 1.8],\n",
       "        [4. , 1.3],\n",
       "        [4.9, 1.5],\n",
       "        [4.7, 1.2],\n",
       "        [4.3, 1.3],\n",
       "        [4.4, 1.4],\n",
       "        [4.8, 1.4],\n",
       "        [5. , 1.7],\n",
       "        [4.5, 1.5],\n",
       "        [3.5, 1. ],\n",
       "        [3.8, 1.1],\n",
       "        [3.7, 1. ],\n",
       "        [3.9, 1.2],\n",
       "        [5.1, 1.6],\n",
       "        [4.5, 1.5],\n",
       "        [4.5, 1.6],\n",
       "        [4.7, 1.5],\n",
       "        [4.4, 1.3],\n",
       "        [4.1, 1.3],\n",
       "        [4. , 1.3],\n",
       "        [4.4, 1.2],\n",
       "        [4.6, 1.4],\n",
       "        [4. , 1.2],\n",
       "        [3.3, 1. ],\n",
       "        [4.2, 1.3],\n",
       "        [4.2, 1.2],\n",
       "        [4.2, 1.3],\n",
       "        [4.3, 1.3],\n",
       "        [3. , 1.1],\n",
       "        [4.1, 1.3],\n",
       "        [6. , 2.5],\n",
       "        [5.1, 1.9],\n",
       "        [5.9, 2.1],\n",
       "        [5.6, 1.8],\n",
       "        [5.8, 2.2],\n",
       "        [6.6, 2.1],\n",
       "        [4.5, 1.7],\n",
       "        [6.3, 1.8],\n",
       "        [5.8, 1.8],\n",
       "        [6.1, 2.5],\n",
       "        [5.1, 2. ],\n",
       "        [5.3, 1.9],\n",
       "        [5.5, 2.1],\n",
       "        [5. , 2. ],\n",
       "        [5.1, 2.4],\n",
       "        [5.3, 2.3],\n",
       "        [5.5, 1.8],\n",
       "        [6.7, 2.2],\n",
       "        [6.9, 2.3],\n",
       "        [5. , 1.5],\n",
       "        [5.7, 2.3],\n",
       "        [4.9, 2. ],\n",
       "        [6.7, 2. ],\n",
       "        [4.9, 1.8],\n",
       "        [5.7, 2.1],\n",
       "        [6. , 1.8],\n",
       "        [4.8, 1.8],\n",
       "        [4.9, 1.8],\n",
       "        [5.6, 2.1],\n",
       "        [5.8, 1.6],\n",
       "        [6.1, 1.9],\n",
       "        [6.4, 2. ],\n",
       "        [5.6, 2.2],\n",
       "        [5.1, 1.5],\n",
       "        [5.6, 1.4],\n",
       "        [6.1, 2.3],\n",
       "        [5.6, 2.4],\n",
       "        [5.5, 1.8],\n",
       "        [4.8, 1.8],\n",
       "        [5.4, 2.1],\n",
       "        [5.6, 2.4],\n",
       "        [5.1, 2.3],\n",
       "        [5.1, 1.9],\n",
       "        [5.9, 2.3],\n",
       "        [5.7, 2.5],\n",
       "        [5.2, 2.3],\n",
       "        [5. , 1.9],\n",
       "        [5.2, 2. ],\n",
       "        [5.4, 2.3],\n",
       "        [5.1, 1.8]]),\n",
       " numpy.ndarray,\n",
       " (150, 2),\n",
       " 300,\n",
       " 2)"
      ]
     },
     "execution_count": 3,
     "metadata": {},
     "output_type": "execute_result"
    }
   ],
   "source": [
    "X, type(X), X.shape, X.size, X.ndim"
   ]
  },
  {
   "cell_type": "code",
   "execution_count": 4,
   "metadata": {
    "scrolled": true
   },
   "outputs": [
    {
     "name": "stdout",
     "output_type": "stream",
     "text": [
      ".. _iris_dataset:\n",
      "\n",
      "Iris plants dataset\n",
      "--------------------\n",
      "\n",
      "**Data Set Characteristics:**\n",
      "\n",
      "    :Number of Instances: 150 (50 in each of three classes)\n",
      "    :Number of Attributes: 4 numeric, predictive attributes and the class\n",
      "    :Attribute Information:\n",
      "        - sepal length in cm\n",
      "        - sepal width in cm\n",
      "        - petal length in cm\n",
      "        - petal width in cm\n",
      "        - class:\n",
      "                - Iris-Setosa\n",
      "                - Iris-Versicolour\n",
      "                - Iris-Virginica\n",
      "                \n",
      "    :Summary Statistics:\n",
      "\n",
      "    ============== ==== ==== ======= ===== ====================\n",
      "                    Min  Max   Mean    SD   Class Correlation\n",
      "    ============== ==== ==== ======= ===== ====================\n",
      "    sepal length:   4.3  7.9   5.84   0.83    0.7826\n",
      "    sepal width:    2.0  4.4   3.05   0.43   -0.4194\n",
      "    petal length:   1.0  6.9   3.76   1.76    0.9490  (high!)\n",
      "    petal width:    0.1  2.5   1.20   0.76    0.9565  (high!)\n",
      "    ============== ==== ==== ======= ===== ====================\n",
      "\n",
      "    :Missing Attribute Values: None\n",
      "    :Class Distribution: 33.3% for each of 3 classes.\n",
      "    :Creator: R.A. Fisher\n",
      "    :Donor: Michael Marshall (MARSHALL%PLU@io.arc.nasa.gov)\n",
      "    :Date: July, 1988\n",
      "\n",
      "The famous Iris database, first used by Sir R.A. Fisher. The dataset is taken\n",
      "from Fisher's paper. Note that it's the same as in R, but not as in the UCI\n",
      "Machine Learning Repository, which has two wrong data points.\n",
      "\n",
      "This is perhaps the best known database to be found in the\n",
      "pattern recognition literature.  Fisher's paper is a classic in the field and\n",
      "is referenced frequently to this day.  (See Duda & Hart, for example.)  The\n",
      "data set contains 3 classes of 50 instances each, where each class refers to a\n",
      "type of iris plant.  One class is linearly separable from the other 2; the\n",
      "latter are NOT linearly separable from each other.\n",
      "\n",
      ".. topic:: References\n",
      "\n",
      "   - Fisher, R.A. \"The use of multiple measurements in taxonomic problems\"\n",
      "     Annual Eugenics, 7, Part II, 179-188 (1936); also in \"Contributions to\n",
      "     Mathematical Statistics\" (John Wiley, NY, 1950).\n",
      "   - Duda, R.O., & Hart, P.E. (1973) Pattern Classification and Scene Analysis.\n",
      "     (Q327.D83) John Wiley & Sons.  ISBN 0-471-22361-1.  See page 218.\n",
      "   - Dasarathy, B.V. (1980) \"Nosing Around the Neighborhood: A New System\n",
      "     Structure and Classification Rule for Recognition in Partially Exposed\n",
      "     Environments\".  IEEE Transactions on Pattern Analysis and Machine\n",
      "     Intelligence, Vol. PAMI-2, No. 1, 67-71.\n",
      "   - Gates, G.W. (1972) \"The Reduced Nearest Neighbor Rule\".  IEEE Transactions\n",
      "     on Information Theory, May 1972, 431-433.\n",
      "   - See also: 1988 MLC Proceedings, 54-64.  Cheeseman et al\"s AUTOCLASS II\n",
      "     conceptual clustering system finds 3 classes in the data.\n",
      "   - Many, many more ...\n"
     ]
    }
   ],
   "source": [
    "print(iris.DESCR)"
   ]
  },
  {
   "cell_type": "markdown",
   "metadata": {},
   "source": [
    "### SVC\n",
    "https://scikit-learn.org/stable/modules/generated/sklearn.svm.SVC.html"
   ]
  },
  {
   "cell_type": "code",
   "execution_count": 5,
   "metadata": {},
   "outputs": [
    {
     "data": {
      "text/plain": [
       "sklearn.svm._classes.SVC"
      ]
     },
     "execution_count": 5,
     "metadata": {},
     "output_type": "execute_result"
    }
   ],
   "source": [
    "C = 1000.0 # SVM regularization parameter: 1.0, 10.0, 100.0\n",
    "svc = svm.SVC(kernel='linear', C=C, gamma='auto').fit(X, y)\n",
    "type(svc)"
   ]
  },
  {
   "cell_type": "code",
   "execution_count": 6,
   "metadata": {},
   "outputs": [
    {
     "data": {
      "text/plain": [
       "0.96"
      ]
     },
     "execution_count": 6,
     "metadata": {},
     "output_type": "execute_result"
    }
   ],
   "source": [
    "svc.score(X, y)"
   ]
  },
  {
   "cell_type": "code",
   "execution_count": 9,
   "metadata": {
    "scrolled": false
   },
   "outputs": [
    {
     "name": "stdout",
     "output_type": "stream",
     "text": [
      "x_min =  0.0 , x_max =  7.9 , y_min =  -0.9 , y_max =  3.5 , h =  0.079\n",
      "[0.    0.079 0.158 0.237 0.316 0.395 0.474 0.553 0.632 0.711 0.79  0.869\n",
      " 0.948 1.027 1.106 1.185 1.264 1.343 1.422 1.501 1.58  1.659 1.738 1.817\n",
      " 1.896 1.975 2.054 2.133 2.212 2.291 2.37  2.449 2.528 2.607 2.686 2.765\n",
      " 2.844 2.923 3.002 3.081 3.16  3.239 3.318 3.397 3.476 3.555 3.634 3.713\n",
      " 3.792 3.871 3.95  4.029 4.108 4.187 4.266 4.345 4.424 4.503 4.582 4.661\n",
      " 4.74  4.819 4.898 4.977 5.056 5.135 5.214 5.293 5.372 5.451 5.53  5.609\n",
      " 5.688 5.767 5.846 5.925 6.004 6.083 6.162 6.241 6.32  6.399 6.478 6.557\n",
      " 6.636 6.715 6.794 6.873 6.952 7.031 7.11  7.189 7.268 7.347 7.426 7.505\n",
      " 7.584 7.663 7.742 7.821] (100,)\n",
      "[-0.9   -0.821 -0.742 -0.663 -0.584 -0.505 -0.426 -0.347 -0.268 -0.189\n",
      " -0.11  -0.031  0.048  0.127  0.206  0.285  0.364  0.443  0.522  0.601\n",
      "  0.68   0.759  0.838  0.917  0.996  1.075  1.154  1.233  1.312  1.391\n",
      "  1.47   1.549  1.628  1.707  1.786  1.865  1.944  2.023  2.102  2.181\n",
      "  2.26   2.339  2.418  2.497  2.576  2.655  2.734  2.813  2.892  2.971\n",
      "  3.05   3.129  3.208  3.287  3.366  3.445] (56,)\n",
      "[[0.    0.079 0.158 ... 7.663 7.742 7.821]\n",
      " [0.    0.079 0.158 ... 7.663 7.742 7.821]\n",
      " [0.    0.079 0.158 ... 7.663 7.742 7.821]\n",
      " ...\n",
      " [0.    0.079 0.158 ... 7.663 7.742 7.821]\n",
      " [0.    0.079 0.158 ... 7.663 7.742 7.821]\n",
      " [0.    0.079 0.158 ... 7.663 7.742 7.821]] (56, 100)\n",
      "[[-0.9   -0.9   -0.9   ... -0.9   -0.9   -0.9  ]\n",
      " [-0.821 -0.821 -0.821 ... -0.821 -0.821 -0.821]\n",
      " [-0.742 -0.742 -0.742 ... -0.742 -0.742 -0.742]\n",
      " ...\n",
      " [ 3.287  3.287  3.287 ...  3.287  3.287  3.287]\n",
      " [ 3.366  3.366  3.366 ...  3.366  3.366  3.366]\n",
      " [ 3.445  3.445  3.445 ...  3.445  3.445  3.445]] (56, 100)\n",
      "--------------------------------------------------\n",
      "[[ 0.    -0.9  ]\n",
      " [ 0.079 -0.9  ]\n",
      " [ 0.158 -0.9  ]\n",
      " ...\n",
      " [ 7.663  3.445]\n",
      " [ 7.742  3.445]\n",
      " [ 7.821  3.445]] (5600, 2)\n",
      "Z.shape =  (5600,)\n",
      "Z.shape =  (56, 100)\n",
      "[[0 0 0 ... 1 1 1]\n",
      " [0 0 0 ... 1 1 1]\n",
      " [0 0 0 ... 1 1 1]\n",
      " ...\n",
      " [0 0 0 ... 2 2 2]\n",
      " [0 0 0 ... 2 2 2]\n",
      " [0 0 0 ... 2 2 2]]\n"
     ]
    },
    {
     "data": {
      "image/png": "[encoded data removed]",
      "text/plain": [
       "<Figure size 432x288 with 1 Axes>"
      ]
     },
     "metadata": {
      "needs_background": "light"
     },
     "output_type": "display_data"
    }
   ],
   "source": [
    "# create a mesh to plot in\n",
    "x_min, x_max = X[:, 0].min() - 1, X[:, 0].max() + 1\n",
    "y_min, y_max = X[:, 1].min() - 1, X[:, 1].max() + 1\n",
    "h = (x_max - x_min) / 100\n",
    "print('x_min = ', x_min, ', x_max = ', x_max, ', y_min = ', y_min, ', y_max = ', y_max, ', h = ', h)\n",
    "# 產生 (x,y) 區間排列組合的每一點\n",
    "# 參考 https://stackoverflow.com/questions/36013063/what-is-purpose-of-meshgrid-in-python?utm_medium=organic&utm_source=google_rich_qa&utm_campaign=google_rich_qa\n",
    "# np.meshgrid?\n",
    "xx, yy = np.meshgrid(np.arange(x_min, x_max, h), np.arange(y_min, y_max, h))\n",
    "print(np.arange(x_min, x_max, h), np.arange(x_min, x_max, h).shape)\n",
    "print(np.arange(y_min, y_max, h), np.arange(y_min, y_max, h).shape)\n",
    "print(xx, xx.shape)\n",
    "print(yy, yy.shape)\n",
    "print('-' * 50)\n",
    "\n",
    "# 畫圖 \n",
    "plt.subplot(1, 1, 1)\n",
    "\n",
    "print(np.c_[xx.ravel(), yy.ravel()], np.c_[xx.ravel(), yy.ravel()].shape)\n",
    "Z = svc.predict(np.c_[xx.ravel(), yy.ravel()])\n",
    "print('Z.shape = ', Z.shape)\n",
    "Z = Z.reshape(xx.shape)\n",
    "print('Z.shape = ', Z.shape)\n",
    "print(Z)\n",
    "plt.contourf(xx, yy, Z, cmap=plt.cm.Paired, alpha=0.8)\n",
    "# plt.contourf(xx, yy, Z, cmap=plt.cm.hot, alpha=0.8)\n",
    "# plt.contourf(xx, yy, Z, cmap=plt.cm.Paired, alpha=0.2)\n",
    "# plt.contour(xx, yy, Z, cmap=plt.cm.Paired, alpha=0.2)\n",
    "# plt.contourf(xx, yy, Z, alpha=0.2)\n",
    "\n",
    "plt.scatter(X[:, 0], X[:, 1], c=y, cmap=plt.cm.Paired)\n",
    "\n",
    "# Plot support vectors\n",
    "plt.scatter(svc.support_vectors_[:, 0], svc.support_vectors_[:, 1], c='r', s = 5, alpha=0.6)\n",
    "\n",
    "# plt.xlabel('Sepal length')\n",
    "plt.xlabel('petal length')\n",
    "# plt.ylabel('Sepal width')\n",
    "plt.ylabel('petal width')\n",
    "# plt.xlim?\n",
    "plt.xlim(xx.min(), xx.max())\n",
    "plt.title('SVC with linear kernel')\n",
    "plt.show()"
   ]
  },
  {
   "cell_type": "code",
   "execution_count": 10,
   "metadata": {},
   "outputs": [
    {
     "data": {
      "text/plain": [
       "array([[1.9, 0.4],\n",
       "       [4.9, 1.5],\n",
       "       [4.7, 1.6],\n",
       "       [4.8, 1.8],\n",
       "       [4.9, 1.5],\n",
       "       [5. , 1.7],\n",
       "       [5.1, 1.6],\n",
       "       [3. , 1.1],\n",
       "       [4.5, 1.7],\n",
       "       [5. , 1.5],\n",
       "       [4.8, 1.8],\n",
       "       [5.1, 1.5],\n",
       "       [5.6, 1.4],\n",
       "       [4.8, 1.8]])"
      ]
     },
     "execution_count": 10,
     "metadata": {},
     "output_type": "execute_result"
    }
   ],
   "source": [
    "svc.support_vectors_"
   ]
  },
  {
   "cell_type": "code",
   "execution_count": 11,
   "metadata": {},
   "outputs": [
    {
     "data": {
      "text/plain": [
       "(14, 2)"
      ]
     },
     "execution_count": 11,
     "metadata": {},
     "output_type": "execute_result"
    }
   ],
   "source": [
    "svc.support_vectors_.shape"
   ]
  },
  {
   "cell_type": "code",
   "execution_count": 12,
   "metadata": {},
   "outputs": [
    {
     "data": {
      "text/plain": [
       "array([1, 7, 6])"
      ]
     },
     "execution_count": 12,
     "metadata": {},
     "output_type": "execute_result"
    }
   ],
   "source": [
    "svc.n_support_"
   ]
  },
  {
   "cell_type": "markdown",
   "metadata": {},
   "source": [
    "## Pipeline"
   ]
  },
  {
   "cell_type": "code",
   "execution_count": 13,
   "metadata": {},
   "outputs": [],
   "source": [
    "# import iris data\n",
    "iris = datasets.load_iris()\n",
    "X = iris.data\n",
    "y = iris.target"
   ]
  },
  {
   "cell_type": "code",
   "execution_count": 24,
   "metadata": {},
   "outputs": [
    {
     "data": {
      "text/plain": [
       "((120, 4), (30, 4), (120,), (30,))"
      ]
     },
     "execution_count": 24,
     "metadata": {},
     "output_type": "execute_result"
    }
   ],
   "source": [
    "from sklearn.model_selection import train_test_split\n",
    "X_train, X_test, y_train, y_test = train_test_split(X, y, test_size=0.2, random_state=10)\n",
    "X_train.shape, X_test.shape, y_train.shape, y_test.shape"
   ]
  },
  {
   "cell_type": "code",
   "execution_count": 25,
   "metadata": {},
   "outputs": [],
   "source": [
    "from sklearn.pipeline import Pipeline\n",
    "from sklearn.preprocessing import StandardScaler\n",
    "Pipeline?\n",
    "clf = Pipeline((\n",
    "    (\"scaler\", StandardScaler()),\n",
    "    (\"svc\", svm.SVC(kernel='linear', gamma='auto')),\n",
    "))"
   ]
  },
  {
   "cell_type": "code",
   "execution_count": 26,
   "metadata": {},
   "outputs": [
    {
     "data": {
      "text/plain": [
       "Pipeline(steps=[('scaler', StandardScaler()),\n",
       "                ('svc', SVC(gamma='auto', kernel='linear'))])"
      ]
     },
     "execution_count": 26,
     "metadata": {},
     "output_type": "execute_result"
    }
   ],
   "source": [
    "clf.fit(X_train, y_train)"
   ]
  },
  {
   "cell_type": "code",
   "execution_count": 27,
   "metadata": {},
   "outputs": [
    {
     "data": {
      "text/plain": [
       "array([1, 2, 0, 1, 0, 1, 2, 1, 0, 1, 1, 2, 1, 0, 0, 2, 1, 0, 0, 0, 2, 2,\n",
       "       2, 0, 1, 0, 1, 1, 1, 2])"
      ]
     },
     "execution_count": 27,
     "metadata": {},
     "output_type": "execute_result"
    }
   ],
   "source": [
    "pred = clf.predict(X_test)\n",
    "pred"
   ]
  },
  {
   "cell_type": "code",
   "execution_count": 28,
   "metadata": {},
   "outputs": [
    {
     "data": {
      "text/plain": [
       "0.9666666666666667"
      ]
     },
     "execution_count": 28,
     "metadata": {},
     "output_type": "execute_result"
    }
   ],
   "source": [
    "clf.score(X_test, y_test)"
   ]
  },
  {
   "cell_type": "code",
   "execution_count": 29,
   "metadata": {},
   "outputs": [],
   "source": [
    "import pickle\n",
    "pickle.dump(clf, open('Pipeline.h5', 'wb'))"
   ]
  },
  {
   "cell_type": "code",
   "execution_count": 30,
   "metadata": {},
   "outputs": [
    {
     "data": {
      "text/plain": [
       "0.9666666666666667"
      ]
     },
     "execution_count": 30,
     "metadata": {},
     "output_type": "execute_result"
    }
   ],
   "source": [
    "clf = pickle.load(open('Pipeline.h5', 'rb'))\n",
    "clf.score(X_test, y_test)"
   ]
  },
  {
   "cell_type": "code",
   "execution_count": null,
   "metadata": {},
   "outputs": [],
   "source": []
  },
  {
   "cell_type": "code",
   "execution_count": 31,
   "metadata": {
    "scrolled": true
   },
   "outputs": [
    {
     "name": "stdout",
     "output_type": "stream",
     "text": [
      "[[6.6 2.9 4.6 1.3]\n",
      " [6.2 2.9 4.3 1.3]\n",
      " [7.2 3.  5.8 1.6]\n",
      " [5.8 2.8 5.1 2.4]\n",
      " [6.3 2.5 5.  1.9]\n",
      " [4.6 3.2 1.4 0.2]\n",
      " [6.7 3.3 5.7 2.1]\n",
      " [6.9 3.2 5.7 2.3]\n",
      " [7.7 2.6 6.9 2.3]\n",
      " [6.9 3.1 5.1 2.3]\n",
      " [5.  3.4 1.6 0.4]\n",
      " [5.  3.5 1.6 0.6]\n",
      " [5.2 2.7 3.9 1.4]\n",
      " [4.5 2.3 1.3 0.3]\n",
      " [6.3 3.3 4.7 1.6]\n",
      " [5.2 4.1 1.5 0.1]\n",
      " [6.9 3.1 4.9 1.5]\n",
      " [5.9 3.2 4.8 1.8]\n",
      " [5.6 2.8 4.9 2. ]\n",
      " [6.7 3.3 5.7 2.5]\n",
      " [6.2 2.2 4.5 1.5]\n",
      " [7.2 3.6 6.1 2.5]\n",
      " [5.5 2.4 3.7 1. ]\n",
      " [6.  2.9 4.5 1.5]\n",
      " [6.4 3.2 4.5 1.5]\n",
      " [5.8 4.  1.2 0.2]\n",
      " [5.3 3.7 1.5 0.2]\n",
      " [6.1 2.9 4.7 1.4]\n",
      " [5.4 3.4 1.7 0.2]\n",
      " [6.4 3.1 5.5 1.8]\n",
      " [4.7 3.2 1.6 0.2]\n",
      " [4.6 3.1 1.5 0.2]\n",
      " [4.9 2.5 4.5 1.7]\n",
      " [5.1 2.5 3.  1.1]\n",
      " [6.7 3.1 5.6 2.4]\n",
      " [4.9 3.6 1.4 0.1]\n",
      " [6.9 3.1 5.4 2.1]\n",
      " [4.8 3.  1.4 0.3]\n",
      " [5.8 2.7 3.9 1.2]\n",
      " [6.  2.7 5.1 1.6]\n",
      " [4.4 3.2 1.3 0.2]\n",
      " [6.8 3.2 5.9 2.3]\n",
      " [7.9 3.8 6.4 2. ]\n",
      " [6.5 3.  5.5 1.8]\n",
      " [7.6 3.  6.6 2.1]\n",
      " [6.3 2.8 5.1 1.5]\n",
      " [4.6 3.4 1.4 0.3]\n",
      " [5.7 2.6 3.5 1. ]\n",
      " [6.7 2.5 5.8 1.8]\n",
      " [5.7 2.8 4.1 1.3]\n",
      " [4.9 3.1 1.5 0.2]\n",
      " [6.4 2.8 5.6 2.1]\n",
      " [7.  3.2 4.7 1.4]\n",
      " [5.7 2.9 4.2 1.3]\n",
      " [5.  3.6 1.4 0.2]\n",
      " [5.4 3.9 1.7 0.4]\n",
      " [5.1 3.8 1.9 0.4]\n",
      " [5.4 3.  4.5 1.5]\n",
      " [7.4 2.8 6.1 1.9]\n",
      " [6.3 2.9 5.6 1.8]\n",
      " [6.6 3.  4.4 1.4]\n",
      " [5.  3.4 1.5 0.2]\n",
      " [5.1 3.8 1.6 0.2]\n",
      " [5.1 3.5 1.4 0.3]\n",
      " [6.5 3.  5.8 2.2]\n",
      " [5.8 2.7 5.1 1.9]\n",
      " [6.1 2.8 4.  1.3]\n",
      " [5.5 2.4 3.8 1.1]\n",
      " [6.5 3.2 5.1 2. ]\n",
      " [6.5 3.  5.2 2. ]\n",
      " [5.9 3.  5.1 1.8]\n",
      " [6.1 2.6 5.6 1.4]\n",
      " [6.4 2.9 4.3 1.3]\n",
      " [5.2 3.4 1.4 0.2]\n",
      " [4.8 3.4 1.6 0.2]\n",
      " [5.6 2.7 4.2 1.3]\n",
      " [5.1 3.3 1.7 0.5]\n",
      " [4.6 3.6 1.  0.2]\n",
      " [6.1 3.  4.9 1.8]\n",
      " [5.  2.3 3.3 1. ]\n",
      " [5.7 3.8 1.7 0.3]\n",
      " [5.2 3.5 1.5 0.2]\n",
      " [5.5 3.5 1.3 0.2]\n",
      " [4.9 2.4 3.3 1. ]\n",
      " [5.4 3.4 1.5 0.4]\n",
      " [6.7 3.1 4.4 1.4]\n",
      " [4.8 3.  1.4 0.1]\n",
      " [5.5 2.5 4.  1.3]\n",
      " [6.  2.2 5.  1.5]\n",
      " [4.8 3.1 1.6 0.2]\n",
      " [6.7 3.1 4.7 1.5]\n",
      " [5.8 2.6 4.  1.2]\n",
      " [6.2 3.4 5.4 2.3]\n",
      " [5.  3.  1.6 0.2]\n",
      " [6.  3.  4.8 1.8]\n",
      " [4.3 3.  1.1 0.1]\n",
      " [5.6 2.5 3.9 1.1]\n",
      " [6.7 3.  5.  1.7]\n",
      " [7.7 3.  6.1 2.3]\n",
      " [6.3 3.4 5.6 2.4]\n",
      " [5.5 4.2 1.4 0.2]\n",
      " [6.  2.2 4.  1. ]\n",
      " [7.7 2.8 6.7 2. ]\n",
      " [7.3 2.9 6.3 1.8]\n",
      " [5.6 3.  4.1 1.3]\n",
      " [6.5 2.8 4.6 1.5]\n",
      " [6.3 3.3 6.  2.5]\n",
      " [5.4 3.9 1.3 0.4]\n",
      " [6.4 3.2 5.3 2.3]\n",
      " [5.  3.5 1.3 0.3]\n",
      " [5.1 3.5 1.4 0.2]\n",
      " [6.1 2.8 4.7 1.2]\n",
      " [4.4 2.9 1.4 0.2]\n",
      " [6.7 3.  5.2 2.3]\n",
      " [6.3 2.7 4.9 1.8]\n",
      " [5.7 2.5 5.  2. ]\n",
      " [5.6 2.9 3.6 1.3]\n",
      " [5.7 4.4 1.5 0.4]\n",
      " [7.2 3.2 6.  1.8]\n",
      " [4.9 3.1 1.5 0.1]]\n",
      "[[ 0.87110766 -0.39891058  0.46061935  0.10579946]\n",
      " [ 0.39378839 -0.39891058  0.29192864  0.10579946]\n",
      " [ 1.58708656 -0.16765807  1.13538218  0.49445053]\n",
      " [-0.08353087 -0.63016309  0.74177053  1.53085339]\n",
      " [ 0.51311821 -1.32392062  0.68554029  0.8831016 ]\n",
      " [-1.51548867  0.29484695 -1.3387482  -1.31925447]\n",
      " [ 0.99043748  0.52609946  1.07915194  1.14220232]\n",
      " [ 1.22909711  0.29484695  1.07915194  1.40130303]\n",
      " [ 2.18373564 -1.09266811  1.75391477  1.40130303]\n",
      " [ 1.22909711  0.06359444  0.74177053  1.40130303]\n",
      " [-1.0381694   0.75735197 -1.22628772 -1.06015376]\n",
      " [-1.0381694   0.98860448 -1.22628772 -0.80105304]\n",
      " [-0.79950977 -0.8614156   0.0670077   0.23534982]\n",
      " [-1.63481849 -1.78642564 -1.39497843 -1.18970411]\n",
      " [ 0.51311821  0.52609946  0.51684958  0.49445053]\n",
      " [-0.79950977  2.37611954 -1.28251796 -1.44880483]\n",
      " [ 1.22909711  0.06359444  0.62931005  0.36490017]\n",
      " [ 0.03579894  0.29484695  0.57307982  0.75355124]\n",
      " [-0.3221905  -0.63016309  0.62931005  1.01265196]\n",
      " [ 0.99043748  0.52609946  1.07915194  1.66040374]\n",
      " [ 0.39378839 -2.01767815  0.40438911  0.36490017]\n",
      " [ 1.58708656  1.21985699  1.30407288  1.66040374]\n",
      " [-0.44152032 -1.55517313 -0.04545277 -0.28285161]\n",
      " [ 0.15512876 -0.39891058  0.40438911  0.36490017]\n",
      " [ 0.63244803  0.29484695  0.40438911  0.36490017]\n",
      " [-0.08353087  2.14486703 -1.45120867 -1.31925447]\n",
      " [-0.68017995  1.4511095  -1.28251796 -1.31925447]\n",
      " [ 0.27445858 -0.39891058  0.51684958  0.23534982]\n",
      " [-0.56085014  0.75735197 -1.17005749 -1.31925447]\n",
      " [ 0.63244803  0.06359444  0.96669147  0.75355124]\n",
      " [-1.39615885  0.29484695 -1.22628772 -1.31925447]\n",
      " [-1.51548867  0.06359444 -1.28251796 -1.31925447]\n",
      " [-1.15749922 -1.32392062  0.40438911  0.62400089]\n",
      " [-0.91883959 -1.32392062 -0.43906442 -0.15330126]\n",
      " [ 0.99043748  0.06359444  1.0229217   1.53085339]\n",
      " [-1.15749922  1.21985699 -1.3387482  -1.44880483]\n",
      " [ 1.22909711  0.06359444  0.91046123  1.14220232]\n",
      " [-1.27682904 -0.16765807 -1.3387482  -1.18970411]\n",
      " [-0.08353087 -0.8614156   0.0670077  -0.0237509 ]\n",
      " [ 0.15512876 -0.8614156   0.74177053  0.49445053]\n",
      " [-1.7541483   0.29484695 -1.39497843 -1.31925447]\n",
      " [ 1.10976729  0.29484695  1.19161241  1.40130303]\n",
      " [ 2.42239527  1.68236201  1.47276359  1.01265196]\n",
      " [ 0.75177784 -0.16765807  0.96669147  0.75355124]\n",
      " [ 2.06440582 -0.16765807  1.58522406  1.14220232]\n",
      " [ 0.51311821 -0.63016309  0.74177053  0.36490017]\n",
      " [-1.51548867  0.75735197 -1.3387482  -1.18970411]\n",
      " [-0.20286069 -1.09266811 -0.15791325 -0.28285161]\n",
      " [ 0.99043748 -1.32392062  1.13538218  0.75355124]\n",
      " [-0.20286069 -0.63016309  0.17946817  0.10579946]\n",
      " [-1.15749922  0.06359444 -1.28251796 -1.31925447]\n",
      " [ 0.63244803 -0.63016309  1.0229217   1.14220232]\n",
      " [ 1.34842693  0.29484695  0.51684958  0.23534982]\n",
      " [-0.20286069 -0.39891058  0.2356984   0.10579946]\n",
      " [-1.0381694   1.21985699 -1.3387482  -1.31925447]\n",
      " [-0.56085014  1.91361452 -1.17005749 -1.06015376]\n",
      " [-0.91883959  1.68236201 -1.05759702 -1.06015376]\n",
      " [-0.56085014 -0.16765807  0.40438911  0.36490017]\n",
      " [ 1.82574619 -0.63016309  1.30407288  0.8831016 ]\n",
      " [ 0.51311821 -0.39891058  1.0229217   0.75355124]\n",
      " [ 0.87110766 -0.16765807  0.34815888  0.23534982]\n",
      " [-1.0381694   0.75735197 -1.28251796 -1.31925447]\n",
      " [-0.91883959  1.68236201 -1.22628772 -1.31925447]\n",
      " [-0.91883959  0.98860448 -1.3387482  -1.18970411]\n",
      " [ 0.75177784 -0.16765807  1.13538218  1.27175267]\n",
      " [-0.08353087 -0.8614156   0.74177053  0.8831016 ]\n",
      " [ 0.27445858 -0.63016309  0.12323793  0.10579946]\n",
      " [-0.44152032 -1.55517313  0.01077746 -0.15330126]\n",
      " [ 0.75177784  0.29484695  0.74177053  1.01265196]\n",
      " [ 0.75177784 -0.16765807  0.79800076  1.01265196]\n",
      " [ 0.03579894 -0.16765807  0.74177053  0.75355124]\n",
      " [ 0.27445858 -1.09266811  1.0229217   0.23534982]\n",
      " [ 0.63244803 -0.39891058  0.29192864  0.10579946]\n",
      " [-0.79950977  0.75735197 -1.3387482  -1.31925447]\n",
      " [-1.27682904  0.75735197 -1.22628772 -1.31925447]\n",
      " [-0.3221905  -0.8614156   0.2356984   0.10579946]\n",
      " [-0.91883959  0.52609946 -1.17005749 -0.9306034 ]\n",
      " [-1.51548867  1.21985699 -1.56366914 -1.31925447]\n",
      " [ 0.27445858 -0.16765807  0.62931005  0.75355124]\n",
      " [-1.0381694  -1.78642564 -0.27037372 -0.28285161]\n",
      " [-0.20286069  1.68236201 -1.17005749 -1.18970411]\n",
      " [-0.79950977  0.98860448 -1.28251796 -1.31925447]\n",
      " [-0.44152032  0.98860448 -1.39497843 -1.31925447]\n",
      " [-1.15749922 -1.55517313 -0.27037372 -0.28285161]\n",
      " [-0.56085014  0.75735197 -1.28251796 -1.06015376]\n",
      " [ 0.99043748  0.06359444  0.34815888  0.23534982]\n",
      " [-1.27682904 -0.16765807 -1.3387482  -1.44880483]\n",
      " [-0.44152032 -1.32392062  0.12323793  0.10579946]\n",
      " [ 0.15512876 -2.01767815  0.68554029  0.36490017]\n",
      " [-1.27682904  0.06359444 -1.22628772 -1.31925447]\n",
      " [ 0.99043748  0.06359444  0.51684958  0.36490017]\n",
      " [-0.08353087 -1.09266811  0.12323793 -0.0237509 ]\n",
      " [ 0.39378839  0.75735197  0.91046123  1.40130303]\n",
      " [-1.0381694  -0.16765807 -1.22628772 -1.31925447]\n",
      " [ 0.15512876 -0.16765807  0.57307982  0.75355124]\n",
      " [-1.87347812 -0.16765807 -1.5074389  -1.44880483]\n",
      " [-0.3221905  -1.32392062  0.0670077  -0.15330126]\n",
      " [ 0.99043748 -0.16765807  0.68554029  0.62400089]\n",
      " [ 2.18373564 -0.16765807  1.30407288  1.40130303]\n",
      " [ 0.51311821  0.75735197  1.0229217   1.53085339]\n",
      " [-0.44152032  2.60737205 -1.3387482  -1.31925447]\n",
      " [ 0.15512876 -2.01767815  0.12323793 -0.28285161]\n",
      " [ 2.18373564 -0.63016309  1.6414543   1.01265196]\n",
      " [ 1.70641637 -0.39891058  1.41653335  0.75355124]\n",
      " [-0.3221905  -0.16765807  0.17946817  0.10579946]\n",
      " [ 0.75177784 -0.63016309  0.46061935  0.36490017]\n",
      " [ 0.51311821  0.52609946  1.24784265  1.66040374]\n",
      " [-0.56085014  1.91361452 -1.39497843 -1.06015376]\n",
      " [ 0.63244803  0.29484695  0.854231    1.40130303]\n",
      " [-1.0381694   0.98860448 -1.39497843 -1.18970411]\n",
      " [-0.91883959  0.98860448 -1.3387482  -1.31925447]\n",
      " [ 0.27445858 -0.63016309  0.51684958 -0.0237509 ]\n",
      " [-1.7541483  -0.39891058 -1.3387482  -1.31925447]\n",
      " [ 0.99043748 -0.16765807  0.79800076  1.40130303]\n",
      " [ 0.51311821 -0.8614156   0.62931005  0.75355124]\n",
      " [-0.20286069 -1.32392062  0.68554029  1.01265196]\n",
      " [-0.3221905  -0.39891058 -0.10168301  0.10579946]\n",
      " [-0.20286069  3.06987706 -1.28251796 -1.06015376]\n",
      " [ 1.58708656  0.29484695  1.24784265  0.75355124]\n",
      " [-1.15749922  0.06359444 -1.28251796 -1.44880483]]\n"
     ]
    }
   ],
   "source": [
    "scaler = StandardScaler()\n",
    "print(X_train)\n",
    "X_train = scaler.fit_transform(X_train)\n",
    "print(X_train)\n",
    "X_test = scaler.transform(X_test)"
   ]
  },
  {
   "cell_type": "code",
   "execution_count": 32,
   "metadata": {},
   "outputs": [
    {
     "data": {
      "text/plain": [
       "SVC(gamma='auto', kernel='linear')"
      ]
     },
     "execution_count": 32,
     "metadata": {},
     "output_type": "execute_result"
    }
   ],
   "source": [
    "clf = svm.SVC(kernel='linear', gamma='auto')\n",
    "clf.fit(X_train, y_train)"
   ]
  },
  {
   "cell_type": "code",
   "execution_count": 33,
   "metadata": {},
   "outputs": [
    {
     "data": {
      "text/plain": [
       "0.9666666666666667"
      ]
     },
     "execution_count": 33,
     "metadata": {},
     "output_type": "execute_result"
    }
   ],
   "source": [
    "clf.score(X_test, y_test)"
   ]
  },
  {
   "cell_type": "markdown",
   "metadata": {},
   "source": [
    "## SVR\n",
    "https://scikit-learn.org/stable/modules/generated/sklearn.svm.SVR.html"
   ]
  },
  {
   "cell_type": "code",
   "execution_count": 34,
   "metadata": {},
   "outputs": [],
   "source": [
    "from sklearn.datasets import load_boston\n",
    "import pandas as pd\n",
    "\n",
    "ds = load_boston()\n",
    "X = pd.DataFrame(ds.data, columns=ds.feature_names)\n",
    "y = ds.target"
   ]
  },
  {
   "cell_type": "code",
   "execution_count": 35,
   "metadata": {
    "scrolled": true
   },
   "outputs": [
    {
     "name": "stdout",
     "output_type": "stream",
     "text": [
      ".. _boston_dataset:\n",
      "\n",
      "Boston house prices dataset\n",
      "---------------------------\n",
      "\n",
      "**Data Set Characteristics:**  \n",
      "\n",
      "    :Number of Instances: 506 \n",
      "\n",
      "    :Number of Attributes: 13 numeric/categorical predictive. Median Value (attribute 14) is usually the target.\n",
      "\n",
      "    :Attribute Information (in order):\n",
      "        - CRIM     per capita crime rate by town\n",
      "        - ZN       proportion of residential land zoned for lots over 25,000 sq.ft.\n",
      "        - INDUS    proportion of non-retail business acres per town\n",
      "        - CHAS     Charles River dummy variable (= 1 if tract bounds river; 0 otherwise)\n",
      "        - NOX      nitric oxides concentration (parts per 10 million)\n",
      "        - RM       average number of rooms per dwelling\n",
      "        - AGE      proportion of owner-occupied units built prior to 1940\n",
      "        - DIS      weighted distances to five Boston employment centres\n",
      "        - RAD      index of accessibility to radial highways\n",
      "        - TAX      full-value property-tax rate per $10,000\n",
      "        - PTRATIO  pupil-teacher ratio by town\n",
      "        - B        1000(Bk - 0.63)^2 where Bk is the proportion of black people by town\n",
      "        - LSTAT    % lower status of the population\n",
      "        - MEDV     Median value of owner-occupied homes in $1000's\n",
      "\n",
      "    :Missing Attribute Values: None\n",
      "\n",
      "    :Creator: Harrison, D. and Rubinfeld, D.L.\n",
      "\n",
      "This is a copy of UCI ML housing dataset.\n",
      "https://archive.ics.uci.edu/ml/machine-learning-databases/housing/\n",
      "\n",
      "\n",
      "This dataset was taken from the StatLib library which is maintained at Carnegie Mellon University.\n",
      "\n",
      "The Boston house-price data of Harrison, D. and Rubinfeld, D.L. 'Hedonic\n",
      "prices and the demand for clean air', J. Environ. Economics & Management,\n",
      "vol.5, 81-102, 1978.   Used in Belsley, Kuh & Welsch, 'Regression diagnostics\n",
      "...', Wiley, 1980.   N.B. Various transformations are used in the table on\n",
      "pages 244-261 of the latter.\n",
      "\n",
      "The Boston house-price data has been used in many machine learning papers that address regression\n",
      "problems.   \n",
      "     \n",
      ".. topic:: References\n",
      "\n",
      "   - Belsley, Kuh & Welsch, 'Regression diagnostics: Identifying Influential Data and Sources of Collinearity', Wiley, 1980. 244-261.\n",
      "   - Quinlan,R. (1993). Combining Instance-Based and Model-Based Learning. In Proceedings on the Tenth International Conference of Machine Learning, 236-243, University of Massachusetts, Amherst. Morgan Kaufmann.\n",
      "\n"
     ]
    }
   ],
   "source": [
    "print(ds.DESCR)"
   ]
  },
  {
   "cell_type": "code",
   "execution_count": 36,
   "metadata": {},
   "outputs": [
    {
     "data": {
      "text/plain": [
       "((379, 13), (127, 13), (379,), (127,))"
      ]
     },
     "execution_count": 36,
     "metadata": {},
     "output_type": "execute_result"
    }
   ],
   "source": [
    "X_train, X_test, y_train, y_test = train_test_split(X, y)\n",
    "X_train.shape, X_test.shape, y_train.shape, y_test.shape"
   ]
  },
  {
   "cell_type": "code",
   "execution_count": 39,
   "metadata": {},
   "outputs": [
    {
     "data": {
      "text/plain": [
       "Pipeline(steps=[('standardscaler', StandardScaler()),\n",
       "                ('svr', SVR(C=1000.0, epsilon=0.2))])"
      ]
     },
     "execution_count": 39,
     "metadata": {},
     "output_type": "execute_result"
    }
   ],
   "source": [
    "from sklearn.svm import SVR\n",
    "from sklearn.pipeline import make_pipeline\n",
    "\n",
    "# make_pipeline?\n",
    "# svr = make_pipeline(StandardScaler(), SVR(C=1.0, epsilon=0.2))\n",
    "svr = make_pipeline(StandardScaler(), SVR(C=1000.0, epsilon=0.2))\n",
    "svr.fit(X_train, y_train)"
   ]
  },
  {
   "cell_type": "code",
   "execution_count": 40,
   "metadata": {},
   "outputs": [
    {
     "data": {
      "text/plain": [
       "0.8882943579643608"
      ]
     },
     "execution_count": 40,
     "metadata": {},
     "output_type": "execute_result"
    }
   ],
   "source": [
    "svr.score(X_test, y_test)"
   ]
  },
  {
   "cell_type": "code",
   "execution_count": 41,
   "metadata": {},
   "outputs": [
    {
     "data": {
      "text/plain": [
       "0.8882943579643608"
      ]
     },
     "execution_count": 41,
     "metadata": {},
     "output_type": "execute_result"
    }
   ],
   "source": [
    "from sklearn.metrics import r2_score\n",
    "r2_score(y_test, svr.predict(X_test))"
   ]
  },
  {
   "cell_type": "code",
   "execution_count": 42,
   "metadata": {},
   "outputs": [],
   "source": [
    "scaler = StandardScaler()\n",
    "X_train = scaler.fit_transform(X_train)\n",
    "X_test = scaler.transform(X_test)"
   ]
  },
  {
   "cell_type": "code",
   "execution_count": 43,
   "metadata": {},
   "outputs": [
    {
     "data": {
      "text/plain": [
       "SVR(C=1000.0, epsilon=0.2)"
      ]
     },
     "execution_count": 43,
     "metadata": {},
     "output_type": "execute_result"
    }
   ],
   "source": [
    "# clf = SVR(C=1.0, epsilon=0.2)\n",
    "clf = SVR(C=1000.0, epsilon=0.2)\n",
    "clf.fit(X_train, y_train)"
   ]
  },
  {
   "cell_type": "code",
   "execution_count": 44,
   "metadata": {},
   "outputs": [
    {
     "data": {
      "text/plain": [
       "0.8882943579643608"
      ]
     },
     "execution_count": 44,
     "metadata": {},
     "output_type": "execute_result"
    }
   ],
   "source": [
    "clf.score(X_test, y_test)"
   ]
  },
  {
   "cell_type": "markdown",
   "metadata": {},
   "source": [
    "## Kernel SVC\n",
    "https://scikit-learn.org/stable/modules/generated/sklearn.svm.SVC.html"
   ]
  },
  {
   "cell_type": "code",
   "execution_count": 45,
   "metadata": {},
   "outputs": [
    {
     "data": {
      "text/plain": [
       "Pipeline(steps=[('standardscaler', StandardScaler()),\n",
       "                ('svc', SVC(gamma='auto'))])"
      ]
     },
     "execution_count": 45,
     "metadata": {},
     "output_type": "execute_result"
    }
   ],
   "source": [
    "import numpy as np\n",
    "from sklearn.pipeline import make_pipeline\n",
    "from sklearn.preprocessing import StandardScaler\n",
    "X = np.array([[-1, -1], [-2, -1], [1, 1], [2, 1]])\n",
    "y = np.array([1, 1, 2, 2])\n",
    "from sklearn.svm import SVC\n",
    "clf = make_pipeline(StandardScaler(), SVC(gamma='auto'))\n",
    "clf.fit(X, y)"
   ]
  },
  {
   "cell_type": "code",
   "execution_count": 46,
   "metadata": {},
   "outputs": [
    {
     "name": "stdout",
     "output_type": "stream",
     "text": [
      "[1]\n"
     ]
    }
   ],
   "source": [
    "print(clf.predict([[-0.8, -1]]))"
   ]
  },
  {
   "cell_type": "markdown",
   "metadata": {},
   "source": [
    "## make_circles\n",
    "https://scikit-learn.org/stable/auto_examples/decomposition/plot_kernel_pca.html#sphx-glr-auto-examples-decomposition-plot-kernel-pca-py"
   ]
  },
  {
   "cell_type": "code",
   "execution_count": 47,
   "metadata": {},
   "outputs": [
    {
     "data": {
      "text/plain": [
       "((400, 2), (400,))"
      ]
     },
     "execution_count": 47,
     "metadata": {},
     "output_type": "execute_result"
    }
   ],
   "source": [
    "from sklearn.datasets import make_circles\n",
    "# make_circles?\n",
    "X, y = make_circles(n_samples=400, factor=.3, noise=.05)\n",
    "X.shape, y.shape"
   ]
  },
  {
   "cell_type": "code",
   "execution_count": 48,
   "metadata": {},
   "outputs": [
    {
     "data": {
      "text/plain": [
       "(array([0, 1, 0, 1, 1, 0, 1, 1, 1, 0, 0, 1, 1, 1, 1, 1, 1, 0, 0, 1, 1, 0,\n",
       "        0, 0, 1, 0, 0, 0, 1, 1, 0, 0, 1, 1, 0, 0, 0, 1, 0, 0, 1, 0, 0, 1,\n",
       "        0, 0, 0, 1, 0, 0, 1, 1, 1, 1, 0, 0, 1, 1, 0, 0, 0, 1, 1, 1, 0, 0,\n",
       "        0, 1, 0, 1, 1, 1, 0, 0, 0, 0, 0, 1, 1, 1, 1, 1, 1, 1, 0, 1, 1, 0,\n",
       "        0, 0, 1, 0, 0, 0, 1, 0, 0, 0, 0, 0, 0, 0, 1, 1, 1, 1, 0, 1, 0, 0,\n",
       "        0, 1, 1, 0, 0, 0, 0, 0, 1, 0, 0, 0, 1, 1, 0, 0, 0, 1, 0, 0, 0, 1,\n",
       "        1, 0, 1, 1, 0, 1, 1, 1, 1, 0, 0, 1, 1, 1, 0, 1, 0, 1, 1, 1, 0, 0,\n",
       "        1, 1, 1, 1, 1, 0, 0, 1, 1, 0, 0, 0, 1, 1, 0, 0, 1, 0, 1, 1, 1, 1,\n",
       "        0, 1, 1, 0, 1, 1, 0, 0, 1, 1, 1, 0, 1, 1, 1, 0, 1, 1, 1, 1, 0, 0,\n",
       "        0, 1, 1, 1, 0, 0, 0, 1, 1, 1, 1, 0, 0, 0, 1, 1, 1, 0, 0, 0, 1, 1,\n",
       "        1, 0, 1, 1, 0, 0, 1, 1, 1, 0, 0, 0, 0, 1, 0, 1, 1, 0, 1, 1, 0, 1,\n",
       "        0, 0, 0, 1, 0, 1, 1, 1, 0, 0, 1, 0, 0, 1, 1, 1, 1, 1, 0, 0, 1, 0,\n",
       "        1, 1, 0, 1, 0, 1, 1, 0, 0, 0, 1, 0, 0, 0, 0, 0, 0, 1, 0, 0, 0, 0,\n",
       "        0, 1, 0, 0, 1, 1, 1, 1, 0, 0, 0, 1, 1, 1, 1, 1, 0, 0, 0, 0, 1, 1,\n",
       "        1, 1, 1, 0, 0, 0, 0, 0, 1, 0, 1, 0, 1, 0, 1, 1, 0, 1, 1, 1, 0, 0,\n",
       "        0, 1, 0, 0, 0, 1, 1, 1, 0, 0, 1, 1, 0, 0, 0, 1, 0, 0, 1, 1, 0, 1,\n",
       "        0, 1, 1, 1, 1, 0, 1, 0, 1, 1, 1, 0, 0, 0, 0, 1, 1, 0, 0, 0, 1, 1,\n",
       "        1, 1, 0, 1, 1, 1, 0, 1, 1, 0, 0, 0, 1, 0, 0, 1, 0, 0, 0, 0, 1, 0,\n",
       "        1, 0, 0, 1], dtype=int64),\n",
       " numpy.ndarray)"
      ]
     },
     "execution_count": 48,
     "metadata": {},
     "output_type": "execute_result"
    }
   ],
   "source": [
    "y, type(y)"
   ]
  },
  {
   "cell_type": "code",
   "execution_count": 51,
   "metadata": {},
   "outputs": [
    {
     "data": {
      "text/plain": [
       "array(['g', 'b', 'g', 'b', 'b', 'g', 'b', 'b', 'b', 'g', 'g', 'b', 'b',\n",
       "       'b', 'b', 'b', 'b', 'g', 'g', 'b', 'b', 'g', 'g', 'g', 'b', 'g',\n",
       "       'g', 'g', 'b', 'b', 'g', 'g', 'b', 'b', 'g', 'g', 'g', 'b', 'g',\n",
       "       'g', 'b', 'g', 'g', 'b', 'g', 'g', 'g', 'b', 'g', 'g', 'b', 'b',\n",
       "       'b', 'b', 'g', 'g', 'b', 'b', 'g', 'g', 'g', 'b', 'b', 'b', 'g',\n",
       "       'g', 'g', 'b', 'g', 'b', 'b', 'b', 'g', 'g', 'g', 'g', 'g', 'b',\n",
       "       'b', 'b', 'b', 'b', 'b', 'b', 'g', 'b', 'b', 'g', 'g', 'g', 'b',\n",
       "       'g', 'g', 'g', 'b', 'g', 'g', 'g', 'g', 'g', 'g', 'g', 'b', 'b',\n",
       "       'b', 'b', 'g', 'b', 'g', 'g', 'g', 'b', 'b', 'g', 'g', 'g', 'g',\n",
       "       'g', 'b', 'g', 'g', 'g', 'b', 'b', 'g', 'g', 'g', 'b', 'g', 'g',\n",
       "       'g', 'b', 'b', 'g', 'b', 'b', 'g', 'b', 'b', 'b', 'b', 'g', 'g',\n",
       "       'b', 'b', 'b', 'g', 'b', 'g', 'b', 'b', 'b', 'g', 'g', 'b', 'b',\n",
       "       'b', 'b', 'b', 'g', 'g', 'b', 'b', 'g', 'g', 'g', 'b', 'b', 'g',\n",
       "       'g', 'b', 'g', 'b', 'b', 'b', 'b', 'g', 'b', 'b', 'g', 'b', 'b',\n",
       "       'g', 'g', 'b', 'b', 'b', 'g', 'b', 'b', 'b', 'g', 'b', 'b', 'b',\n",
       "       'b', 'g', 'g', 'g', 'b', 'b', 'b', 'g', 'g', 'g', 'b', 'b', 'b',\n",
       "       'b', 'g', 'g', 'g', 'b', 'b', 'b', 'g', 'g', 'g', 'b', 'b', 'b',\n",
       "       'g', 'b', 'b', 'g', 'g', 'b', 'b', 'b', 'g', 'g', 'g', 'g', 'b',\n",
       "       'g', 'b', 'b', 'g', 'b', 'b', 'g', 'b', 'g', 'g', 'g', 'b', 'g',\n",
       "       'b', 'b', 'b', 'g', 'g', 'b', 'g', 'g', 'b', 'b', 'b', 'b', 'b',\n",
       "       'g', 'g', 'b', 'g', 'b', 'b', 'g', 'b', 'g', 'b', 'b', 'g', 'g',\n",
       "       'g', 'b', 'g', 'g', 'g', 'g', 'g', 'g', 'b', 'g', 'g', 'g', 'g',\n",
       "       'g', 'b', 'g', 'g', 'b', 'b', 'b', 'b', 'g', 'g', 'g', 'b', 'b',\n",
       "       'b', 'b', 'b', 'g', 'g', 'g', 'g', 'b', 'b', 'b', 'b', 'b', 'g',\n",
       "       'g', 'g', 'g', 'g', 'b', 'g', 'b', 'g', 'b', 'g', 'b', 'b', 'g',\n",
       "       'b', 'b', 'b', 'g', 'g', 'g', 'b', 'g', 'g', 'g', 'b', 'b', 'b',\n",
       "       'g', 'g', 'b', 'b', 'g', 'g', 'g', 'b', 'g', 'g', 'b', 'b', 'g',\n",
       "       'b', 'g', 'b', 'b', 'b', 'b', 'g', 'b', 'g', 'b', 'b', 'b', 'g',\n",
       "       'g', 'g', 'g', 'b', 'b', 'g', 'g', 'g', 'b', 'b', 'b', 'b', 'g',\n",
       "       'b', 'b', 'b', 'g', 'b', 'b', 'g', 'g', 'g', 'b', 'g', 'g', 'b',\n",
       "       'g', 'g', 'g', 'g', 'b', 'g', 'b', 'g', 'g', 'b'], dtype='<U21')"
      ]
     },
     "execution_count": 51,
     "metadata": {},
     "output_type": "execute_result"
    }
   ],
   "source": [
    "# 直接指定顏色\n",
    "# y1=y\n",
    "y1=y.copy()\n",
    "# y1.astype?\n",
    "y1=y1.astype(str)\n",
    "y1[y==0]='g'\n",
    "y1[y==1]='b'\n",
    "y1"
   ]
  },
  {
   "cell_type": "code",
   "execution_count": 52,
   "metadata": {},
   "outputs": [
    {
     "data": {
      "text/plain": [
       "400"
      ]
     },
     "execution_count": 52,
     "metadata": {},
     "output_type": "execute_result"
    }
   ],
   "source": [
    "len(y1)"
   ]
  },
  {
   "cell_type": "code",
   "execution_count": 55,
   "metadata": {},
   "outputs": [
    {
     "data": {
      "text/plain": [
       "<matplotlib.collections.PathCollection at 0x1c445687fd0>"
      ]
     },
     "execution_count": 55,
     "metadata": {},
     "output_type": "execute_result"
    },
    {
     "data": {
      "image/png": "[encoded data removed]",
      "text/plain": [
       "<Figure size 432x288 with 1 Axes>"
      ]
     },
     "metadata": {
      "needs_background": "light"
     },
     "output_type": "display_data"
    }
   ],
   "source": [
    "import matplotlib.pyplot as plt\n",
    "\n",
    "# plt.scatter(X[:, 0], X[:, 1], c=y, s=50, cmap='autumn')\n",
    "plt.scatter(X[:, 0], X[:, 1], c=y1, s=50, cmap='autumn')"
   ]
  },
  {
   "cell_type": "code",
   "execution_count": 56,
   "metadata": {},
   "outputs": [
    {
     "data": {
      "text/plain": [
       "Pipeline(steps=[('standardscaler', StandardScaler()),\n",
       "                ('svc', SVC(gamma='auto'))])"
      ]
     },
     "execution_count": 56,
     "metadata": {},
     "output_type": "execute_result"
    }
   ],
   "source": [
    "from sklearn.svm import SVC\n",
    "clf = make_pipeline(StandardScaler(), SVC(kernel='rbf', gamma='auto'))\n",
    "clf.fit(X, y)"
   ]
  },
  {
   "cell_type": "code",
   "execution_count": 57,
   "metadata": {},
   "outputs": [
    {
     "data": {
      "text/plain": [
       "1.0"
      ]
     },
     "execution_count": 57,
     "metadata": {},
     "output_type": "execute_result"
    }
   ],
   "source": [
    "clf.score(X, y)"
   ]
  },
  {
   "cell_type": "code",
   "execution_count": 58,
   "metadata": {},
   "outputs": [
    {
     "data": {
      "text/plain": [
       "0.6725"
      ]
     },
     "execution_count": 58,
     "metadata": {},
     "output_type": "execute_result"
    }
   ],
   "source": [
    "clf = make_pipeline(StandardScaler(), SVC(kernel='linear', gamma='auto'))\n",
    "clf.fit(X, y)\n",
    "clf.score(X, y)"
   ]
  },
  {
   "cell_type": "code",
   "execution_count": null,
   "metadata": {},
   "outputs": [],
   "source": []
  }
 ],
 "metadata": {
  "kernelspec": {
   "display_name": "Python 3",
   "language": "python",
   "name": "python3"
  },
  "language_info": {
   "codemirror_mode": {
    "name": "ipython",
    "version": 3
   },
   "file_extension": ".py",
   "mimetype": "text/x-python",
   "name": "python",
   "nbconvert_exporter": "python",
   "pygments_lexer": "ipython3",
   "version": "3.8.3"
  }
 },
 "nbformat": 4,
 "nbformat_minor": 4
}
