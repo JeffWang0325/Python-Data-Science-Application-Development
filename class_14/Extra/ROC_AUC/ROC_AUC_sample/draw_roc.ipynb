{
 "cells": [
  {
   "cell_type": "code",
   "execution_count": 1,
   "metadata": {},
   "outputs": [],
   "source": [
    "# %matplotlib inline\n",
    "import numpy as np\n",
    "import matplotlib.pyplot as plt\n",
    "from sklearn.metrics import roc_curve, roc_auc_score, auc"
   ]
  },
  {
   "cell_type": "code",
   "execution_count": 2,
   "metadata": {},
   "outputs": [
    {
     "data": {
      "text/html": [
       "<div>\n",
       "<style scoped>\n",
       "    .dataframe tbody tr th:only-of-type {\n",
       "        vertical-align: middle;\n",
       "    }\n",
       "\n",
       "    .dataframe tbody tr th {\n",
       "        vertical-align: top;\n",
       "    }\n",
       "\n",
       "    .dataframe thead th {\n",
       "        text-align: right;\n",
       "    }\n",
       "</style>\n",
       "<table border=\"1\" class=\"dataframe\">\n",
       "  <thead>\n",
       "    <tr style=\"text-align: right;\">\n",
       "      <th></th>\n",
       "      <th>predict</th>\n",
       "      <th>actual</th>\n",
       "    </tr>\n",
       "  </thead>\n",
       "  <tbody>\n",
       "    <tr>\n",
       "      <th>0</th>\n",
       "      <td>0.11</td>\n",
       "      <td>0</td>\n",
       "    </tr>\n",
       "    <tr>\n",
       "      <th>1</th>\n",
       "      <td>0.35</td>\n",
       "      <td>0</td>\n",
       "    </tr>\n",
       "    <tr>\n",
       "      <th>2</th>\n",
       "      <td>0.72</td>\n",
       "      <td>1</td>\n",
       "    </tr>\n",
       "    <tr>\n",
       "      <th>3</th>\n",
       "      <td>0.10</td>\n",
       "      <td>1</td>\n",
       "    </tr>\n",
       "    <tr>\n",
       "      <th>4</th>\n",
       "      <td>0.99</td>\n",
       "      <td>1</td>\n",
       "    </tr>\n",
       "    <tr>\n",
       "      <th>5</th>\n",
       "      <td>0.44</td>\n",
       "      <td>1</td>\n",
       "    </tr>\n",
       "    <tr>\n",
       "      <th>6</th>\n",
       "      <td>0.32</td>\n",
       "      <td>0</td>\n",
       "    </tr>\n",
       "    <tr>\n",
       "      <th>7</th>\n",
       "      <td>0.80</td>\n",
       "      <td>1</td>\n",
       "    </tr>\n",
       "    <tr>\n",
       "      <th>8</th>\n",
       "      <td>0.22</td>\n",
       "      <td>1</td>\n",
       "    </tr>\n",
       "    <tr>\n",
       "      <th>9</th>\n",
       "      <td>0.08</td>\n",
       "      <td>0</td>\n",
       "    </tr>\n",
       "    <tr>\n",
       "      <th>10</th>\n",
       "      <td>0.56</td>\n",
       "      <td>1</td>\n",
       "    </tr>\n",
       "    <tr>\n",
       "      <th>11</th>\n",
       "      <td>0.48</td>\n",
       "      <td>0</td>\n",
       "    </tr>\n",
       "    <tr>\n",
       "      <th>12</th>\n",
       "      <td>0.42</td>\n",
       "      <td>1</td>\n",
       "    </tr>\n",
       "    <tr>\n",
       "      <th>13</th>\n",
       "      <td>0.73</td>\n",
       "      <td>0</td>\n",
       "    </tr>\n",
       "    <tr>\n",
       "      <th>14</th>\n",
       "      <td>0.03</td>\n",
       "      <td>0</td>\n",
       "    </tr>\n",
       "    <tr>\n",
       "      <th>15</th>\n",
       "      <td>0.65</td>\n",
       "      <td>1</td>\n",
       "    </tr>\n",
       "    <tr>\n",
       "      <th>16</th>\n",
       "      <td>0.71</td>\n",
       "      <td>1</td>\n",
       "    </tr>\n",
       "    <tr>\n",
       "      <th>17</th>\n",
       "      <td>0.82</td>\n",
       "      <td>1</td>\n",
       "    </tr>\n",
       "  </tbody>\n",
       "</table>\n",
       "</div>"
      ],
      "text/plain": [
       "    predict  actual\n",
       "0      0.11       0\n",
       "1      0.35       0\n",
       "2      0.72       1\n",
       "3      0.10       1\n",
       "4      0.99       1\n",
       "5      0.44       1\n",
       "6      0.32       0\n",
       "7      0.80       1\n",
       "8      0.22       1\n",
       "9      0.08       0\n",
       "10     0.56       1\n",
       "11     0.48       0\n",
       "12     0.42       1\n",
       "13     0.73       0\n",
       "14     0.03       0\n",
       "15     0.65       1\n",
       "16     0.71       1\n",
       "17     0.82       1"
      ]
     },
     "execution_count": 2,
     "metadata": {},
     "output_type": "execute_result"
    }
   ],
   "source": [
    "# 讀取資料\n",
    "import pandas as pd\n",
    "df = pd.read_csv('./data.csv')\n",
    "df"
   ]
  },
  {
   "cell_type": "markdown",
   "metadata": {},
   "source": [
    "## Plot \n",
    "1. 計算第二欄的真(1)與假(0)的個數，假設分別為P及N，Y軸切成P格，X軸切成N格，如下圖。\n",
    "2. 以第一欄降冪排序，從大排到小。\n",
    "3. 依序掃描第二欄，若是1，就往『上』畫一格，反之，若是0，就往『右』畫一格，直到最後一列，如下圖。"
   ]
  },
  {
   "cell_type": "code",
   "execution_count": 3,
   "metadata": {},
   "outputs": [
    {
     "data": {
      "text/plain": [
       "(0     False\n",
       " 1     False\n",
       " 2      True\n",
       " 3      True\n",
       " 4      True\n",
       " 5      True\n",
       " 6     False\n",
       " 7      True\n",
       " 8      True\n",
       " 9     False\n",
       " 10     True\n",
       " 11    False\n",
       " 12     True\n",
       " 13    False\n",
       " 14    False\n",
       " 15     True\n",
       " 16     True\n",
       " 17     True\n",
       " Name: actual, dtype: bool,\n",
       " pandas.core.series.Series)"
      ]
     },
     "execution_count": 3,
     "metadata": {},
     "output_type": "execute_result"
    }
   ],
   "source": [
    "(df['actual'] == 1), type(df['actual'] == 1)"
   ]
  },
  {
   "cell_type": "code",
   "execution_count": 4,
   "metadata": {},
   "outputs": [
    {
     "data": {
      "text/plain": [
       "(    predict  actual\n",
       " 2      0.72       1\n",
       " 3      0.10       1\n",
       " 4      0.99       1\n",
       " 5      0.44       1\n",
       " 7      0.80       1\n",
       " 8      0.22       1\n",
       " 10     0.56       1\n",
       " 12     0.42       1\n",
       " 15     0.65       1\n",
       " 16     0.71       1\n",
       " 17     0.82       1,\n",
       " pandas.core.frame.DataFrame,\n",
       " (11, 2))"
      ]
     },
     "execution_count": 4,
     "metadata": {},
     "output_type": "execute_result"
    }
   ],
   "source": [
    "df[df['actual'] == 1], type(df[df['actual'] == 1]), df[df['actual'] == 1].shape"
   ]
  },
  {
   "cell_type": "code",
   "execution_count": 5,
   "metadata": {},
   "outputs": [
    {
     "name": "stdout",
     "output_type": "stream",
     "text": [
      "11 7\n"
     ]
    }
   ],
   "source": [
    "# 計算第二欄的真(1)與假(0)的個數，假設分別為P及N\n",
    "P = df[df['actual'] == 1].shape[0]\n",
    "N = df[df['actual'] == 0].shape[0]\n",
    "print(P, N)\n",
    "y_unit = 1 / P\n",
    "X_unit = 1 / N"
   ]
  },
  {
   "cell_type": "code",
   "execution_count": 6,
   "metadata": {
    "scrolled": false
   },
   "outputs": [
    {
     "data": {
      "text/html": [
       "<div>\n",
       "<style scoped>\n",
       "    .dataframe tbody tr th:only-of-type {\n",
       "        vertical-align: middle;\n",
       "    }\n",
       "\n",
       "    .dataframe tbody tr th {\n",
       "        vertical-align: top;\n",
       "    }\n",
       "\n",
       "    .dataframe thead th {\n",
       "        text-align: right;\n",
       "    }\n",
       "</style>\n",
       "<table border=\"1\" class=\"dataframe\">\n",
       "  <thead>\n",
       "    <tr style=\"text-align: right;\">\n",
       "      <th></th>\n",
       "      <th>predict</th>\n",
       "      <th>actual</th>\n",
       "    </tr>\n",
       "  </thead>\n",
       "  <tbody>\n",
       "    <tr>\n",
       "      <th>4</th>\n",
       "      <td>0.99</td>\n",
       "      <td>1</td>\n",
       "    </tr>\n",
       "    <tr>\n",
       "      <th>17</th>\n",
       "      <td>0.82</td>\n",
       "      <td>1</td>\n",
       "    </tr>\n",
       "    <tr>\n",
       "      <th>7</th>\n",
       "      <td>0.80</td>\n",
       "      <td>1</td>\n",
       "    </tr>\n",
       "    <tr>\n",
       "      <th>13</th>\n",
       "      <td>0.73</td>\n",
       "      <td>0</td>\n",
       "    </tr>\n",
       "    <tr>\n",
       "      <th>2</th>\n",
       "      <td>0.72</td>\n",
       "      <td>1</td>\n",
       "    </tr>\n",
       "    <tr>\n",
       "      <th>16</th>\n",
       "      <td>0.71</td>\n",
       "      <td>1</td>\n",
       "    </tr>\n",
       "    <tr>\n",
       "      <th>15</th>\n",
       "      <td>0.65</td>\n",
       "      <td>1</td>\n",
       "    </tr>\n",
       "    <tr>\n",
       "      <th>10</th>\n",
       "      <td>0.56</td>\n",
       "      <td>1</td>\n",
       "    </tr>\n",
       "    <tr>\n",
       "      <th>11</th>\n",
       "      <td>0.48</td>\n",
       "      <td>0</td>\n",
       "    </tr>\n",
       "    <tr>\n",
       "      <th>5</th>\n",
       "      <td>0.44</td>\n",
       "      <td>1</td>\n",
       "    </tr>\n",
       "    <tr>\n",
       "      <th>12</th>\n",
       "      <td>0.42</td>\n",
       "      <td>1</td>\n",
       "    </tr>\n",
       "    <tr>\n",
       "      <th>1</th>\n",
       "      <td>0.35</td>\n",
       "      <td>0</td>\n",
       "    </tr>\n",
       "    <tr>\n",
       "      <th>6</th>\n",
       "      <td>0.32</td>\n",
       "      <td>0</td>\n",
       "    </tr>\n",
       "    <tr>\n",
       "      <th>8</th>\n",
       "      <td>0.22</td>\n",
       "      <td>1</td>\n",
       "    </tr>\n",
       "    <tr>\n",
       "      <th>0</th>\n",
       "      <td>0.11</td>\n",
       "      <td>0</td>\n",
       "    </tr>\n",
       "    <tr>\n",
       "      <th>3</th>\n",
       "      <td>0.10</td>\n",
       "      <td>1</td>\n",
       "    </tr>\n",
       "    <tr>\n",
       "      <th>9</th>\n",
       "      <td>0.08</td>\n",
       "      <td>0</td>\n",
       "    </tr>\n",
       "    <tr>\n",
       "      <th>14</th>\n",
       "      <td>0.03</td>\n",
       "      <td>0</td>\n",
       "    </tr>\n",
       "  </tbody>\n",
       "</table>\n",
       "</div>"
      ],
      "text/plain": [
       "    predict  actual\n",
       "4      0.99       1\n",
       "17     0.82       1\n",
       "7      0.80       1\n",
       "13     0.73       0\n",
       "2      0.72       1\n",
       "16     0.71       1\n",
       "15     0.65       1\n",
       "10     0.56       1\n",
       "11     0.48       0\n",
       "5      0.44       1\n",
       "12     0.42       1\n",
       "1      0.35       0\n",
       "6      0.32       0\n",
       "8      0.22       1\n",
       "0      0.11       0\n",
       "3      0.10       1\n",
       "9      0.08       0\n",
       "14     0.03       0"
      ]
     },
     "execution_count": 6,
     "metadata": {},
     "output_type": "execute_result"
    }
   ],
   "source": [
    "# 以第一欄降冪排序，從大排到小。\n",
    "df.sort_values?\n",
    "df2 = df.sort_values(by='predict', ascending=False)\n",
    "df2"
   ]
  },
  {
   "cell_type": "code",
   "execution_count": 7,
   "metadata": {
    "scrolled": true
   },
   "outputs": [
    {
     "name": "stdout",
     "output_type": "stream",
     "text": [
      "<class 'pandas.core.frame.Pandas'>\n",
      "Pandas(Index=4, predict=0.99, actual=1)\n",
      "4 0.99 1\n",
      "<class 'pandas.core.frame.Pandas'>\n",
      "Pandas(Index=17, predict=0.82, actual=1)\n",
      "17 0.82 1\n",
      "<class 'pandas.core.frame.Pandas'>\n",
      "Pandas(Index=7, predict=0.8, actual=1)\n",
      "7 0.8 1\n",
      "<class 'pandas.core.frame.Pandas'>\n",
      "Pandas(Index=13, predict=0.73, actual=0)\n",
      "13 0.73 0\n",
      "<class 'pandas.core.frame.Pandas'>\n",
      "Pandas(Index=2, predict=0.72, actual=1)\n",
      "2 0.72 1\n",
      "<class 'pandas.core.frame.Pandas'>\n",
      "Pandas(Index=16, predict=0.71, actual=1)\n",
      "16 0.71 1\n",
      "<class 'pandas.core.frame.Pandas'>\n",
      "Pandas(Index=15, predict=0.65, actual=1)\n",
      "15 0.65 1\n",
      "<class 'pandas.core.frame.Pandas'>\n",
      "Pandas(Index=10, predict=0.56, actual=1)\n",
      "10 0.56 1\n",
      "<class 'pandas.core.frame.Pandas'>\n",
      "Pandas(Index=11, predict=0.48, actual=0)\n",
      "11 0.48 0\n",
      "<class 'pandas.core.frame.Pandas'>\n",
      "Pandas(Index=5, predict=0.44, actual=1)\n",
      "5 0.44 1\n",
      "<class 'pandas.core.frame.Pandas'>\n",
      "Pandas(Index=12, predict=0.42, actual=1)\n",
      "12 0.42 1\n",
      "<class 'pandas.core.frame.Pandas'>\n",
      "Pandas(Index=1, predict=0.35, actual=0)\n",
      "1 0.35 0\n",
      "<class 'pandas.core.frame.Pandas'>\n",
      "Pandas(Index=6, predict=0.32, actual=0)\n",
      "6 0.32 0\n",
      "<class 'pandas.core.frame.Pandas'>\n",
      "Pandas(Index=8, predict=0.22, actual=1)\n",
      "8 0.22 1\n",
      "<class 'pandas.core.frame.Pandas'>\n",
      "Pandas(Index=0, predict=0.11, actual=0)\n",
      "0 0.11 0\n",
      "<class 'pandas.core.frame.Pandas'>\n",
      "Pandas(Index=3, predict=0.1, actual=1)\n",
      "3 0.1 1\n",
      "<class 'pandas.core.frame.Pandas'>\n",
      "Pandas(Index=9, predict=0.08, actual=0)\n",
      "9 0.08 0\n",
      "<class 'pandas.core.frame.Pandas'>\n",
      "Pandas(Index=14, predict=0.03, actual=0)\n",
      "14 0.03 0\n"
     ]
    }
   ],
   "source": [
    "df2.itertuples?\n",
    "for row in df2.itertuples(): # Iterate over DataFrame rows as namedtuples.\n",
    "    print(type(row))\n",
    "    print(row)\n",
    "    print(row[0], row[1], row[2])"
   ]
  },
  {
   "cell_type": "code",
   "execution_count": 8,
   "metadata": {
    "scrolled": true
   },
   "outputs": [
    {
     "name": "stdout",
     "output_type": "stream",
     "text": [
      "<class 'tuple'>\n",
      "(4, 0.99, 1)\n",
      "4 0.99 1\n",
      "<class 'tuple'>\n",
      "(17, 0.82, 1)\n",
      "17 0.82 1\n",
      "<class 'tuple'>\n",
      "(7, 0.8, 1)\n",
      "7 0.8 1\n",
      "<class 'tuple'>\n",
      "(13, 0.73, 0)\n",
      "13 0.73 0\n",
      "<class 'tuple'>\n",
      "(2, 0.72, 1)\n",
      "2 0.72 1\n",
      "<class 'tuple'>\n",
      "(16, 0.71, 1)\n",
      "16 0.71 1\n",
      "<class 'tuple'>\n",
      "(15, 0.65, 1)\n",
      "15 0.65 1\n",
      "<class 'tuple'>\n",
      "(10, 0.56, 1)\n",
      "10 0.56 1\n",
      "<class 'tuple'>\n",
      "(11, 0.48, 0)\n",
      "11 0.48 0\n",
      "<class 'tuple'>\n",
      "(5, 0.44, 1)\n",
      "5 0.44 1\n",
      "<class 'tuple'>\n",
      "(12, 0.42, 1)\n",
      "12 0.42 1\n",
      "<class 'tuple'>\n",
      "(1, 0.35, 0)\n",
      "1 0.35 0\n",
      "<class 'tuple'>\n",
      "(6, 0.32, 0)\n",
      "6 0.32 0\n",
      "<class 'tuple'>\n",
      "(8, 0.22, 1)\n",
      "8 0.22 1\n",
      "<class 'tuple'>\n",
      "(0, 0.11, 0)\n",
      "0 0.11 0\n",
      "<class 'tuple'>\n",
      "(3, 0.1, 1)\n",
      "3 0.1 1\n",
      "<class 'tuple'>\n",
      "(9, 0.08, 0)\n",
      "9 0.08 0\n",
      "<class 'tuple'>\n",
      "(14, 0.03, 0)\n",
      "14 0.03 0\n"
     ]
    }
   ],
   "source": [
    "for row in df2.itertuples(name = None): # Iterate over DataFrame rows as namedtuples.\n",
    "    print(type(row))\n",
    "    print(row)\n",
    "    print(row[0], row[1], row[2])"
   ]
  },
  {
   "cell_type": "code",
   "execution_count": 9,
   "metadata": {},
   "outputs": [
    {
     "name": "stdout",
     "output_type": "stream",
     "text": [
      "[0.         0.         0.         0.14285714 0.14285714 0.14285714\n",
      " 0.14285714 0.14285714 0.28571429 0.28571429 0.28571429 0.42857143\n",
      " 0.57142857 0.57142857 0.71428571 0.71428571 0.85714286 1.        ] <class 'numpy.ndarray'>\n",
      "[0.09090909 0.18181818 0.27272727 0.27272727 0.36363636 0.45454545\n",
      " 0.54545455 0.63636364 0.63636364 0.72727273 0.81818182 0.81818182\n",
      " 0.81818182 0.90909091 0.90909091 1.         1.         1.        ] <class 'numpy.ndarray'>\n"
     ]
    }
   ],
   "source": [
    "# 依序掃描第二欄，計算每一座標點\n",
    "# 若是1，Y加一單位，反之，若是0，X加一單位\n",
    "X = []\n",
    "y = []\n",
    "current_X = 0\n",
    "current_y = 0\n",
    "for row in df2.itertuples(): # Iterate over DataFrame rows as namedtuples.\n",
    "    # row[0] is index\n",
    "    #print(row[2])\n",
    "    if row[2] == 1:\n",
    "        current_y += y_unit\n",
    "    else:\n",
    "        current_X += X_unit\n",
    "    X.append(current_X)\n",
    "    y.append(current_y)\n",
    "\n",
    "X = np.array(X)        \n",
    "y = np.array(y)    \n",
    "print(X, type(X))\n",
    "print(y, type(y))"
   ]
  },
  {
   "cell_type": "code",
   "execution_count": 20,
   "metadata": {},
   "outputs": [
    {
     "data": {
      "image/png": "[encoded data removed]",
      "text/plain": [
       "<Figure size 864x576 with 1 Axes>"
      ]
     },
     "metadata": {
      "needs_background": "light"
     },
     "output_type": "display_data"
    }
   ],
   "source": [
    "# 繪圖\n",
    "plt.figure(figsize=(12, 8))\n",
    "plt.title('Receiver Operating Characteristic', color = 'r', fontsize = 22)\n",
    "plt.plot(X, y, color = 'orange', label = 'ROC')\n",
    "plt.plot([0, 1], [0, 1], 'r--', label = 'random guessing')\n",
    "plt.xlim([0, 1])\n",
    "plt.ylim([0, 1])\n",
    "plt.ylabel('True Positive Rate', color = 'b', fontsize = 18)\n",
    "plt.xlabel('False Positive Rate', color = 'b', fontsize = 18)\n",
    "plt.legend(loc = 'lower right')\n",
    "plt.grid()\n",
    "plt.show()"
   ]
  },
  {
   "cell_type": "markdown",
   "metadata": {},
   "source": [
    "## Scikit-Learn "
   ]
  },
  {
   "cell_type": "code",
   "execution_count": 11,
   "metadata": {},
   "outputs": [],
   "source": [
    "roc_curve?\n",
    "# Compute Receiver operating characteristic (ROC)\n",
    "# Note: this implementation is restricted to the binary classification task."
   ]
  },
  {
   "cell_type": "code",
   "execution_count": 12,
   "metadata": {},
   "outputs": [],
   "source": [
    "roc_auc_score?\n",
    "# Compute Area Under the Receiver Operating Characteristic Curve (ROC AUC) from prediction scores."
   ]
  },
  {
   "cell_type": "code",
   "execution_count": 13,
   "metadata": {
    "scrolled": true
   },
   "outputs": [
    {
     "name": "stdout",
     "output_type": "stream",
     "text": [
      "[0.         0.         0.         0.14285714 0.14285714 0.28571429\n",
      " 0.28571429 0.57142857 0.57142857 0.71428571 0.71428571 1.        ]\n",
      "----------\n",
      "[0.         0.09090909 0.27272727 0.27272727 0.63636364 0.63636364\n",
      " 0.81818182 0.81818182 0.90909091 0.90909091 1.         1.        ]\n",
      "----------\n",
      "[1.99 0.99 0.8  0.73 0.56 0.48 0.42 0.32 0.22 0.11 0.1  0.03]\n",
      "----------\n",
      "AUC = 0.78\n"
     ]
    }
   ],
   "source": [
    "# 在各種『決策門檻』（decision threshold）下，計算 『真陽率』（True Positive Rate；TPR）與『假陽率』（False Positive Rate；FPR）\n",
    "fpr, tpr, threshold = roc_curve(df['actual'], df['predict'])\n",
    "print(fpr) # Increasing false positive rates such that element i is the false \n",
    "           # positive rate of predictions with score >= thresholds[i].\n",
    "print('----------')\n",
    "print(tpr) # Increasing true positive rates such that element i is the true\n",
    "           # positive rate of predictions with score >= thresholds[i].\n",
    "print('----------')\n",
    "print(threshold) # Decreasing thresholds on the decision function used to compute\n",
    "                 # fpr and tpr. `thresholds[0]` represents no instances being predicted\n",
    "                 # and is arbitrarily set to `max(y_score) + 1`.\n",
    "print('----------')\n",
    "AUC = roc_auc_score(df['actual'], df['predict'])\n",
    "print(f'AUC = {AUC:0.2f}')"
   ]
  },
  {
   "cell_type": "code",
   "execution_count": 14,
   "metadata": {},
   "outputs": [
    {
     "ename": "SyntaxError",
     "evalue": "invalid syntax (<ipython-input-14-32763fa52e27>, line 1)",
     "output_type": "error",
     "traceback": [
      "\u001b[1;36m  File \u001b[1;32m\"<ipython-input-14-32763fa52e27>\"\u001b[1;36m, line \u001b[1;32m1\u001b[0m\n\u001b[1;33m    auc? # Compute Area Under the Curve (AUC) using the trapezoidal rule\u001b[0m\n\u001b[1;37m       ^\u001b[0m\n\u001b[1;31mSyntaxError\u001b[0m\u001b[1;31m:\u001b[0m invalid syntax\n"
     ]
    }
   ],
   "source": [
    "auc? # Compute Area Under the Curve (AUC) using the trapezoidal rule"
   ]
  },
  {
   "cell_type": "code",
   "execution_count": 19,
   "metadata": {},
   "outputs": [
    {
     "data": {
      "image/png": "[encoded data removed]",
      "text/plain": [
       "<Figure size 864x576 with 1 Axes>"
      ]
     },
     "metadata": {
      "needs_background": "light"
     },
     "output_type": "display_data"
    }
   ],
   "source": [
    "auc1 = auc(fpr, tpr)\n",
    "# Plot the result\n",
    "plt.figure(figsize=(12, 8))\n",
    "plt.title('Receiver Operating Characteristic', color = 'r', fontsize = 22)\n",
    "plt.plot(fpr, tpr, color = 'orange', label = 'AUC = %0.2f' % auc1)\n",
    "plt.plot([0, 1], [0, 1], 'r--', label = 'random guessing')\n",
    "plt.xlim([0, 1])\n",
    "plt.ylim([0, 1])\n",
    "plt.ylabel('True Positive Rate', color = 'b', fontsize = 18)\n",
    "plt.xlabel('False Positive Rate', color = 'b', fontsize = 18)\n",
    "plt.legend(loc = 'lower right')\n",
    "plt.grid()\n",
    "plt.show()"
   ]
  },
  {
   "cell_type": "code",
   "execution_count": null,
   "metadata": {},
   "outputs": [],
   "source": []
  }
 ],
 "metadata": {
  "kernelspec": {
   "display_name": "Python 3",
   "language": "python",
   "name": "python3"
  },
  "language_info": {
   "codemirror_mode": {
    "name": "ipython",
    "version": 3
   },
   "file_extension": ".py",
   "mimetype": "text/x-python",
   "name": "python",
   "nbconvert_exporter": "python",
   "pygments_lexer": "ipython3",
   "version": "3.8.3"
  }
 },
 "nbformat": 4,
 "nbformat_minor": 2
}
