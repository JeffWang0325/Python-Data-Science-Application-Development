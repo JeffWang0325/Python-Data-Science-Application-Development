{
 "cells": [
  {
   "cell_type": "code",
   "execution_count": 1,
   "metadata": {},
   "outputs": [],
   "source": [
    "import matplotlib.pyplot as plt\n",
    "import pandas as pd\n",
    "import numpy as np"
   ]
  },
  {
   "cell_type": "code",
   "execution_count": 2,
   "metadata": {},
   "outputs": [
    {
     "data": {
      "text/plain": [
       "{'data': array([[1.799e+01, 1.038e+01, 1.228e+02, ..., 2.654e-01, 4.601e-01,\n",
       "         1.189e-01],\n",
       "        [2.057e+01, 1.777e+01, 1.329e+02, ..., 1.860e-01, 2.750e-01,\n",
       "         8.902e-02],\n",
       "        [1.969e+01, 2.125e+01, 1.300e+02, ..., 2.430e-01, 3.613e-01,\n",
       "         8.758e-02],\n",
       "        ...,\n",
       "        [1.660e+01, 2.808e+01, 1.083e+02, ..., 1.418e-01, 2.218e-01,\n",
       "         7.820e-02],\n",
       "        [2.060e+01, 2.933e+01, 1.401e+02, ..., 2.650e-01, 4.087e-01,\n",
       "         1.240e-01],\n",
       "        [7.760e+00, 2.454e+01, 4.792e+01, ..., 0.000e+00, 2.871e-01,\n",
       "         7.039e-02]]),\n",
       " 'target': array([0, 0, 0, 0, 0, 0, 0, 0, 0, 0, 0, 0, 0, 0, 0, 0, 0, 0, 0, 1, 1, 1,\n",
       "        0, 0, 0, 0, 0, 0, 0, 0, 0, 0, 0, 0, 0, 0, 0, 1, 0, 0, 0, 0, 0, 0,\n",
       "        0, 0, 1, 0, 1, 1, 1, 1, 1, 0, 0, 1, 0, 0, 1, 1, 1, 1, 0, 1, 0, 0,\n",
       "        1, 1, 1, 1, 0, 1, 0, 0, 1, 0, 1, 0, 0, 1, 1, 1, 0, 0, 1, 0, 0, 0,\n",
       "        1, 1, 1, 0, 1, 1, 0, 0, 1, 1, 1, 0, 0, 1, 1, 1, 1, 0, 1, 1, 0, 1,\n",
       "        1, 1, 1, 1, 1, 1, 1, 0, 0, 0, 1, 0, 0, 1, 1, 1, 0, 0, 1, 0, 1, 0,\n",
       "        0, 1, 0, 0, 1, 1, 0, 1, 1, 0, 1, 1, 1, 1, 0, 1, 1, 1, 1, 1, 1, 1,\n",
       "        1, 1, 0, 1, 1, 1, 1, 0, 0, 1, 0, 1, 1, 0, 0, 1, 1, 0, 0, 1, 1, 1,\n",
       "        1, 0, 1, 1, 0, 0, 0, 1, 0, 1, 0, 1, 1, 1, 0, 1, 1, 0, 0, 1, 0, 0,\n",
       "        0, 0, 1, 0, 0, 0, 1, 0, 1, 0, 1, 1, 0, 1, 0, 0, 0, 0, 1, 1, 0, 0,\n",
       "        1, 1, 1, 0, 1, 1, 1, 1, 1, 0, 0, 1, 1, 0, 1, 1, 0, 0, 1, 0, 1, 1,\n",
       "        1, 1, 0, 1, 1, 1, 1, 1, 0, 1, 0, 0, 0, 0, 0, 0, 0, 0, 0, 0, 0, 0,\n",
       "        0, 0, 1, 1, 1, 1, 1, 1, 0, 1, 0, 1, 1, 0, 1, 1, 0, 1, 0, 0, 1, 1,\n",
       "        1, 1, 1, 1, 1, 1, 1, 1, 1, 1, 1, 0, 1, 1, 0, 1, 0, 1, 1, 1, 1, 1,\n",
       "        1, 1, 1, 1, 1, 1, 1, 1, 1, 0, 1, 1, 1, 0, 1, 0, 1, 1, 1, 1, 0, 0,\n",
       "        0, 1, 1, 1, 1, 0, 1, 0, 1, 0, 1, 1, 1, 0, 1, 1, 1, 1, 1, 1, 1, 0,\n",
       "        0, 0, 1, 1, 1, 1, 1, 1, 1, 1, 1, 1, 1, 0, 0, 1, 0, 0, 0, 1, 0, 0,\n",
       "        1, 1, 1, 1, 1, 0, 1, 1, 1, 1, 1, 0, 1, 1, 1, 0, 1, 1, 0, 0, 1, 1,\n",
       "        1, 1, 1, 1, 0, 1, 1, 1, 1, 1, 1, 1, 0, 1, 1, 1, 1, 1, 0, 1, 1, 0,\n",
       "        1, 1, 1, 1, 1, 1, 1, 1, 1, 1, 1, 1, 0, 1, 0, 0, 1, 0, 1, 1, 1, 1,\n",
       "        1, 0, 1, 1, 0, 1, 0, 1, 1, 0, 1, 0, 1, 1, 1, 1, 1, 1, 1, 1, 0, 0,\n",
       "        1, 1, 1, 1, 1, 1, 0, 1, 1, 1, 1, 1, 1, 1, 1, 1, 1, 0, 1, 1, 1, 1,\n",
       "        1, 1, 1, 0, 1, 0, 1, 1, 0, 1, 1, 1, 1, 1, 0, 0, 1, 0, 1, 0, 1, 1,\n",
       "        1, 1, 1, 0, 1, 1, 0, 1, 0, 1, 0, 0, 1, 1, 1, 0, 1, 1, 1, 1, 1, 1,\n",
       "        1, 1, 1, 1, 1, 0, 1, 0, 0, 1, 1, 1, 1, 1, 1, 1, 1, 1, 1, 1, 1, 1,\n",
       "        1, 1, 1, 1, 1, 1, 1, 1, 1, 1, 1, 1, 0, 0, 0, 0, 0, 0, 1]),\n",
       " 'frame': None,\n",
       " 'target_names': array(['malignant', 'benign'], dtype='<U9'),\n",
       " 'DESCR': '.. _breast_cancer_dataset:\\n\\nBreast cancer wisconsin (diagnostic) dataset\\n--------------------------------------------\\n\\n**Data Set Characteristics:**\\n\\n    :Number of Instances: 569\\n\\n    :Number of Attributes: 30 numeric, predictive attributes and the class\\n\\n    :Attribute Information:\\n        - radius (mean of distances from center to points on the perimeter)\\n        - texture (standard deviation of gray-scale values)\\n        - perimeter\\n        - area\\n        - smoothness (local variation in radius lengths)\\n        - compactness (perimeter^2 / area - 1.0)\\n        - concavity (severity of concave portions of the contour)\\n        - concave points (number of concave portions of the contour)\\n        - symmetry\\n        - fractal dimension (\"coastline approximation\" - 1)\\n\\n        The mean, standard error, and \"worst\" or largest (mean of the three\\n        worst/largest values) of these features were computed for each image,\\n        resulting in 30 features.  For instance, field 0 is Mean Radius, field\\n        10 is Radius SE, field 20 is Worst Radius.\\n\\n        - class:\\n                - WDBC-Malignant\\n                - WDBC-Benign\\n\\n    :Summary Statistics:\\n\\n    ===================================== ====== ======\\n                                           Min    Max\\n    ===================================== ====== ======\\n    radius (mean):                        6.981  28.11\\n    texture (mean):                       9.71   39.28\\n    perimeter (mean):                     43.79  188.5\\n    area (mean):                          143.5  2501.0\\n    smoothness (mean):                    0.053  0.163\\n    compactness (mean):                   0.019  0.345\\n    concavity (mean):                     0.0    0.427\\n    concave points (mean):                0.0    0.201\\n    symmetry (mean):                      0.106  0.304\\n    fractal dimension (mean):             0.05   0.097\\n    radius (standard error):              0.112  2.873\\n    texture (standard error):             0.36   4.885\\n    perimeter (standard error):           0.757  21.98\\n    area (standard error):                6.802  542.2\\n    smoothness (standard error):          0.002  0.031\\n    compactness (standard error):         0.002  0.135\\n    concavity (standard error):           0.0    0.396\\n    concave points (standard error):      0.0    0.053\\n    symmetry (standard error):            0.008  0.079\\n    fractal dimension (standard error):   0.001  0.03\\n    radius (worst):                       7.93   36.04\\n    texture (worst):                      12.02  49.54\\n    perimeter (worst):                    50.41  251.2\\n    area (worst):                         185.2  4254.0\\n    smoothness (worst):                   0.071  0.223\\n    compactness (worst):                  0.027  1.058\\n    concavity (worst):                    0.0    1.252\\n    concave points (worst):               0.0    0.291\\n    symmetry (worst):                     0.156  0.664\\n    fractal dimension (worst):            0.055  0.208\\n    ===================================== ====== ======\\n\\n    :Missing Attribute Values: None\\n\\n    :Class Distribution: 212 - Malignant, 357 - Benign\\n\\n    :Creator:  Dr. William H. Wolberg, W. Nick Street, Olvi L. Mangasarian\\n\\n    :Donor: Nick Street\\n\\n    :Date: November, 1995\\n\\nThis is a copy of UCI ML Breast Cancer Wisconsin (Diagnostic) datasets.\\nhttps://goo.gl/U2Uwz2\\n\\nFeatures are computed from a digitized image of a fine needle\\naspirate (FNA) of a breast mass.  They describe\\ncharacteristics of the cell nuclei present in the image.\\n\\nSeparating plane described above was obtained using\\nMultisurface Method-Tree (MSM-T) [K. P. Bennett, \"Decision Tree\\nConstruction Via Linear Programming.\" Proceedings of the 4th\\nMidwest Artificial Intelligence and Cognitive Science Society,\\npp. 97-101, 1992], a classification method which uses linear\\nprogramming to construct a decision tree.  Relevant features\\nwere selected using an exhaustive search in the space of 1-4\\nfeatures and 1-3 separating planes.\\n\\nThe actual linear program used to obtain the separating plane\\nin the 3-dimensional space is that described in:\\n[K. P. Bennett and O. L. Mangasarian: \"Robust Linear\\nProgramming Discrimination of Two Linearly Inseparable Sets\",\\nOptimization Methods and Software 1, 1992, 23-34].\\n\\nThis database is also available through the UW CS ftp server:\\n\\nftp ftp.cs.wisc.edu\\ncd math-prog/cpo-dataset/machine-learn/WDBC/\\n\\n.. topic:: References\\n\\n   - W.N. Street, W.H. Wolberg and O.L. Mangasarian. Nuclear feature extraction \\n     for breast tumor diagnosis. IS&T/SPIE 1993 International Symposium on \\n     Electronic Imaging: Science and Technology, volume 1905, pages 861-870,\\n     San Jose, CA, 1993.\\n   - O.L. Mangasarian, W.N. Street and W.H. Wolberg. Breast cancer diagnosis and \\n     prognosis via linear programming. Operations Research, 43(4), pages 570-577, \\n     July-August 1995.\\n   - W.H. Wolberg, W.N. Street, and O.L. Mangasarian. Machine learning techniques\\n     to diagnose breast cancer from fine-needle aspirates. Cancer Letters 77 (1994) \\n     163-171.',\n",
       " 'feature_names': array(['mean radius', 'mean texture', 'mean perimeter', 'mean area',\n",
       "        'mean smoothness', 'mean compactness', 'mean concavity',\n",
       "        'mean concave points', 'mean symmetry', 'mean fractal dimension',\n",
       "        'radius error', 'texture error', 'perimeter error', 'area error',\n",
       "        'smoothness error', 'compactness error', 'concavity error',\n",
       "        'concave points error', 'symmetry error',\n",
       "        'fractal dimension error', 'worst radius', 'worst texture',\n",
       "        'worst perimeter', 'worst area', 'worst smoothness',\n",
       "        'worst compactness', 'worst concavity', 'worst concave points',\n",
       "        'worst symmetry', 'worst fractal dimension'], dtype='<U23'),\n",
       " 'filename': 'C:\\\\Users\\\\user\\\\anaconda3\\\\lib\\\\site-packages\\\\sklearn\\\\datasets\\\\data\\\\breast_cancer.csv'}"
      ]
     },
     "execution_count": 2,
     "metadata": {},
     "output_type": "execute_result"
    }
   ],
   "source": [
    "from sklearn.datasets import load_breast_cancer\n",
    "data = load_breast_cancer()\n",
    "data"
   ]
  },
  {
   "cell_type": "code",
   "execution_count": 3,
   "metadata": {},
   "outputs": [
    {
     "data": {
      "text/plain": [
       "((455, 6), (114, 6), (455,), (114,))"
      ]
     },
     "execution_count": 3,
     "metadata": {},
     "output_type": "execute_result"
    }
   ],
   "source": [
    "from sklearn.model_selection import train_test_split\n",
    "\n",
    "X_train, X_test, y_train, y_test = \\\n",
    "    train_test_split(data.data[:,:6], data.target, \n",
    "                     test_size=0.20, random_state=1)\n",
    "X_train.shape, X_test.shape, y_train.shape, y_test.shape"
   ]
  },
  {
   "cell_type": "code",
   "execution_count": 4,
   "metadata": {},
   "outputs": [],
   "source": [
    "from sklearn.preprocessing import StandardScaler\n",
    "from sklearn.svm import SVC\n",
    "from sklearn.pipeline import make_pipeline\n",
    "\n",
    "pipe_svc = make_pipeline(StandardScaler(),\n",
    "                         SVC(random_state=1, probability=True))"
   ]
  },
  {
   "cell_type": "code",
   "execution_count": 5,
   "metadata": {},
   "outputs": [],
   "source": [
    "y_clf = pipe_svc.fit(X_train, y_train)"
   ]
  },
  {
   "cell_type": "code",
   "execution_count": 6,
   "metadata": {},
   "outputs": [
    {
     "data": {
      "text/plain": [
       "array([0, 1, 1, 0, 1, 0, 0, 0, 1, 1, 1, 0, 0, 1, 1, 0, 1, 1, 1, 0, 1, 1,\n",
       "       0, 1, 0, 1, 1, 0, 0, 0, 0, 1, 0, 0, 1, 1, 0, 0, 1, 1, 1, 1, 1, 1,\n",
       "       1, 0, 1, 1, 1, 0, 0, 0, 1, 1, 1, 1, 1, 0, 1, 1, 1, 0, 1, 1, 1, 1,\n",
       "       1, 0, 1, 1, 1, 1, 1, 0, 1, 0, 0, 1, 1, 0, 1, 0, 1, 0, 1, 1, 0, 1,\n",
       "       0, 1, 1, 1, 1, 1, 0, 0, 1, 1, 1, 1, 1, 1, 1, 1, 1, 1, 1, 1, 0, 0,\n",
       "       0, 1, 1, 1])"
      ]
     },
     "execution_count": 6,
     "metadata": {},
     "output_type": "execute_result"
    }
   ],
   "source": [
    "y_pred = pipe_svc.predict(X_test)\n",
    "y_pred"
   ]
  },
  {
   "cell_type": "code",
   "execution_count": 7,
   "metadata": {
    "scrolled": true
   },
   "outputs": [
    {
     "data": {
      "text/plain": [
       "array([[0.53256732, 0.46743268],\n",
       "       [0.43082754, 0.56917246],\n",
       "       [0.00798275, 0.99201725],\n",
       "       [0.96757413, 0.03242587],\n",
       "       [0.41194365, 0.58805635],\n",
       "       [0.99611179, 0.00388821],\n",
       "       [0.92675853, 0.07324147],\n",
       "       [0.96276739, 0.03723261],\n",
       "       [0.01374895, 0.98625105],\n",
       "       [0.03017146, 0.96982854],\n",
       "       [0.00667489, 0.99332511],\n",
       "       [0.80234466, 0.19765534],\n",
       "       [0.99298521, 0.00701479],\n",
       "       [0.00818167, 0.99181833],\n",
       "       [0.51183078, 0.48816922],\n",
       "       [0.78392977, 0.21607023],\n",
       "       [0.0038423 , 0.9961577 ],\n",
       "       [0.01136614, 0.98863386],\n",
       "       [0.01924034, 0.98075966],\n",
       "       [0.98641272, 0.01358728],\n",
       "       [0.02251987, 0.97748013],\n",
       "       [0.00529654, 0.99470346],\n",
       "       [0.99721771, 0.00278229],\n",
       "       [0.05338845, 0.94661155],\n",
       "       [0.99358454, 0.00641546],\n",
       "       [0.01091488, 0.98908512],\n",
       "       [0.51103985, 0.48896015],\n",
       "       [0.99210503, 0.00789497],\n",
       "       [0.96030395, 0.03969605],\n",
       "       [0.97148418, 0.02851582],\n",
       "       [0.97571287, 0.02428713],\n",
       "       [0.0038778 , 0.9961222 ],\n",
       "       [0.99688379, 0.00311621],\n",
       "       [0.62929628, 0.37070372],\n",
       "       [0.01265074, 0.98734926],\n",
       "       [0.0044595 , 0.9955405 ],\n",
       "       [0.99616981, 0.00383019],\n",
       "       [0.74506999, 0.25493001],\n",
       "       [0.17318014, 0.82681986],\n",
       "       [0.00602708, 0.99397292],\n",
       "       [0.07185982, 0.92814018],\n",
       "       [0.12524007, 0.87475993],\n",
       "       [0.07317726, 0.92682274],\n",
       "       [0.01272146, 0.98727854],\n",
       "       [0.01985995, 0.98014005],\n",
       "       [0.96934546, 0.03065454],\n",
       "       [0.0271648 , 0.9728352 ],\n",
       "       [0.01241088, 0.98758912],\n",
       "       [0.04812979, 0.95187021],\n",
       "       [0.79160046, 0.20839954],\n",
       "       [0.99833174, 0.00166826],\n",
       "       [0.82008718, 0.17991282],\n",
       "       [0.12623978, 0.87376022],\n",
       "       [0.01547726, 0.98452274],\n",
       "       [0.01013861, 0.98986139],\n",
       "       [0.0289177 , 0.9710823 ],\n",
       "       [0.00908639, 0.99091361],\n",
       "       [0.98497301, 0.01502699],\n",
       "       [0.00690695, 0.99309305],\n",
       "       [0.00432425, 0.99567575],\n",
       "       [0.02465087, 0.97534913],\n",
       "       [0.94812287, 0.05187713],\n",
       "       [0.19855842, 0.80144158],\n",
       "       [0.01195965, 0.98804035],\n",
       "       [0.02115964, 0.97884036],\n",
       "       [0.00936735, 0.99063265],\n",
       "       [0.00664638, 0.99335362],\n",
       "       [0.98569634, 0.01430366],\n",
       "       [0.00458768, 0.99541232],\n",
       "       [0.00540511, 0.99459489],\n",
       "       [0.00613155, 0.99386845],\n",
       "       [0.00885172, 0.99114828],\n",
       "       [0.06723639, 0.93276361],\n",
       "       [0.99081193, 0.00918807],\n",
       "       [0.01478525, 0.98521475],\n",
       "       [0.89922968, 0.10077032],\n",
       "       [0.85487974, 0.14512026],\n",
       "       [0.06085435, 0.93914565],\n",
       "       [0.00460885, 0.99539115],\n",
       "       [0.9791277 , 0.0208723 ],\n",
       "       [0.00923088, 0.99076912],\n",
       "       [0.99668944, 0.00331056],\n",
       "       [0.01500995, 0.98499005],\n",
       "       [0.99683685, 0.00316315],\n",
       "       [0.00827606, 0.99172394],\n",
       "       [0.00589107, 0.99410893],\n",
       "       [0.98643699, 0.01356301],\n",
       "       [0.27382996, 0.72617004],\n",
       "       [0.98028141, 0.01971859],\n",
       "       [0.009611  , 0.990389  ],\n",
       "       [0.10943859, 0.89056141],\n",
       "       [0.23022276, 0.76977724],\n",
       "       [0.01202049, 0.98797951],\n",
       "       [0.00993684, 0.99006316],\n",
       "       [0.97934549, 0.02065451],\n",
       "       [0.53739707, 0.46260293],\n",
       "       [0.04118114, 0.95881886],\n",
       "       [0.15593292, 0.84406708],\n",
       "       [0.00837253, 0.99162747],\n",
       "       [0.00877139, 0.99122861],\n",
       "       [0.02019317, 0.97980683],\n",
       "       [0.01040393, 0.98959607],\n",
       "       [0.01273401, 0.98726599],\n",
       "       [0.01471989, 0.98528011],\n",
       "       [0.14409039, 0.85590961],\n",
       "       [0.33399771, 0.66600229],\n",
       "       [0.01178115, 0.98821885],\n",
       "       [0.00380141, 0.99619859],\n",
       "       [0.97247466, 0.02752534],\n",
       "       [0.56555904, 0.43444096],\n",
       "       [0.65833629, 0.34166371],\n",
       "       [0.01649491, 0.98350509],\n",
       "       [0.17395495, 0.82604505],\n",
       "       [0.00974182, 0.99025818]])"
      ]
     },
     "execution_count": 7,
     "metadata": {},
     "output_type": "execute_result"
    }
   ],
   "source": [
    "y_pred_proba = pipe_svc.predict_proba(X_test)\n",
    "y_pred_proba"
   ]
  },
  {
   "cell_type": "code",
   "execution_count": 9,
   "metadata": {},
   "outputs": [
    {
     "data": {
      "text/plain": [
       "array([[0.53, 0.47],\n",
       "       [0.43, 0.57],\n",
       "       [0.01, 0.99],\n",
       "       [0.97, 0.03],\n",
       "       [0.41, 0.59],\n",
       "       [1.  , 0.  ],\n",
       "       [0.93, 0.07],\n",
       "       [0.96, 0.04],\n",
       "       [0.01, 0.99],\n",
       "       [0.03, 0.97],\n",
       "       [0.01, 0.99],\n",
       "       [0.8 , 0.2 ],\n",
       "       [0.99, 0.01],\n",
       "       [0.01, 0.99],\n",
       "       [0.51, 0.49],\n",
       "       [0.78, 0.22],\n",
       "       [0.  , 1.  ],\n",
       "       [0.01, 0.99],\n",
       "       [0.02, 0.98],\n",
       "       [0.99, 0.01],\n",
       "       [0.02, 0.98],\n",
       "       [0.01, 0.99],\n",
       "       [1.  , 0.  ],\n",
       "       [0.05, 0.95],\n",
       "       [0.99, 0.01],\n",
       "       [0.01, 0.99],\n",
       "       [0.51, 0.49],\n",
       "       [0.99, 0.01],\n",
       "       [0.96, 0.04],\n",
       "       [0.97, 0.03],\n",
       "       [0.98, 0.02],\n",
       "       [0.  , 1.  ],\n",
       "       [1.  , 0.  ],\n",
       "       [0.63, 0.37],\n",
       "       [0.01, 0.99],\n",
       "       [0.  , 1.  ],\n",
       "       [1.  , 0.  ],\n",
       "       [0.75, 0.25],\n",
       "       [0.17, 0.83],\n",
       "       [0.01, 0.99],\n",
       "       [0.07, 0.93],\n",
       "       [0.13, 0.87],\n",
       "       [0.07, 0.93],\n",
       "       [0.01, 0.99],\n",
       "       [0.02, 0.98],\n",
       "       [0.97, 0.03],\n",
       "       [0.03, 0.97],\n",
       "       [0.01, 0.99],\n",
       "       [0.05, 0.95],\n",
       "       [0.79, 0.21],\n",
       "       [1.  , 0.  ],\n",
       "       [0.82, 0.18],\n",
       "       [0.13, 0.87],\n",
       "       [0.02, 0.98],\n",
       "       [0.01, 0.99],\n",
       "       [0.03, 0.97],\n",
       "       [0.01, 0.99],\n",
       "       [0.98, 0.02],\n",
       "       [0.01, 0.99],\n",
       "       [0.  , 1.  ],\n",
       "       [0.02, 0.98],\n",
       "       [0.95, 0.05],\n",
       "       [0.2 , 0.8 ],\n",
       "       [0.01, 0.99],\n",
       "       [0.02, 0.98],\n",
       "       [0.01, 0.99],\n",
       "       [0.01, 0.99],\n",
       "       [0.99, 0.01],\n",
       "       [0.  , 1.  ],\n",
       "       [0.01, 0.99],\n",
       "       [0.01, 0.99],\n",
       "       [0.01, 0.99],\n",
       "       [0.07, 0.93],\n",
       "       [0.99, 0.01],\n",
       "       [0.01, 0.99],\n",
       "       [0.9 , 0.1 ],\n",
       "       [0.85, 0.15],\n",
       "       [0.06, 0.94],\n",
       "       [0.  , 1.  ],\n",
       "       [0.98, 0.02],\n",
       "       [0.01, 0.99],\n",
       "       [1.  , 0.  ],\n",
       "       [0.02, 0.98],\n",
       "       [1.  , 0.  ],\n",
       "       [0.01, 0.99],\n",
       "       [0.01, 0.99],\n",
       "       [0.99, 0.01],\n",
       "       [0.27, 0.73],\n",
       "       [0.98, 0.02],\n",
       "       [0.01, 0.99],\n",
       "       [0.11, 0.89],\n",
       "       [0.23, 0.77],\n",
       "       [0.01, 0.99],\n",
       "       [0.01, 0.99],\n",
       "       [0.98, 0.02],\n",
       "       [0.54, 0.46],\n",
       "       [0.04, 0.96],\n",
       "       [0.16, 0.84],\n",
       "       [0.01, 0.99],\n",
       "       [0.01, 0.99],\n",
       "       [0.02, 0.98],\n",
       "       [0.01, 0.99],\n",
       "       [0.01, 0.99],\n",
       "       [0.01, 0.99],\n",
       "       [0.14, 0.86],\n",
       "       [0.33, 0.67],\n",
       "       [0.01, 0.99],\n",
       "       [0.  , 1.  ],\n",
       "       [0.97, 0.03],\n",
       "       [0.57, 0.43],\n",
       "       [0.66, 0.34],\n",
       "       [0.02, 0.98],\n",
       "       [0.17, 0.83],\n",
       "       [0.01, 0.99]])"
      ]
     },
     "execution_count": 9,
     "metadata": {},
     "output_type": "execute_result"
    }
   ],
   "source": [
    "np.around?\n",
    "np.around(y_pred_proba, 2)"
   ]
  },
  {
   "cell_type": "code",
   "execution_count": 10,
   "metadata": {},
   "outputs": [
    {
     "data": {
      "text/plain": [
       "array([0.47, 0.57, 0.99, 0.03, 0.59, 0.  , 0.07, 0.04, 0.99, 0.97, 0.99,\n",
       "       0.2 , 0.01, 0.99, 0.49, 0.22, 1.  , 0.99, 0.98, 0.01, 0.98, 0.99,\n",
       "       0.  , 0.95, 0.01, 0.99, 0.49, 0.01, 0.04, 0.03, 0.02, 1.  , 0.  ,\n",
       "       0.37, 0.99, 1.  , 0.  , 0.25, 0.83, 0.99, 0.93, 0.87, 0.93, 0.99,\n",
       "       0.98, 0.03, 0.97, 0.99, 0.95, 0.21, 0.  , 0.18, 0.87, 0.98, 0.99,\n",
       "       0.97, 0.99, 0.02, 0.99, 1.  , 0.98, 0.05, 0.8 , 0.99, 0.98, 0.99,\n",
       "       0.99, 0.01, 1.  , 0.99, 0.99, 0.99, 0.93, 0.01, 0.99, 0.1 , 0.15,\n",
       "       0.94, 1.  , 0.02, 0.99, 0.  , 0.98, 0.  , 0.99, 0.99, 0.01, 0.73,\n",
       "       0.02, 0.99, 0.89, 0.77, 0.99, 0.99, 0.02, 0.46, 0.96, 0.84, 0.99,\n",
       "       0.99, 0.98, 0.99, 0.99, 0.99, 0.86, 0.67, 0.99, 1.  , 0.03, 0.43,\n",
       "       0.34, 0.98, 0.83, 0.99])"
      ]
     },
     "execution_count": 10,
     "metadata": {},
     "output_type": "execute_result"
    }
   ],
   "source": [
    "np.around(y_pred_proba[:,1], 2)"
   ]
  },
  {
   "cell_type": "code",
   "execution_count": 11,
   "metadata": {},
   "outputs": [
    {
     "data": {
      "text/plain": [
       "array([1, 0, 1, 0, 0, 0, 0, 0, 1, 1, 1, 0, 0, 1, 1, 1, 1, 1, 1, 0, 1, 1,\n",
       "       0, 1, 0, 1, 1, 0, 0, 0, 0, 1, 0, 0, 1, 1, 0, 1, 0, 1, 1, 1, 1, 1,\n",
       "       1, 0, 1, 1, 1, 0, 0, 0, 1, 1, 1, 1, 1, 0, 1, 1, 1, 0, 1, 1, 1, 1,\n",
       "       1, 0, 1, 1, 1, 1, 0, 0, 1, 0, 0, 0, 1, 0, 1, 0, 1, 0, 1, 1, 0, 1,\n",
       "       0, 1, 1, 0, 1, 1, 0, 0, 1, 1, 1, 1, 1, 1, 1, 1, 1, 1, 1, 1, 0, 0,\n",
       "       0, 1, 1, 1])"
      ]
     },
     "execution_count": 11,
     "metadata": {},
     "output_type": "execute_result"
    }
   ],
   "source": [
    "y_test"
   ]
  },
  {
   "cell_type": "code",
   "execution_count": 12,
   "metadata": {},
   "outputs": [
    {
     "data": {
      "text/html": [
       "<div>\n",
       "<style scoped>\n",
       "    .dataframe tbody tr th:only-of-type {\n",
       "        vertical-align: middle;\n",
       "    }\n",
       "\n",
       "    .dataframe tbody tr th {\n",
       "        vertical-align: top;\n",
       "    }\n",
       "\n",
       "    .dataframe thead th {\n",
       "        text-align: right;\n",
       "    }\n",
       "</style>\n",
       "<table border=\"1\" class=\"dataframe\">\n",
       "  <thead>\n",
       "    <tr style=\"text-align: right;\">\n",
       "      <th></th>\n",
       "      <th>predict</th>\n",
       "      <th>actual</th>\n",
       "    </tr>\n",
       "  </thead>\n",
       "  <tbody>\n",
       "    <tr>\n",
       "      <th>0</th>\n",
       "      <td>0.47</td>\n",
       "      <td>1</td>\n",
       "    </tr>\n",
       "    <tr>\n",
       "      <th>1</th>\n",
       "      <td>0.57</td>\n",
       "      <td>0</td>\n",
       "    </tr>\n",
       "    <tr>\n",
       "      <th>2</th>\n",
       "      <td>0.99</td>\n",
       "      <td>1</td>\n",
       "    </tr>\n",
       "    <tr>\n",
       "      <th>3</th>\n",
       "      <td>0.03</td>\n",
       "      <td>0</td>\n",
       "    </tr>\n",
       "    <tr>\n",
       "      <th>4</th>\n",
       "      <td>0.59</td>\n",
       "      <td>0</td>\n",
       "    </tr>\n",
       "    <tr>\n",
       "      <th>...</th>\n",
       "      <td>...</td>\n",
       "      <td>...</td>\n",
       "    </tr>\n",
       "    <tr>\n",
       "      <th>109</th>\n",
       "      <td>0.43</td>\n",
       "      <td>0</td>\n",
       "    </tr>\n",
       "    <tr>\n",
       "      <th>110</th>\n",
       "      <td>0.34</td>\n",
       "      <td>0</td>\n",
       "    </tr>\n",
       "    <tr>\n",
       "      <th>111</th>\n",
       "      <td>0.98</td>\n",
       "      <td>1</td>\n",
       "    </tr>\n",
       "    <tr>\n",
       "      <th>112</th>\n",
       "      <td>0.83</td>\n",
       "      <td>1</td>\n",
       "    </tr>\n",
       "    <tr>\n",
       "      <th>113</th>\n",
       "      <td>0.99</td>\n",
       "      <td>1</td>\n",
       "    </tr>\n",
       "  </tbody>\n",
       "</table>\n",
       "<p>114 rows × 2 columns</p>\n",
       "</div>"
      ],
      "text/plain": [
       "     predict  actual\n",
       "0       0.47       1\n",
       "1       0.57       0\n",
       "2       0.99       1\n",
       "3       0.03       0\n",
       "4       0.59       0\n",
       "..       ...     ...\n",
       "109     0.43       0\n",
       "110     0.34       0\n",
       "111     0.98       1\n",
       "112     0.83       1\n",
       "113     0.99       1\n",
       "\n",
       "[114 rows x 2 columns]"
      ]
     },
     "execution_count": 12,
     "metadata": {},
     "output_type": "execute_result"
    }
   ],
   "source": [
    "df = pd.DataFrame({'predict':np.around(y_pred_proba[:,1], 2), 'actual':y_test})\n",
    "df"
   ]
  },
  {
   "cell_type": "code",
   "execution_count": 13,
   "metadata": {},
   "outputs": [
    {
     "data": {
      "text/html": [
       "<div>\n",
       "<style scoped>\n",
       "    .dataframe tbody tr th:only-of-type {\n",
       "        vertical-align: middle;\n",
       "    }\n",
       "\n",
       "    .dataframe tbody tr th {\n",
       "        vertical-align: top;\n",
       "    }\n",
       "\n",
       "    .dataframe thead th {\n",
       "        text-align: right;\n",
       "    }\n",
       "</style>\n",
       "<table border=\"1\" class=\"dataframe\">\n",
       "  <thead>\n",
       "    <tr style=\"text-align: right;\">\n",
       "      <th></th>\n",
       "      <th>predict</th>\n",
       "      <th>actual</th>\n",
       "    </tr>\n",
       "  </thead>\n",
       "  <tbody>\n",
       "    <tr>\n",
       "      <th>31</th>\n",
       "      <td>1.0</td>\n",
       "      <td>1</td>\n",
       "    </tr>\n",
       "    <tr>\n",
       "      <th>16</th>\n",
       "      <td>1.0</td>\n",
       "      <td>1</td>\n",
       "    </tr>\n",
       "    <tr>\n",
       "      <th>78</th>\n",
       "      <td>1.0</td>\n",
       "      <td>1</td>\n",
       "    </tr>\n",
       "    <tr>\n",
       "      <th>107</th>\n",
       "      <td>1.0</td>\n",
       "      <td>1</td>\n",
       "    </tr>\n",
       "    <tr>\n",
       "      <th>68</th>\n",
       "      <td>1.0</td>\n",
       "      <td>1</td>\n",
       "    </tr>\n",
       "    <tr>\n",
       "      <th>...</th>\n",
       "      <td>...</td>\n",
       "      <td>...</td>\n",
       "    </tr>\n",
       "    <tr>\n",
       "      <th>50</th>\n",
       "      <td>0.0</td>\n",
       "      <td>0</td>\n",
       "    </tr>\n",
       "    <tr>\n",
       "      <th>32</th>\n",
       "      <td>0.0</td>\n",
       "      <td>0</td>\n",
       "    </tr>\n",
       "    <tr>\n",
       "      <th>36</th>\n",
       "      <td>0.0</td>\n",
       "      <td>0</td>\n",
       "    </tr>\n",
       "    <tr>\n",
       "      <th>5</th>\n",
       "      <td>0.0</td>\n",
       "      <td>0</td>\n",
       "    </tr>\n",
       "    <tr>\n",
       "      <th>83</th>\n",
       "      <td>0.0</td>\n",
       "      <td>0</td>\n",
       "    </tr>\n",
       "  </tbody>\n",
       "</table>\n",
       "<p>114 rows × 2 columns</p>\n",
       "</div>"
      ],
      "text/plain": [
       "     predict  actual\n",
       "31       1.0       1\n",
       "16       1.0       1\n",
       "78       1.0       1\n",
       "107      1.0       1\n",
       "68       1.0       1\n",
       "..       ...     ...\n",
       "50       0.0       0\n",
       "32       0.0       0\n",
       "36       0.0       0\n",
       "5        0.0       0\n",
       "83       0.0       0\n",
       "\n",
       "[114 rows x 2 columns]"
      ]
     },
     "execution_count": 13,
     "metadata": {},
     "output_type": "execute_result"
    }
   ],
   "source": [
    "# 以第一欄降冪排序，從大排到小。\n",
    "df2=df.sort_values(by='predict', ascending=False)\n",
    "df2"
   ]
  },
  {
   "cell_type": "code",
   "execution_count": 15,
   "metadata": {},
   "outputs": [
    {
     "data": {
      "text/plain": [
       "((114,), (114,))"
      ]
     },
     "execution_count": 15,
     "metadata": {},
     "output_type": "execute_result"
    }
   ],
   "source": [
    "y_test.shape, np.around(y_pred_proba[:,1], 2).shape"
   ]
  },
  {
   "cell_type": "code",
   "execution_count": 16,
   "metadata": {},
   "outputs": [
    {
     "data": {
      "text/plain": [
       "array([[0.47, 0.57, 0.99, 0.03, 0.59, 0.  , 0.07, 0.04, 0.99, 0.97, 0.99,\n",
       "        0.2 , 0.01, 0.99, 0.49, 0.22, 1.  , 0.99, 0.98, 0.01, 0.98, 0.99,\n",
       "        0.  , 0.95, 0.01, 0.99, 0.49, 0.01, 0.04, 0.03, 0.02, 1.  , 0.  ,\n",
       "        0.37, 0.99, 1.  , 0.  , 0.25, 0.83, 0.99, 0.93, 0.87, 0.93, 0.99,\n",
       "        0.98, 0.03, 0.97, 0.99, 0.95, 0.21, 0.  , 0.18, 0.87, 0.98, 0.99,\n",
       "        0.97, 0.99, 0.02, 0.99, 1.  , 0.98, 0.05, 0.8 , 0.99, 0.98, 0.99,\n",
       "        0.99, 0.01, 1.  , 0.99, 0.99, 0.99, 0.93, 0.01, 0.99, 0.1 , 0.15,\n",
       "        0.94, 1.  , 0.02, 0.99, 0.  , 0.98, 0.  , 0.99, 0.99, 0.01, 0.73,\n",
       "        0.02, 0.99, 0.89, 0.77, 0.99, 0.99, 0.02, 0.46, 0.96, 0.84, 0.99,\n",
       "        0.99, 0.98, 0.99, 0.99, 0.99, 0.86, 0.67, 0.99, 1.  , 0.03, 0.43,\n",
       "        0.34, 0.98, 0.83, 0.99],\n",
       "       [1.  , 0.  , 1.  , 0.  , 0.  , 0.  , 0.  , 0.  , 1.  , 1.  , 1.  ,\n",
       "        0.  , 0.  , 1.  , 1.  , 1.  , 1.  , 1.  , 1.  , 0.  , 1.  , 1.  ,\n",
       "        0.  , 1.  , 0.  , 1.  , 1.  , 0.  , 0.  , 0.  , 0.  , 1.  , 0.  ,\n",
       "        0.  , 1.  , 1.  , 0.  , 1.  , 0.  , 1.  , 1.  , 1.  , 1.  , 1.  ,\n",
       "        1.  , 0.  , 1.  , 1.  , 1.  , 0.  , 0.  , 0.  , 1.  , 1.  , 1.  ,\n",
       "        1.  , 1.  , 0.  , 1.  , 1.  , 1.  , 0.  , 1.  , 1.  , 1.  , 1.  ,\n",
       "        1.  , 0.  , 1.  , 1.  , 1.  , 1.  , 0.  , 0.  , 1.  , 0.  , 0.  ,\n",
       "        0.  , 1.  , 0.  , 1.  , 0.  , 1.  , 0.  , 1.  , 1.  , 0.  , 1.  ,\n",
       "        0.  , 1.  , 1.  , 0.  , 1.  , 1.  , 0.  , 0.  , 1.  , 1.  , 1.  ,\n",
       "        1.  , 1.  , 1.  , 1.  , 1.  , 1.  , 1.  , 1.  , 1.  , 0.  , 0.  ,\n",
       "        0.  , 1.  , 1.  , 1.  ]])"
      ]
     },
     "execution_count": 16,
     "metadata": {},
     "output_type": "execute_result"
    }
   ],
   "source": [
    "# 使用 numpy\n",
    "data = np.vstack((np.around(y_pred_proba[:,1], 2), y_test))\n",
    "data"
   ]
  },
  {
   "cell_type": "code",
   "execution_count": 17,
   "metadata": {},
   "outputs": [
    {
     "name": "stdout",
     "output_type": "stream",
     "text": [
      "72 42\n"
     ]
    }
   ],
   "source": [
    "# 計算第二欄的真(1)與假(0)的個數，假設分別為P及N\n",
    "P = df2[df2['actual'] == 1].shape[0]\n",
    "N = df2[df2['actual'] == 0].shape[0]\n",
    "print(P, N)\n",
    "y_unit = 1 / P\n",
    "X_unit = 1 / N"
   ]
  },
  {
   "cell_type": "code",
   "execution_count": 18,
   "metadata": {},
   "outputs": [
    {
     "name": "stdout",
     "output_type": "stream",
     "text": [
      "[0.         0.         0.         0.         0.         0.\n",
      " 0.         0.         0.         0.         0.         0.\n",
      " 0.         0.         0.         0.         0.         0.\n",
      " 0.         0.         0.         0.         0.         0.\n",
      " 0.         0.         0.         0.         0.         0.\n",
      " 0.         0.         0.         0.         0.         0.\n",
      " 0.         0.         0.         0.         0.         0.\n",
      " 0.         0.         0.         0.         0.         0.\n",
      " 0.         0.         0.         0.         0.         0.\n",
      " 0.         0.         0.02380952 0.02380952 0.02380952 0.04761905\n",
      " 0.04761905 0.04761905 0.04761905 0.04761905 0.04761905 0.07142857\n",
      " 0.07142857 0.07142857 0.0952381  0.0952381  0.0952381  0.11904762\n",
      " 0.14285714 0.14285714 0.14285714 0.14285714 0.16666667 0.19047619\n",
      " 0.21428571 0.23809524 0.23809524 0.23809524 0.26190476 0.28571429\n",
      " 0.30952381 0.33333333 0.35714286 0.38095238 0.4047619  0.42857143\n",
      " 0.45238095 0.47619048 0.5        0.52380952 0.54761905 0.57142857\n",
      " 0.5952381  0.61904762 0.64285714 0.66666667 0.69047619 0.71428571\n",
      " 0.73809524 0.76190476 0.78571429 0.80952381 0.83333333 0.85714286\n",
      " 0.88095238 0.9047619  0.92857143 0.95238095 0.97619048 1.        ] <class 'numpy.ndarray'>\n",
      "[0.01388889 0.02777778 0.04166667 0.05555556 0.06944444 0.08333333\n",
      " 0.09722222 0.11111111 0.125      0.13888889 0.15277778 0.16666667\n",
      " 0.18055556 0.19444444 0.20833333 0.22222222 0.23611111 0.25\n",
      " 0.26388889 0.27777778 0.29166667 0.30555556 0.31944444 0.33333333\n",
      " 0.34722222 0.36111111 0.375      0.38888889 0.40277778 0.41666667\n",
      " 0.43055556 0.44444444 0.45833333 0.47222222 0.48611111 0.5\n",
      " 0.51388889 0.52777778 0.54166667 0.55555556 0.56944444 0.58333333\n",
      " 0.59722222 0.61111111 0.625      0.63888889 0.65277778 0.66666667\n",
      " 0.68055556 0.69444444 0.70833333 0.72222222 0.73611111 0.75\n",
      " 0.76388889 0.77777778 0.77777778 0.79166667 0.80555556 0.80555556\n",
      " 0.81944444 0.83333333 0.84722222 0.86111111 0.875      0.875\n",
      " 0.88888889 0.90277778 0.90277778 0.91666667 0.93055556 0.93055556\n",
      " 0.93055556 0.94444444 0.95833333 0.97222222 0.97222222 0.97222222\n",
      " 0.97222222 0.97222222 0.98611111 1.         1.         1.\n",
      " 1.         1.         1.         1.         1.         1.\n",
      " 1.         1.         1.         1.         1.         1.\n",
      " 1.         1.         1.         1.         1.         1.\n",
      " 1.         1.         1.         1.         1.         1.\n",
      " 1.         1.         1.         1.         1.         1.        ] <class 'numpy.ndarray'>\n"
     ]
    }
   ],
   "source": [
    "# 依序掃描第二欄，計算每一座標點\n",
    "# 若是1，Y加一單位，反之，若是0，X加一單位\n",
    "X = []\n",
    "y = []\n",
    "current_X = 0\n",
    "current_y = 0\n",
    "for row in df2.itertuples(): # Iterate over DataFrame rows as namedtuples.\n",
    "    # row[0] is index\n",
    "    #print(row[2])\n",
    "    if row[2] == 1:\n",
    "        current_y += y_unit\n",
    "    else:\n",
    "        current_X += X_unit\n",
    "    X.append(current_X)\n",
    "    y.append(current_y)\n",
    "\n",
    "X = np.array(X)        \n",
    "y = np.array(y)    \n",
    "print(X, type(X))\n",
    "print(y, type(y))"
   ]
  },
  {
   "cell_type": "code",
   "execution_count": 22,
   "metadata": {},
   "outputs": [
    {
     "data": {
      "image/png": "[encoded data removed]",
      "text/plain": [
       "<Figure size 864x576 with 1 Axes>"
      ]
     },
     "metadata": {
      "needs_background": "light"
     },
     "output_type": "display_data"
    }
   ],
   "source": [
    "# 繪圖\n",
    "plt.figure(figsize=(12, 8))\n",
    "plt.title('Receiver Operating Characteristic', color = 'r', fontsize = 22)\n",
    "plt.plot(X, y, color = 'orange', label = 'ROC')\n",
    "plt.plot([0, 1], [0, 1], 'r--', label = 'random guessing')\n",
    "plt.xlim([0, 1])\n",
    "plt.ylim([0, 1])\n",
    "plt.ylabel('True Positive Rate', color = 'b', fontsize = 18)\n",
    "plt.xlabel('False Positive Rate', color = 'b', fontsize = 18)\n",
    "plt.legend(loc = 'lower right')\n",
    "plt.grid()\n",
    "plt.show()"
   ]
  },
  {
   "cell_type": "code",
   "execution_count": 20,
   "metadata": {},
   "outputs": [
    {
     "name": "stdout",
     "output_type": "stream",
     "text": [
      "[0.         0.         0.         0.         0.         0.\n",
      " 0.         0.02380952 0.04761905 0.04761905 0.04761905 0.04761905\n",
      " 0.07142857 0.07142857 0.0952381  0.0952381  0.14285714 0.14285714\n",
      " 0.14285714 0.23809524 0.23809524 0.4047619  0.45238095 0.54761905\n",
      " 0.66666667 1.        ]\n",
      "----------\n",
      "[0.         0.09722222 0.56944444 0.69444444 0.73611111 0.75\n",
      " 0.77777778 0.77777778 0.80555556 0.81944444 0.84722222 0.875\n",
      " 0.88888889 0.90277778 0.90277778 0.93055556 0.93055556 0.95833333\n",
      " 0.97222222 0.97222222 1.         1.         1.         1.\n",
      " 1.         1.        ]\n",
      "----------\n",
      "[2.   1.   0.99 0.98 0.97 0.96 0.95 0.94 0.93 0.89 0.87 0.84 0.83 0.8\n",
      " 0.77 0.67 0.57 0.49 0.47 0.34 0.22 0.05 0.04 0.03 0.02 0.  ]\n",
      "----------\n",
      "AUC = 0.98\n"
     ]
    }
   ],
   "source": [
    "from sklearn.metrics import roc_curve, roc_auc_score, auc\n",
    "# 在各種『決策門檻』（decision threshold）下，計算 『真陽率』（True Positive Rate；TPR）與『假陽率』（False Positive Rate；FPR）\n",
    "fpr, tpr, threshold = roc_curve(df['actual'], df['predict'])\n",
    "print(fpr) # Increasing false positive rates such that element i is the false \n",
    "           # positive rate of predictions with score >= thresholds[i].\n",
    "print('----------')\n",
    "print(tpr) # Increasing true positive rates such that element i is the true\n",
    "           # positive rate of predictions with score >= thresholds[i].\n",
    "print('----------')\n",
    "print(threshold) # Decreasing thresholds on the decision function used to compute\n",
    "                 # fpr and tpr. `thresholds[0]` represents no instances being predicted\n",
    "                 # and is arbitrarily set to `max(y_score) + 1`.\n",
    "print('----------')\n",
    "AUC = roc_auc_score(df['actual'], df['predict'])\n",
    "print(f'AUC = {AUC:0.2f}')"
   ]
  },
  {
   "cell_type": "code",
   "execution_count": 21,
   "metadata": {},
   "outputs": [
    {
     "data": {
      "image/png": "[encoded data removed]",
      "text/plain": [
       "<Figure size 864x576 with 1 Axes>"
      ]
     },
     "metadata": {
      "needs_background": "light"
     },
     "output_type": "display_data"
    }
   ],
   "source": [
    "auc1 = auc(fpr, tpr)\n",
    "# Plot the result\n",
    "plt.figure(figsize=(12, 8))\n",
    "plt.title('Receiver Operating Characteristic', color = 'r', fontsize = 22)\n",
    "plt.plot(fpr, tpr, color = 'orange', label = 'AUC = %0.2f' % auc1)\n",
    "plt.plot([0, 1], [0, 1], 'r--', label = 'random guessing')\n",
    "plt.xlim([0, 1])\n",
    "plt.ylim([0, 1])\n",
    "plt.ylabel('True Positive Rate', color = 'b', fontsize = 18)\n",
    "plt.xlabel('False Positive Rate', color = 'b', fontsize = 18)\n",
    "plt.legend(loc = 'lower right')\n",
    "plt.grid()\n",
    "plt.show()"
   ]
  },
  {
   "cell_type": "code",
   "execution_count": null,
   "metadata": {},
   "outputs": [],
   "source": []
  }
 ],
 "metadata": {
  "kernelspec": {
   "display_name": "Python 3",
   "language": "python",
   "name": "python3"
  },
  "language_info": {
   "codemirror_mode": {
    "name": "ipython",
    "version": 3
   },
   "file_extension": ".py",
   "mimetype": "text/x-python",
   "name": "python",
   "nbconvert_exporter": "python",
   "pygments_lexer": "ipython3",
   "version": "3.8.3"
  }
 },
 "nbformat": 4,
 "nbformat_minor": 2
}
