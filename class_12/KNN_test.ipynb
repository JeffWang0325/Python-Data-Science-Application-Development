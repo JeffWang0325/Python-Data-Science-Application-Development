{
 "cells": [
  {
   "cell_type": "code",
   "execution_count": 1,
   "metadata": {},
   "outputs": [],
   "source": [
    "from sklearn import datasets  \n",
    "#導入內置資料集模組                      \n",
    "from sklearn.neighbors import KNeighborsClassifier \n",
    "#導入sklearn.neighbors模組中KNN類\n",
    "import numpy as np \n",
    "np.random.seed(0)  \n",
    "#設置隨機種子，不設置的話預設是按系統時間作為參數，因此每次調用隨機模組時產生的亂數都不一樣設置後每次產生的一樣\n",
    "iris=datasets.load_iris() \n",
    "#導入鳶尾花的資料集，iris是一個類似於結構體的東西，內部有樣本資料，如果是監督學習還有標籤資料"
   ]
  },
  {
   "cell_type": "code",
   "execution_count": 2,
   "metadata": {
    "scrolled": true
   },
   "outputs": [
    {
     "name": "stdout",
     "output_type": "stream",
     "text": [
      ".. _iris_dataset:\n",
      "\n",
      "Iris plants dataset\n",
      "--------------------\n",
      "\n",
      "**Data Set Characteristics:**\n",
      "\n",
      "    :Number of Instances: 150 (50 in each of three classes)\n",
      "    :Number of Attributes: 4 numeric, predictive attributes and the class\n",
      "    :Attribute Information:\n",
      "        - sepal length in cm\n",
      "        - sepal width in cm\n",
      "        - petal length in cm\n",
      "        - petal width in cm\n",
      "        - class:\n",
      "                - Iris-Setosa\n",
      "                - Iris-Versicolour\n",
      "                - Iris-Virginica\n",
      "                \n",
      "    :Summary Statistics:\n",
      "\n",
      "    ============== ==== ==== ======= ===== ====================\n",
      "                    Min  Max   Mean    SD   Class Correlation\n",
      "    ============== ==== ==== ======= ===== ====================\n",
      "    sepal length:   4.3  7.9   5.84   0.83    0.7826\n",
      "    sepal width:    2.0  4.4   3.05   0.43   -0.4194\n",
      "    petal length:   1.0  6.9   3.76   1.76    0.9490  (high!)\n",
      "    petal width:    0.1  2.5   1.20   0.76    0.9565  (high!)\n",
      "    ============== ==== ==== ======= ===== ====================\n",
      "\n",
      "    :Missing Attribute Values: None\n",
      "    :Class Distribution: 33.3% for each of 3 classes.\n",
      "    :Creator: R.A. Fisher\n",
      "    :Donor: Michael Marshall (MARSHALL%PLU@io.arc.nasa.gov)\n",
      "    :Date: July, 1988\n",
      "\n",
      "The famous Iris database, first used by Sir R.A. Fisher. The dataset is taken\n",
      "from Fisher's paper. Note that it's the same as in R, but not as in the UCI\n",
      "Machine Learning Repository, which has two wrong data points.\n",
      "\n",
      "This is perhaps the best known database to be found in the\n",
      "pattern recognition literature.  Fisher's paper is a classic in the field and\n",
      "is referenced frequently to this day.  (See Duda & Hart, for example.)  The\n",
      "data set contains 3 classes of 50 instances each, where each class refers to a\n",
      "type of iris plant.  One class is linearly separable from the other 2; the\n",
      "latter are NOT linearly separable from each other.\n",
      "\n",
      ".. topic:: References\n",
      "\n",
      "   - Fisher, R.A. \"The use of multiple measurements in taxonomic problems\"\n",
      "     Annual Eugenics, 7, Part II, 179-188 (1936); also in \"Contributions to\n",
      "     Mathematical Statistics\" (John Wiley, NY, 1950).\n",
      "   - Duda, R.O., & Hart, P.E. (1973) Pattern Classification and Scene Analysis.\n",
      "     (Q327.D83) John Wiley & Sons.  ISBN 0-471-22361-1.  See page 218.\n",
      "   - Dasarathy, B.V. (1980) \"Nosing Around the Neighborhood: A New System\n",
      "     Structure and Classification Rule for Recognition in Partially Exposed\n",
      "     Environments\".  IEEE Transactions on Pattern Analysis and Machine\n",
      "     Intelligence, Vol. PAMI-2, No. 1, 67-71.\n",
      "   - Gates, G.W. (1972) \"The Reduced Nearest Neighbor Rule\".  IEEE Transactions\n",
      "     on Information Theory, May 1972, 431-433.\n",
      "   - See also: 1988 MLC Proceedings, 54-64.  Cheeseman et al\"s AUTOCLASS II\n",
      "     conceptual clustering system finds 3 classes in the data.\n",
      "   - Many, many more ...\n"
     ]
    }
   ],
   "source": [
    "print(iris.DESCR)"
   ]
  },
  {
   "cell_type": "code",
   "execution_count": 5,
   "metadata": {},
   "outputs": [
    {
     "data": {
      "text/plain": [
       "array([2, 3, 8, 4, 5, 1, 0, 6, 9, 7])"
      ]
     },
     "execution_count": 5,
     "metadata": {},
     "output_type": "execute_result"
    }
   ],
   "source": [
    "np.random.permutation(10)"
   ]
  },
  {
   "cell_type": "code",
   "execution_count": 8,
   "metadata": {},
   "outputs": [
    {
     "data": {
      "text/plain": [
       "array([3, 9, 7, 1, 8, 0, 4, 6, 5, 2])"
      ]
     },
     "execution_count": 8,
     "metadata": {},
     "output_type": "execute_result"
    }
   ],
   "source": [
    "np.random.permutation([2, 3, 8, 4, 5, 1, 0, 6, 9, 7])"
   ]
  },
  {
   "cell_type": "code",
   "execution_count": 9,
   "metadata": {},
   "outputs": [
    {
     "data": {
      "text/plain": [
       "array([[4.4, 3.2, 1.3, 0.2],\n",
       "       [7.6, 3. , 6.6, 2.1],\n",
       "       [6.4, 2.8, 5.6, 2.2],\n",
       "       [5.7, 2.6, 3.5, 1. ],\n",
       "       [5.1, 3.5, 1.4, 0.3],\n",
       "       [4.4, 3. , 1.3, 0.2],\n",
       "       [6.3, 2.8, 5.1, 1.5],\n",
       "       [5.5, 2.3, 4. , 1.3],\n",
       "       [5.9, 3. , 5.1, 1.8],\n",
       "       [6.4, 2.8, 5.6, 2.1]])"
      ]
     },
     "execution_count": 9,
     "metadata": {},
     "output_type": "execute_result"
    }
   ],
   "source": [
    "iris_x=iris.data   \n",
    "#樣本資料150*4二維資料，代表150個樣本，每個樣本4個屬性分別為花瓣和花萼的長、寬\n",
    "iris_y=iris.target  \n",
    "#長150的陣列，樣本資料的標籤\n",
    "indices = np.random.permutation(len(iris_x))\n",
    "#permutation接收一個數作為參數(150),產生一個0-149一維陣列，只不過是隨機打亂的，當然她也可以接收一個一維陣列作為參數，結果是直接對這個陣列打亂\n",
    "iris_x_train = iris_x[indices[:-10]]\n",
    "#隨機選取140個樣本作為訓練資料集\n",
    "iris_y_train = iris_y[indices[:-10]] \n",
    "#並且選取這140個樣本的標籤作為訓練資料集的標籤\n",
    "iris_x_test  = iris_x[indices[-10:]]\n",
    "#剩下的10個樣本作為測試資料集\n",
    "iris_y_test  = iris_y[indices[-10:]] \n",
    "#並且把剩下10個樣本對應標籤作為測試資料集的標籤\n",
    "\n",
    "iris_x_test"
   ]
  },
  {
   "cell_type": "code",
   "execution_count": 10,
   "metadata": {
    "scrolled": true
   },
   "outputs": [
    {
     "data": {
      "text/plain": [
       "(array([[5.1, 3.5, 1.4, 0.2],\n",
       "        [4.9, 3. , 1.4, 0.2],\n",
       "        [4.7, 3.2, 1.3, 0.2],\n",
       "        [4.6, 3.1, 1.5, 0.2],\n",
       "        [5. , 3.6, 1.4, 0.2],\n",
       "        [5.4, 3.9, 1.7, 0.4],\n",
       "        [4.6, 3.4, 1.4, 0.3],\n",
       "        [5. , 3.4, 1.5, 0.2],\n",
       "        [4.4, 2.9, 1.4, 0.2],\n",
       "        [4.9, 3.1, 1.5, 0.1],\n",
       "        [5.4, 3.7, 1.5, 0.2],\n",
       "        [4.8, 3.4, 1.6, 0.2],\n",
       "        [4.8, 3. , 1.4, 0.1],\n",
       "        [4.3, 3. , 1.1, 0.1],\n",
       "        [5.8, 4. , 1.2, 0.2],\n",
       "        [5.7, 4.4, 1.5, 0.4],\n",
       "        [5.4, 3.9, 1.3, 0.4],\n",
       "        [5.1, 3.5, 1.4, 0.3],\n",
       "        [5.7, 3.8, 1.7, 0.3],\n",
       "        [5.1, 3.8, 1.5, 0.3],\n",
       "        [5.4, 3.4, 1.7, 0.2],\n",
       "        [5.1, 3.7, 1.5, 0.4],\n",
       "        [4.6, 3.6, 1. , 0.2],\n",
       "        [5.1, 3.3, 1.7, 0.5],\n",
       "        [4.8, 3.4, 1.9, 0.2],\n",
       "        [5. , 3. , 1.6, 0.2],\n",
       "        [5. , 3.4, 1.6, 0.4],\n",
       "        [5.2, 3.5, 1.5, 0.2],\n",
       "        [5.2, 3.4, 1.4, 0.2],\n",
       "        [4.7, 3.2, 1.6, 0.2],\n",
       "        [4.8, 3.1, 1.6, 0.2],\n",
       "        [5.4, 3.4, 1.5, 0.4],\n",
       "        [5.2, 4.1, 1.5, 0.1],\n",
       "        [5.5, 4.2, 1.4, 0.2],\n",
       "        [4.9, 3.1, 1.5, 0.2],\n",
       "        [5. , 3.2, 1.2, 0.2],\n",
       "        [5.5, 3.5, 1.3, 0.2],\n",
       "        [4.9, 3.6, 1.4, 0.1],\n",
       "        [4.4, 3. , 1.3, 0.2],\n",
       "        [5.1, 3.4, 1.5, 0.2],\n",
       "        [5. , 3.5, 1.3, 0.3],\n",
       "        [4.5, 2.3, 1.3, 0.3],\n",
       "        [4.4, 3.2, 1.3, 0.2],\n",
       "        [5. , 3.5, 1.6, 0.6],\n",
       "        [5.1, 3.8, 1.9, 0.4],\n",
       "        [4.8, 3. , 1.4, 0.3],\n",
       "        [5.1, 3.8, 1.6, 0.2],\n",
       "        [4.6, 3.2, 1.4, 0.2],\n",
       "        [5.3, 3.7, 1.5, 0.2],\n",
       "        [5. , 3.3, 1.4, 0.2],\n",
       "        [7. , 3.2, 4.7, 1.4],\n",
       "        [6.4, 3.2, 4.5, 1.5],\n",
       "        [6.9, 3.1, 4.9, 1.5],\n",
       "        [5.5, 2.3, 4. , 1.3],\n",
       "        [6.5, 2.8, 4.6, 1.5],\n",
       "        [5.7, 2.8, 4.5, 1.3],\n",
       "        [6.3, 3.3, 4.7, 1.6],\n",
       "        [4.9, 2.4, 3.3, 1. ],\n",
       "        [6.6, 2.9, 4.6, 1.3],\n",
       "        [5.2, 2.7, 3.9, 1.4],\n",
       "        [5. , 2. , 3.5, 1. ],\n",
       "        [5.9, 3. , 4.2, 1.5],\n",
       "        [6. , 2.2, 4. , 1. ],\n",
       "        [6.1, 2.9, 4.7, 1.4],\n",
       "        [5.6, 2.9, 3.6, 1.3],\n",
       "        [6.7, 3.1, 4.4, 1.4],\n",
       "        [5.6, 3. , 4.5, 1.5],\n",
       "        [5.8, 2.7, 4.1, 1. ],\n",
       "        [6.2, 2.2, 4.5, 1.5],\n",
       "        [5.6, 2.5, 3.9, 1.1],\n",
       "        [5.9, 3.2, 4.8, 1.8],\n",
       "        [6.1, 2.8, 4. , 1.3],\n",
       "        [6.3, 2.5, 4.9, 1.5],\n",
       "        [6.1, 2.8, 4.7, 1.2],\n",
       "        [6.4, 2.9, 4.3, 1.3],\n",
       "        [6.6, 3. , 4.4, 1.4],\n",
       "        [6.8, 2.8, 4.8, 1.4],\n",
       "        [6.7, 3. , 5. , 1.7],\n",
       "        [6. , 2.9, 4.5, 1.5],\n",
       "        [5.7, 2.6, 3.5, 1. ],\n",
       "        [5.5, 2.4, 3.8, 1.1],\n",
       "        [5.5, 2.4, 3.7, 1. ],\n",
       "        [5.8, 2.7, 3.9, 1.2],\n",
       "        [6. , 2.7, 5.1, 1.6],\n",
       "        [5.4, 3. , 4.5, 1.5],\n",
       "        [6. , 3.4, 4.5, 1.6],\n",
       "        [6.7, 3.1, 4.7, 1.5],\n",
       "        [6.3, 2.3, 4.4, 1.3],\n",
       "        [5.6, 3. , 4.1, 1.3],\n",
       "        [5.5, 2.5, 4. , 1.3],\n",
       "        [5.5, 2.6, 4.4, 1.2],\n",
       "        [6.1, 3. , 4.6, 1.4],\n",
       "        [5.8, 2.6, 4. , 1.2],\n",
       "        [5. , 2.3, 3.3, 1. ],\n",
       "        [5.6, 2.7, 4.2, 1.3],\n",
       "        [5.7, 3. , 4.2, 1.2],\n",
       "        [5.7, 2.9, 4.2, 1.3],\n",
       "        [6.2, 2.9, 4.3, 1.3],\n",
       "        [5.1, 2.5, 3. , 1.1],\n",
       "        [5.7, 2.8, 4.1, 1.3],\n",
       "        [6.3, 3.3, 6. , 2.5],\n",
       "        [5.8, 2.7, 5.1, 1.9],\n",
       "        [7.1, 3. , 5.9, 2.1],\n",
       "        [6.3, 2.9, 5.6, 1.8],\n",
       "        [6.5, 3. , 5.8, 2.2],\n",
       "        [7.6, 3. , 6.6, 2.1],\n",
       "        [4.9, 2.5, 4.5, 1.7],\n",
       "        [7.3, 2.9, 6.3, 1.8],\n",
       "        [6.7, 2.5, 5.8, 1.8],\n",
       "        [7.2, 3.6, 6.1, 2.5],\n",
       "        [6.5, 3.2, 5.1, 2. ],\n",
       "        [6.4, 2.7, 5.3, 1.9],\n",
       "        [6.8, 3. , 5.5, 2.1],\n",
       "        [5.7, 2.5, 5. , 2. ],\n",
       "        [5.8, 2.8, 5.1, 2.4],\n",
       "        [6.4, 3.2, 5.3, 2.3],\n",
       "        [6.5, 3. , 5.5, 1.8],\n",
       "        [7.7, 3.8, 6.7, 2.2],\n",
       "        [7.7, 2.6, 6.9, 2.3],\n",
       "        [6. , 2.2, 5. , 1.5],\n",
       "        [6.9, 3.2, 5.7, 2.3],\n",
       "        [5.6, 2.8, 4.9, 2. ],\n",
       "        [7.7, 2.8, 6.7, 2. ],\n",
       "        [6.3, 2.7, 4.9, 1.8],\n",
       "        [6.7, 3.3, 5.7, 2.1],\n",
       "        [7.2, 3.2, 6. , 1.8],\n",
       "        [6.2, 2.8, 4.8, 1.8],\n",
       "        [6.1, 3. , 4.9, 1.8],\n",
       "        [6.4, 2.8, 5.6, 2.1],\n",
       "        [7.2, 3. , 5.8, 1.6],\n",
       "        [7.4, 2.8, 6.1, 1.9],\n",
       "        [7.9, 3.8, 6.4, 2. ],\n",
       "        [6.4, 2.8, 5.6, 2.2],\n",
       "        [6.3, 2.8, 5.1, 1.5],\n",
       "        [6.1, 2.6, 5.6, 1.4],\n",
       "        [7.7, 3. , 6.1, 2.3],\n",
       "        [6.3, 3.4, 5.6, 2.4],\n",
       "        [6.4, 3.1, 5.5, 1.8],\n",
       "        [6. , 3. , 4.8, 1.8],\n",
       "        [6.9, 3.1, 5.4, 2.1],\n",
       "        [6.7, 3.1, 5.6, 2.4],\n",
       "        [6.9, 3.1, 5.1, 2.3],\n",
       "        [5.8, 2.7, 5.1, 1.9],\n",
       "        [6.8, 3.2, 5.9, 2.3],\n",
       "        [6.7, 3.3, 5.7, 2.5],\n",
       "        [6.7, 3. , 5.2, 2.3],\n",
       "        [6.3, 2.5, 5. , 1.9],\n",
       "        [6.5, 3. , 5.2, 2. ],\n",
       "        [6.2, 3.4, 5.4, 2.3],\n",
       "        [5.9, 3. , 5.1, 1.8]]),\n",
       " numpy.ndarray,\n",
       " (150, 4),\n",
       " 2,\n",
       " 600)"
      ]
     },
     "execution_count": 10,
     "metadata": {},
     "output_type": "execute_result"
    }
   ],
   "source": [
    "iris_x, type(iris_x), iris_x.shape, iris_x.ndim, iris_x.size"
   ]
  },
  {
   "cell_type": "code",
   "execution_count": 11,
   "metadata": {},
   "outputs": [
    {
     "data": {
      "text/plain": [
       "(4.3, 7.9, 5.843333333333334, 0.8253012917851409)"
      ]
     },
     "execution_count": 11,
     "metadata": {},
     "output_type": "execute_result"
    }
   ],
   "source": [
    "Min_sepal_length = iris_x[:, 0].min()\n",
    "Max_sepal_length = iris_x[:, 0].max()\n",
    "Mean_sepal_length = iris_x[:, 0].mean()\n",
    "SD_sepal_length = iris_x[:, 0].std()\n",
    "\n",
    "Min_sepal_length, Max_sepal_length, Mean_sepal_length, SD_sepal_length"
   ]
  },
  {
   "cell_type": "code",
   "execution_count": 12,
   "metadata": {},
   "outputs": [
    {
     "data": {
      "text/plain": [
       "(array([0, 0, 0, 0, 0, 0, 0, 0, 0, 0, 0, 0, 0, 0, 0, 0, 0, 0, 0, 0, 0, 0,\n",
       "        0, 0, 0, 0, 0, 0, 0, 0, 0, 0, 0, 0, 0, 0, 0, 0, 0, 0, 0, 0, 0, 0,\n",
       "        0, 0, 0, 0, 0, 0, 1, 1, 1, 1, 1, 1, 1, 1, 1, 1, 1, 1, 1, 1, 1, 1,\n",
       "        1, 1, 1, 1, 1, 1, 1, 1, 1, 1, 1, 1, 1, 1, 1, 1, 1, 1, 1, 1, 1, 1,\n",
       "        1, 1, 1, 1, 1, 1, 1, 1, 1, 1, 1, 1, 2, 2, 2, 2, 2, 2, 2, 2, 2, 2,\n",
       "        2, 2, 2, 2, 2, 2, 2, 2, 2, 2, 2, 2, 2, 2, 2, 2, 2, 2, 2, 2, 2, 2,\n",
       "        2, 2, 2, 2, 2, 2, 2, 2, 2, 2, 2, 2, 2, 2, 2, 2, 2, 2]),\n",
       " numpy.ndarray,\n",
       " (150,),\n",
       " 1,\n",
       " 150)"
      ]
     },
     "execution_count": 12,
     "metadata": {},
     "output_type": "execute_result"
    }
   ],
   "source": [
    "iris_y, type(iris_y), iris_y.shape, iris_y.ndim, iris_y.size"
   ]
  },
  {
   "cell_type": "code",
   "execution_count": 14,
   "metadata": {},
   "outputs": [
    {
     "data": {
      "text/plain": [
       "(array([109,  74,  29,  96, 124,  71,  18, 125, 144,   7,   5, 118,   9,\n",
       "         72, 111, 114,  37,  66, 137, 138,  56, 146, 135,  70,  25,  28,\n",
       "         63,  60, 117,  33,   4,  55,  94,  44,  45,  26,  39, 139, 112,\n",
       "          8, 113,  89,  90, 116,  88, 110,  24,  30, 103,  61,  87, 123,\n",
       "         19, 145,  83,  54,  32,  16,  51,  86, 131,  40,  81,  22, 130,\n",
       "        129, 136,  80,  98, 127,  27,  92, 108,  46,  67,  97,  62,   2,\n",
       "         59, 141, 106,  43,  10,  93,  73,  21,  77, 122, 115, 101,  34,\n",
       "         36,  50,   0, 107,  95,  64, 134,  41,  69,  49,  48,  85,  13,\n",
       "        143,  23,  58, 126,  20,  15,  78, 104,  52, 100,  76,   3,  47,\n",
       "        142,   6,  68,  75,  84, 140, 121,  12, 147,  99,  14, 148,  91,\n",
       "         82,  11, 119, 102,  35,  57,  65,   1, 120,  31,  42, 105, 132,\n",
       "         79,  17,  38, 133,  53, 149, 128]),\n",
       " 0,\n",
       " 149)"
      ]
     },
     "execution_count": 14,
     "metadata": {},
     "output_type": "execute_result"
    }
   ],
   "source": [
    "indices, indices.min(), indices.max()"
   ]
  },
  {
   "cell_type": "code",
   "execution_count": 15,
   "metadata": {},
   "outputs": [
    {
     "data": {
      "text/plain": [
       "array([109,  74,  29,  96, 124,  71,  18, 125, 144,   7,   5, 118,   9,\n",
       "        72, 111, 114,  37,  66, 137, 138,  56, 146, 135,  70,  25,  28,\n",
       "        63,  60, 117,  33,   4,  55,  94,  44,  45,  26,  39, 139, 112,\n",
       "         8, 113,  89,  90, 116,  88, 110,  24,  30, 103,  61,  87, 123,\n",
       "        19, 145,  83,  54,  32,  16,  51,  86, 131,  40,  81,  22, 130,\n",
       "       129, 136,  80,  98, 127,  27,  92, 108,  46,  67,  97,  62,   2,\n",
       "        59, 141, 106,  43,  10,  93,  73,  21,  77, 122, 115, 101,  34,\n",
       "        36,  50,   0, 107,  95,  64, 134,  41,  69,  49,  48,  85,  13,\n",
       "       143,  23,  58, 126,  20,  15,  78, 104,  52, 100,  76,   3,  47,\n",
       "       142,   6,  68,  75,  84, 140, 121,  12, 147,  99,  14, 148,  91,\n",
       "        82,  11, 119, 102,  35,  57,  65,   1, 120,  31])"
      ]
     },
     "execution_count": 15,
     "metadata": {},
     "output_type": "execute_result"
    }
   ],
   "source": [
    "indices[:-10]"
   ]
  },
  {
   "cell_type": "code",
   "execution_count": 16,
   "metadata": {},
   "outputs": [
    {
     "data": {
      "text/plain": [
       "array([ 42, 105, 132,  79,  17,  38, 133,  53, 149, 128])"
      ]
     },
     "execution_count": 16,
     "metadata": {},
     "output_type": "execute_result"
    }
   ],
   "source": [
    "indices[-10:]"
   ]
  },
  {
   "cell_type": "code",
   "execution_count": 17,
   "metadata": {},
   "outputs": [],
   "source": [
    "# method 2\n",
    "from sklearn.model_selection import train_test_split\n",
    "iris_x_train, iris_x_test, iris_y_train, iris_y_test = train_test_split(iris_x, iris_y, test_size=10)"
   ]
  },
  {
   "cell_type": "code",
   "execution_count": 18,
   "metadata": {
    "scrolled": false
   },
   "outputs": [
    {
     "data": {
      "text/plain": [
       "(array([[5.7, 4.4, 1.5, 0.4],\n",
       "        [6.3, 2.3, 4.4, 1.3],\n",
       "        [5.8, 2.7, 5.1, 1.9],\n",
       "        [5. , 2. , 3.5, 1. ],\n",
       "        [4.9, 3.6, 1.4, 0.1],\n",
       "        [5.8, 2.7, 3.9, 1.2],\n",
       "        [7.3, 2.9, 6.3, 1.8],\n",
       "        [6.1, 3. , 4.6, 1.4],\n",
       "        [5.9, 3.2, 4.8, 1.8],\n",
       "        [6.3, 2.5, 4.9, 1.5],\n",
       "        [5.7, 3. , 4.2, 1.2],\n",
       "        [5.8, 4. , 1.2, 0.2],\n",
       "        [5.8, 2.8, 5.1, 2.4],\n",
       "        [6.5, 3. , 5.5, 1.8],\n",
       "        [5. , 3.6, 1.4, 0.2],\n",
       "        [6. , 3. , 4.8, 1.8],\n",
       "        [5.6, 2.9, 3.6, 1.3],\n",
       "        [5.7, 2.6, 3.5, 1. ],\n",
       "        [5.4, 3.4, 1.7, 0.2],\n",
       "        [6.9, 3.1, 4.9, 1.5],\n",
       "        [7.9, 3.8, 6.4, 2. ],\n",
       "        [5. , 3.4, 1.6, 0.4],\n",
       "        [4.3, 3. , 1.1, 0.1],\n",
       "        [4.4, 3. , 1.3, 0.2],\n",
       "        [5. , 3.4, 1.5, 0.2],\n",
       "        [4.9, 2.4, 3.3, 1. ],\n",
       "        [5.1, 3.8, 1.5, 0.3],\n",
       "        [6.3, 3.3, 4.7, 1.6],\n",
       "        [6.3, 2.7, 4.9, 1.8],\n",
       "        [5.9, 3. , 5.1, 1.8],\n",
       "        [5.7, 2.8, 4.5, 1.3],\n",
       "        [5.8, 2.6, 4. , 1.2],\n",
       "        [7.7, 3.8, 6.7, 2.2],\n",
       "        [6.7, 3.3, 5.7, 2.5],\n",
       "        [6.2, 2.2, 4.5, 1.5],\n",
       "        [6.7, 3.1, 4.7, 1.5],\n",
       "        [4.4, 3.2, 1.3, 0.2],\n",
       "        [5.4, 3.9, 1.3, 0.4],\n",
       "        [5.1, 2.5, 3. , 1.1],\n",
       "        [5.7, 2.8, 4.1, 1.3],\n",
       "        [6.1, 2.9, 4.7, 1.4],\n",
       "        [6. , 2.7, 5.1, 1.6],\n",
       "        [6.7, 3.1, 4.4, 1.4],\n",
       "        [5.2, 3.4, 1.4, 0.2],\n",
       "        [5.2, 2.7, 3.9, 1.4],\n",
       "        [5.7, 2.5, 5. , 2. ],\n",
       "        [6.9, 3.1, 5.4, 2.1],\n",
       "        [6. , 2.2, 5. , 1.5],\n",
       "        [5.4, 3. , 4.5, 1.5],\n",
       "        [6.4, 3.2, 5.3, 2.3],\n",
       "        [5.1, 3.7, 1.5, 0.4],\n",
       "        [5.6, 2.8, 4.9, 2. ],\n",
       "        [5.6, 2.7, 4.2, 1.3],\n",
       "        [6.7, 3.3, 5.7, 2.1],\n",
       "        [5. , 3.3, 1.4, 0.2],\n",
       "        [6.7, 3.1, 5.6, 2.4],\n",
       "        [6. , 2.9, 4.5, 1.5],\n",
       "        [6.7, 3. , 5. , 1.7],\n",
       "        [5.5, 2.5, 4. , 1.3],\n",
       "        [4.6, 3.6, 1. , 0.2],\n",
       "        [7.7, 3. , 6.1, 2.3],\n",
       "        [6.5, 3.2, 5.1, 2. ],\n",
       "        [5.6, 3. , 4.5, 1.5],\n",
       "        [4.9, 2.5, 4.5, 1.7],\n",
       "        [4.8, 3. , 1.4, 0.1],\n",
       "        [5.7, 2.9, 4.2, 1.3],\n",
       "        [6.1, 2.6, 5.6, 1.4],\n",
       "        [5.1, 3.5, 1.4, 0.3],\n",
       "        [5.7, 3.8, 1.7, 0.3],\n",
       "        [7.1, 3. , 5.9, 2.1],\n",
       "        [7.4, 2.8, 6.1, 1.9],\n",
       "        [4.8, 3.1, 1.6, 0.2],\n",
       "        [6.3, 2.9, 5.6, 1.8],\n",
       "        [6.2, 3.4, 5.4, 2.3],\n",
       "        [5. , 3. , 1.6, 0.2],\n",
       "        [5.3, 3.7, 1.5, 0.2],\n",
       "        [6.3, 3.3, 6. , 2.5],\n",
       "        [5. , 3.5, 1.3, 0.3],\n",
       "        [6.4, 2.8, 5.6, 2.1],\n",
       "        [5.5, 2.4, 3.7, 1. ],\n",
       "        [4.9, 3. , 1.4, 0.2],\n",
       "        [7.2, 3.6, 6.1, 2.5],\n",
       "        [4.4, 2.9, 1.4, 0.2],\n",
       "        [6. , 2.2, 4. , 1. ],\n",
       "        [5.5, 2.4, 3.8, 1.1],\n",
       "        [6.4, 2.8, 5.6, 2.2],\n",
       "        [5.6, 2.5, 3.9, 1.1],\n",
       "        [6.4, 3.1, 5.5, 1.8],\n",
       "        [6.6, 3. , 4.4, 1.4],\n",
       "        [5.1, 3.5, 1.4, 0.2],\n",
       "        [5.5, 3.5, 1.3, 0.2],\n",
       "        [5.4, 3.9, 1.7, 0.4],\n",
       "        [5.5, 4.2, 1.4, 0.2],\n",
       "        [5.6, 3. , 4.1, 1.3],\n",
       "        [7.6, 3. , 6.6, 2.1],\n",
       "        [4.9, 3.1, 1.5, 0.2],\n",
       "        [6.3, 2.5, 5. , 1.9],\n",
       "        [6.2, 2.9, 4.3, 1.3],\n",
       "        [6. , 3.4, 4.5, 1.6],\n",
       "        [5.9, 3. , 4.2, 1.5],\n",
       "        [6.1, 3. , 4.9, 1.8],\n",
       "        [6.1, 2.8, 4. , 1.3],\n",
       "        [4.8, 3. , 1.4, 0.3],\n",
       "        [6.3, 2.8, 5.1, 1.5],\n",
       "        [5.4, 3.7, 1.5, 0.2],\n",
       "        [6.2, 2.8, 4.8, 1.8],\n",
       "        [5.4, 3.4, 1.5, 0.4],\n",
       "        [7.7, 2.8, 6.7, 2. ],\n",
       "        [6.7, 2.5, 5.8, 1.8],\n",
       "        [7. , 3.2, 4.7, 1.4],\n",
       "        [5.5, 2.6, 4.4, 1.2],\n",
       "        [5.1, 3.8, 1.6, 0.2],\n",
       "        [5.8, 2.7, 5.1, 1.9],\n",
       "        [5.1, 3.3, 1.7, 0.5],\n",
       "        [4.5, 2.3, 1.3, 0.3],\n",
       "        [6.1, 2.8, 4.7, 1.2],\n",
       "        [4.9, 3.1, 1.5, 0.1],\n",
       "        [5.1, 3.4, 1.5, 0.2],\n",
       "        [6.9, 3.1, 5.1, 2.3],\n",
       "        [6.8, 3.2, 5.9, 2.3],\n",
       "        [4.7, 3.2, 1.6, 0.2],\n",
       "        [6.4, 3.2, 4.5, 1.5],\n",
       "        [5.5, 2.3, 4. , 1.3],\n",
       "        [5.2, 3.5, 1.5, 0.2],\n",
       "        [4.7, 3.2, 1.3, 0.2],\n",
       "        [6.4, 2.7, 5.3, 1.9],\n",
       "        [6.7, 3. , 5.2, 2.3],\n",
       "        [6.5, 3. , 5.8, 2.2],\n",
       "        [4.8, 3.4, 1.6, 0.2],\n",
       "        [5.2, 4.1, 1.5, 0.1],\n",
       "        [5. , 3.5, 1.6, 0.6],\n",
       "        [5. , 3.2, 1.2, 0.2],\n",
       "        [4.6, 3.1, 1.5, 0.2],\n",
       "        [5.8, 2.7, 4.1, 1. ],\n",
       "        [4.8, 3.4, 1.9, 0.2],\n",
       "        [7.2, 3.2, 6. , 1.8],\n",
       "        [5.1, 3.8, 1.9, 0.4],\n",
       "        [7.7, 2.6, 6.9, 2.3],\n",
       "        [7.2, 3. , 5.8, 1.6],\n",
       "        [5. , 2.3, 3.3, 1. ]]),\n",
       " numpy.ndarray,\n",
       " (140, 4),\n",
       " 2,\n",
       " 560)"
      ]
     },
     "execution_count": 18,
     "metadata": {},
     "output_type": "execute_result"
    }
   ],
   "source": [
    "iris_x_train, type(iris_x_train), iris_x_train.shape, iris_x_train.ndim, iris_x_train.size"
   ]
  },
  {
   "cell_type": "code",
   "execution_count": 20,
   "metadata": {},
   "outputs": [
    {
     "data": {
      "text/plain": [
       "(140,)"
      ]
     },
     "execution_count": 20,
     "metadata": {},
     "output_type": "execute_result"
    }
   ],
   "source": [
    "iris_y_train.shape"
   ]
  },
  {
   "cell_type": "code",
   "execution_count": 19,
   "metadata": {},
   "outputs": [],
   "source": [
    "KNeighborsClassifier?"
   ]
  },
  {
   "cell_type": "code",
   "execution_count": 23,
   "metadata": {},
   "outputs": [
    {
     "name": "stdout",
     "output_type": "stream",
     "text": [
      "iris_y_predict = \n",
      "[2 2 1 0 1 1 2 0 2 1]\n",
      "\n",
      "iris_y_test = \n",
      "[2 2 1 0 1 1 2 0 2 1]\n",
      "Accuracy: 1.0\n",
      "\n",
      "neighborpoint of test sample: [[119  55  53  33  46]\n",
      " [ 73  49  76  33  55]\n",
      " [ 88  42  35 121  97]\n",
      " [124 128  36 120 132]\n",
      " [ 35  19  57 109  88]\n",
      " [ 88  35  42 121  40]\n",
      " [ 61 125  13 126  87]\n",
      " [132 124  36 120  23]\n",
      " [ 46  55 126  53  13]\n",
      " [ 97  88  42 121 101]]\n",
      "probability: [[0. 0. 1.]\n",
      " [0. 0. 1.]\n",
      " [0. 1. 0.]\n",
      " [1. 0. 0.]\n",
      " [0. 1. 0.]\n",
      " [0. 1. 0.]\n",
      " [0. 0. 1.]\n",
      " [1. 0. 0.]\n",
      " [0. 0. 1.]\n",
      " [0. 1. 0.]]\n"
     ]
    }
   ],
   "source": [
    "knn = KNeighborsClassifier()  # 預設 n_neighbors=5\n",
    "#定義一個 knn分類器物件\n",
    "knn.fit(iris_x_train, iris_y_train)  \n",
    "#調用該對象的訓練方法，主要接收兩個參數：訓練資料集及其樣本標籤\n",
    "\n",
    "iris_y_predict = knn.predict(iris_x_test) \n",
    "#調用該物件的測試方法，主要接收一個參數：測試資料集\n",
    "probability = knn.predict_proba(iris_x_test)  \n",
    "#計算各測試樣本基於概率的預測\n",
    "neighborpoint = knn.kneighbors(iris_x_test, n_neighbors=5, return_distance=False)\n",
    "#計算與測試樣本距離在最近的5個點，返回的是這些樣本的序號組成的陣列\n",
    "# knn.score?\n",
    "score = knn.score(iris_x_test, iris_y_test, sample_weight=None)\n",
    "#調用該物件的打分方法，計算出準確率\n",
    "\n",
    "print('iris_y_predict = ')  \n",
    "print(iris_y_predict)  \n",
    "print('')\n",
    "#輸出測試的結果\n",
    "\n",
    "print('iris_y_test = ')\n",
    "print(iris_y_test)    \n",
    "#輸出原始測試資料集的正確標籤，以方便對比\n",
    "print('Accuracy:', score) \n",
    "#輸出準確率計算結果\n",
    "\n",
    "print('')\n",
    "print('neighborpoint of test sample:', neighborpoint)\n",
    "print('probability:', probability)\n"
   ]
  },
  {
   "cell_type": "code",
   "execution_count": 24,
   "metadata": {},
   "outputs": [
    {
     "data": {
      "text/plain": [
       "array([0, 1, 2])"
      ]
     },
     "execution_count": 24,
     "metadata": {},
     "output_type": "execute_result"
    }
   ],
   "source": [
    "knn.classes_"
   ]
  },
  {
   "cell_type": "code",
   "execution_count": 25,
   "metadata": {},
   "outputs": [],
   "source": [
    "# 檢視 source code\n",
    "?? KNeighborsClassifier"
   ]
  },
  {
   "cell_type": "code",
   "execution_count": null,
   "metadata": {},
   "outputs": [],
   "source": []
  }
 ],
 "metadata": {
  "kernelspec": {
   "display_name": "Python 3",
   "language": "python",
   "name": "python3"
  },
  "language_info": {
   "codemirror_mode": {
    "name": "ipython",
    "version": 3
   },
   "file_extension": ".py",
   "mimetype": "text/x-python",
   "name": "python",
   "nbconvert_exporter": "python",
   "pygments_lexer": "ipython3",
   "version": "3.8.3"
  }
 },
 "nbformat": 4,
 "nbformat_minor": 2
}
