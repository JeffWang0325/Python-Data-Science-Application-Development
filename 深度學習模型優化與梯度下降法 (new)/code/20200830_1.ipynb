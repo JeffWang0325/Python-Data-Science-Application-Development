{
 "cells": [
  {
   "cell_type": "code",
   "execution_count": 1,
   "metadata": {},
   "outputs": [],
   "source": [
    "import numpy as np  \n",
    "from keras.models import model_from_json, load_model\n"
   ]
  },
  {
   "cell_type": "code",
   "execution_count": 2,
   "metadata": {},
   "outputs": [],
   "source": [
    "model = load_model('20200830.h5')"
   ]
  },
  {
   "cell_type": "code",
   "execution_count": 3,
   "metadata": {},
   "outputs": [],
   "source": [
    "from skimage import data, color, io\n",
    "from skimage.transform import rescale, resize, downscale_local_mean\n"
   ]
  },
  {
   "cell_type": "code",
   "execution_count": 12,
   "metadata": {},
   "outputs": [
    {
     "name": "stdout",
     "output_type": "stream",
     "text": [
      "(1, 784)\n",
      "0.0 0.4433828161717017\n",
      "0.0 1.0\n",
      "\n",
      "predict...\n",
      "[0]\n"
     ]
    },
    {
     "data": {
      "image/png": "[encoded data removed]",
      "text/plain": [
       "<Figure size 432x288 with 1 Axes>"
      ]
     },
     "metadata": {
      "needs_background": "light"
     },
     "output_type": "display_data"
    }
   ],
   "source": [
    "# uploaded_file = './myDigits/0.png'\n",
    "# uploaded_file = './myDigits/9.png'\n",
    "uploaded_file = './myDigits/test_0.png'\n",
    "\n",
    "image1 = io.imread(uploaded_file, as_gray=True)\n",
    "# image1 = Image.open(uploaded_file).convert('LA')\n",
    "image_resized = resize(image1, (28, 28), anti_aliasing=True)\n",
    "# image_resized = resize(image1, (28, 28), anti_aliasing=False) # 輪廓會斷掉!\n",
    "# X1 = image_resized.reshape(1, 28*28) / 255\n",
    "X1 = image_resized.reshape(1, 28*28)\n",
    "# print(X1)\n",
    "X1 = np.abs(1-X1)\n",
    "print(X1.shape)\n",
    "print(X1.min(), X1.max())\n",
    "\n",
    "# Normalization\n",
    "# from sklearn import preprocessing\n",
    "# X1 = preprocessing.normalize(X1)\n",
    "X1 = (X1-X1.min())/(X1.max()-X1.min())\n",
    "print(X1.min(), X1.max())\n",
    "print(\"\")\n",
    "\n",
    "print(\"predict...\")\n",
    "# predictions = model.predict_classes(X1)\n",
    "predictions = np.argmax(model.predict(X1), axis=1)\n",
    "print(predictions)\n",
    "\n",
    "import matplotlib.pyplot as plt\n",
    "# plt.imshow(image_resized, cmap = plt.get_cmap('binary'))\n",
    "plt.imshow(image_resized, cmap = plt.get_cmap('gray'))\n",
    "plt.show()"
   ]
  },
  {
   "cell_type": "code",
   "execution_count": null,
   "metadata": {},
   "outputs": [],
   "source": [
    "# 一次辨識所有圖片\n"
   ]
  }
 ],
 "metadata": {
  "kernelspec": {
   "display_name": "Python 3",
   "language": "python",
   "name": "python3"
  },
  "language_info": {
   "codemirror_mode": {
    "name": "ipython",
    "version": 3
   },
   "file_extension": ".py",
   "mimetype": "text/x-python",
   "name": "python",
   "nbconvert_exporter": "python",
   "pygments_lexer": "ipython3",
   "version": "3.8.3"
  }
 },
 "nbformat": 4,
 "nbformat_minor": 2
}
