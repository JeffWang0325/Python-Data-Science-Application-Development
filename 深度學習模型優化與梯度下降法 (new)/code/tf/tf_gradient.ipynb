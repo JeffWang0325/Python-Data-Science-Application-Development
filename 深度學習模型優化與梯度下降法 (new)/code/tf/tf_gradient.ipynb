{
 "cells": [
  {
   "cell_type": "code",
   "execution_count": 1,
   "metadata": {},
   "outputs": [],
   "source": [
    "import numpy as np # conda install numpy\n",
    "import tensorflow as tf"
   ]
  },
  {
   "cell_type": "code",
   "execution_count": 2,
   "metadata": {},
   "outputs": [
    {
     "data": {
      "text/plain": [
       "'2.3.1'"
      ]
     },
     "execution_count": 2,
     "metadata": {},
     "output_type": "execute_result"
    }
   ],
   "source": [
    "tf.__version__ # '2.3.1'"
   ]
  },
  {
   "cell_type": "markdown",
   "metadata": {},
   "source": [
    "## 一階導數"
   ]
  },
  {
   "cell_type": "code",
   "execution_count": 3,
   "metadata": {},
   "outputs": [
    {
     "data": {
      "text/plain": [
       "10.0"
      ]
     },
     "execution_count": 3,
     "metadata": {},
     "output_type": "execute_result"
    }
   ],
   "source": [
    "# x = tf.constant(3.0)\n",
    "x = tf.constant(5.0)\n",
    "with tf.GradientTape() as g:\n",
    "    g.watch(x)\n",
    "    y = x * x\n",
    "dy_dx = g.gradient(y, x) # Will compute to 6.0\n",
    "# dy_dx = g.gradient(y, x) # RuntimeError: GradientTape.gradient can only be called once on non-persistent tapes.\n",
    "dy_dx.numpy()"
   ]
  },
  {
   "cell_type": "markdown",
   "metadata": {},
   "source": [
    "## 二階導數"
   ]
  },
  {
   "cell_type": "code",
   "execution_count": 4,
   "metadata": {},
   "outputs": [
    {
     "data": {
      "text/plain": [
       "(6.0, 2.0)"
      ]
     },
     "execution_count": 4,
     "metadata": {},
     "output_type": "execute_result"
    }
   ],
   "source": [
    "x = tf.constant(3.0)\n",
    "with tf.GradientTape() as g:\n",
    "    g.watch(x)\n",
    "    with tf.GradientTape() as gg:\n",
    "        gg.watch(x)\n",
    "        y = x * x\n",
    "    dy_dx = gg.gradient(y, x)     # Will compute to 6.0\n",
    "d2y_dx2 = g.gradient(dy_dx, x)  # Will compute to 2.0\n",
    "\n",
    "dy_dx.numpy(), d2y_dx2.numpy()"
   ]
  },
  {
   "cell_type": "code",
   "execution_count": 7,
   "metadata": {},
   "outputs": [
    {
     "data": {
      "text/plain": [
       "(6.0, 108.0)"
      ]
     },
     "execution_count": 7,
     "metadata": {},
     "output_type": "execute_result"
    }
   ],
   "source": [
    "x = tf.constant(3.0)\n",
    "# x = tf.Variable(3.0)\n",
    "with tf.GradientTape(persistent=True) as g:\n",
    "# with tf.GradientTape() as g:\n",
    "    g.watch(x)\n",
    "    y = x * x\n",
    "    z = y * y\n",
    "dz_dx = g.gradient(z, x)  # 108.0 (4*x^3 at x = 3)\n",
    "dy_dx = g.gradient(y, x)  # 6.0\n",
    "del g  # Drop the reference to the tape\n",
    "\n",
    "dy_dx.numpy(), dz_dx.numpy()"
   ]
  },
  {
   "cell_type": "markdown",
   "metadata": {},
   "source": [
    "## 多變數偏微分"
   ]
  },
  {
   "cell_type": "code",
   "execution_count": 8,
   "metadata": {},
   "outputs": [
    {
     "data": {
      "text/plain": [
       "array([[19.],\n",
       "       [ 9.]], dtype=float32)"
      ]
     },
     "execution_count": 8,
     "metadata": {},
     "output_type": "execute_result"
    }
   ],
   "source": [
    "X = tf.constant([[2.0], \n",
    "                 [3.0]])\n",
    "W = tf.Variable([[4.0, 2.0], \n",
    "                 [2.0, 1.0]])\n",
    "b = tf.Variable([[5.0], \n",
    "                 [2.0]])\n",
    "y_p = W @ X + b\n",
    "y_p.numpy()"
   ]
  },
  {
   "cell_type": "code",
   "execution_count": 9,
   "metadata": {},
   "outputs": [
    {
     "data": {
      "text/plain": [
       "2.5"
      ]
     },
     "execution_count": 9,
     "metadata": {},
     "output_type": "execute_result"
    }
   ],
   "source": [
    "def loss(y, y_pred):\n",
    "    return tf.reduce_mean(tf.square(y - y_pred))\n",
    "\n",
    "y = np.array([[20.0], \n",
    "              [7.0]])\n",
    "current_loss = loss(y, y_p)\n",
    "current_loss.numpy()"
   ]
  },
  {
   "cell_type": "code",
   "execution_count": 10,
   "metadata": {},
   "outputs": [
    {
     "name": "stdout",
     "output_type": "stream",
     "text": [
      "dW:\n",
      "[[2. 3.]\n",
      " [2. 3.]]\n",
      "db:\n",
      "[[1.]\n",
      " [1.]]\n",
      "dX:\n",
      "[[6.]\n",
      " [3.]]\n"
     ]
    }
   ],
   "source": [
    "with tf.GradientTape(persistent=True) as t:\n",
    "    t.watch(X)\n",
    "    y_p2 = W @ X + b\n",
    "dW, db = t.gradient(y_p2, [W, b])\n",
    "dX = t.gradient(y_p2, X)\n",
    "del t\n",
    "print(f'dW:\\n{dW.numpy()}\\ndb:\\n{db.numpy()}')\n",
    "print(f'dX:\\n{dX.numpy()}')"
   ]
  },
  {
   "cell_type": "code",
   "execution_count": 11,
   "metadata": {},
   "outputs": [
    {
     "name": "stdout",
     "output_type": "stream",
     "text": [
      "dW:\n",
      "[[-2. -3.]\n",
      " [ 4.  6.]]\n",
      "db:\n",
      "[[-1.]\n",
      " [ 2.]]\n",
      "dX:\n",
      "[[0.]\n",
      " [0.]]\n"
     ]
    }
   ],
   "source": [
    "with tf.GradientTape(persistent=True) as t:\n",
    "    t.watch(X)\n",
    "    current_loss = loss(y, W @ X + b)\n",
    "dW, db = t.gradient(current_loss, [W, b])\n",
    "dX = t.gradient(current_loss, X)\n",
    "del t\n",
    "print(f'dW:\\n{dW.numpy()}\\ndb:\\n{db.numpy()}')\n",
    "print(f'dX:\\n{dX.numpy()}')"
   ]
  },
  {
   "cell_type": "code",
   "execution_count": 14,
   "metadata": {},
   "outputs": [
    {
     "name": "stdout",
     "output_type": "stream",
     "text": [
      "dW:\n",
      "[[-2. -3.]\n",
      " [ 4.  6.]]\n",
      "db:\n",
      "[[-1.]\n",
      " [ 2.]]\n",
      "dX:\n",
      "[[0.]\n",
      " [0.]]\n"
     ]
    }
   ],
   "source": [
    "with tf.GradientTape(persistent=True) as t:\n",
    "    t.watch(X)\n",
    "    current_loss = loss(y, W @ X + b)\n",
    "dW = t.gradient(current_loss, W)\n",
    "db = t.gradient(current_loss, b)\n",
    "dX = t.gradient(current_loss, X)\n",
    "del t\n",
    "print(f'dW:\\n{dW.numpy()}\\ndb:\\n{db.numpy()}')\n",
    "print(f'dX:\\n{dX.numpy()}')"
   ]
  }
 ],
 "metadata": {
  "kernelspec": {
   "display_name": "Python 3",
   "language": "python",
   "name": "python3"
  },
  "language_info": {
   "codemirror_mode": {
    "name": "ipython",
    "version": 3
   },
   "file_extension": ".py",
   "mimetype": "text/x-python",
   "name": "python",
   "nbconvert_exporter": "python",
   "pygments_lexer": "ipython3",
   "version": "3.8.3"
  }
 },
 "nbformat": 4,
 "nbformat_minor": 4
}
