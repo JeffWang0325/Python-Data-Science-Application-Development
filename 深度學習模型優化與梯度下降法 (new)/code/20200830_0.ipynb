{
 "cells": [
  {
   "cell_type": "code",
   "execution_count": 3,
   "metadata": {},
   "outputs": [],
   "source": [
    "# 導入函式庫\n",
    "import numpy as np  \n",
    "import keras\n",
    "# from keras.models import Sequential\n",
    "# from keras.datasets import mnist\n",
    "from keras.layers import Dense, Dropout, Activation, Flatten\n",
    "from keras.utils import np_utils  # 用來後續將 label 標籤轉為 one-hot-encoding  \n",
    "from matplotlib import pyplot as plt\n",
    "import os\n"
   ]
  },
  {
   "cell_type": "code",
   "execution_count": 4,
   "metadata": {
    "scrolled": false
   },
   "outputs": [
    {
     "data": {
      "text/plain": [
       "array([[[0, 0, 0, ..., 0, 0, 0],\n",
       "        [0, 0, 0, ..., 0, 0, 0],\n",
       "        [0, 0, 0, ..., 0, 0, 0],\n",
       "        ...,\n",
       "        [0, 0, 0, ..., 0, 0, 0],\n",
       "        [0, 0, 0, ..., 0, 0, 0],\n",
       "        [0, 0, 0, ..., 0, 0, 0]],\n",
       "\n",
       "       [[0, 0, 0, ..., 0, 0, 0],\n",
       "        [0, 0, 0, ..., 0, 0, 0],\n",
       "        [0, 0, 0, ..., 0, 0, 0],\n",
       "        ...,\n",
       "        [0, 0, 0, ..., 0, 0, 0],\n",
       "        [0, 0, 0, ..., 0, 0, 0],\n",
       "        [0, 0, 0, ..., 0, 0, 0]],\n",
       "\n",
       "       [[0, 0, 0, ..., 0, 0, 0],\n",
       "        [0, 0, 0, ..., 0, 0, 0],\n",
       "        [0, 0, 0, ..., 0, 0, 0],\n",
       "        ...,\n",
       "        [0, 0, 0, ..., 0, 0, 0],\n",
       "        [0, 0, 0, ..., 0, 0, 0],\n",
       "        [0, 0, 0, ..., 0, 0, 0]],\n",
       "\n",
       "       ...,\n",
       "\n",
       "       [[0, 0, 0, ..., 0, 0, 0],\n",
       "        [0, 0, 0, ..., 0, 0, 0],\n",
       "        [0, 0, 0, ..., 0, 0, 0],\n",
       "        ...,\n",
       "        [0, 0, 0, ..., 0, 0, 0],\n",
       "        [0, 0, 0, ..., 0, 0, 0],\n",
       "        [0, 0, 0, ..., 0, 0, 0]],\n",
       "\n",
       "       [[0, 0, 0, ..., 0, 0, 0],\n",
       "        [0, 0, 0, ..., 0, 0, 0],\n",
       "        [0, 0, 0, ..., 0, 0, 0],\n",
       "        ...,\n",
       "        [0, 0, 0, ..., 0, 0, 0],\n",
       "        [0, 0, 0, ..., 0, 0, 0],\n",
       "        [0, 0, 0, ..., 0, 0, 0]],\n",
       "\n",
       "       [[0, 0, 0, ..., 0, 0, 0],\n",
       "        [0, 0, 0, ..., 0, 0, 0],\n",
       "        [0, 0, 0, ..., 0, 0, 0],\n",
       "        ...,\n",
       "        [0, 0, 0, ..., 0, 0, 0],\n",
       "        [0, 0, 0, ..., 0, 0, 0],\n",
       "        [0, 0, 0, ..., 0, 0, 0]]], dtype=uint8)"
      ]
     },
     "execution_count": 4,
     "metadata": {},
     "output_type": "execute_result"
    }
   ],
   "source": [
    "# 載入 MNIST 資料庫的訓練資料，並自動分為『訓練組』及『測試組』\n",
    "# (X_train, y_train), (X_test, y_test) = mnist.load_data(os.path.join(os.getcwd(), 'datasets/mnist.npz'))\n",
    "# (X_train, y_train), (X_test, y_test) = mnist.load_data()\n",
    "(X_train, y_train), (X_test, y_test) = keras.datasets.mnist.load_data()\n",
    "X_train"
   ]
  },
  {
   "cell_type": "code",
   "execution_count": 5,
   "metadata": {},
   "outputs": [
    {
     "data": {
      "text/plain": [
       "(0, 255)"
      ]
     },
     "execution_count": 5,
     "metadata": {},
     "output_type": "execute_result"
    }
   ],
   "source": [
    "X_train.min(), X_train.max()"
   ]
  },
  {
   "cell_type": "code",
   "execution_count": 6,
   "metadata": {},
   "outputs": [
    {
     "data": {
      "text/plain": [
       "dtype('uint8')"
      ]
     },
     "execution_count": 6,
     "metadata": {},
     "output_type": "execute_result"
    }
   ],
   "source": [
    "X_train.dtype"
   ]
  },
  {
   "cell_type": "markdown",
   "metadata": {},
   "source": [
    "# Method 1: 類別無大小關係 -> 最終輸出為各label的機率分配\n",
    "## loss='categorical_crossentropy' (輸出one-hot-encoding )"
   ]
  },
  {
   "cell_type": "code",
   "execution_count": 7,
   "metadata": {},
   "outputs": [],
   "source": [
    "# 建立簡單的線性執行的模型\n",
    "model = keras.models.Sequential()\n",
    "# Add Input layer, 隱藏層(hidden layer) 有 256個輸出變數\n",
    "# model.add(Dense(units=256, input_dim=784, kernel_initializer='normal', activation='relu')) \n",
    "model.add(Dense(units=256, kernel_initializer='normal', activation='relu')) \n",
    "model.add(Dense(units=64, kernel_initializer='normal', activation='relu'))\n",
    "model.add(Dropout(0.2)) # 可加可不加!\n",
    "# Add output layer\n",
    "model.add(Dense(units=10, kernel_initializer='normal', activation='softmax'))"
   ]
  },
  {
   "cell_type": "code",
   "execution_count": 8,
   "metadata": {},
   "outputs": [],
   "source": [
    "# 編譯: 選擇損失函數、優化方法及成效衡量方式\n",
    "model.compile(loss='categorical_crossentropy', optimizer='adam', metrics=['accuracy'])"
   ]
  },
  {
   "cell_type": "code",
   "execution_count": 9,
   "metadata": {},
   "outputs": [
    {
     "data": {
      "text/plain": [
       "array([5, 0, 4, 1, 9, 2, 1, 3, 1, 4], dtype=uint8)"
      ]
     },
     "execution_count": 9,
     "metadata": {},
     "output_type": "execute_result"
    }
   ],
   "source": [
    "y_train[:10]"
   ]
  },
  {
   "cell_type": "code",
   "execution_count": 12,
   "metadata": {},
   "outputs": [],
   "source": [
    "# 將 output 的 label 進行 one-hot encoding，例如數字 7 經過 One-hot encoding 轉換後是 0000000100，即第8個值為 1\n",
    "y_TrainOneHot = np_utils.to_categorical(y_train)\n",
    "y_TestOneHot = np_utils.to_categorical(y_test)"
   ]
  },
  {
   "cell_type": "code",
   "execution_count": 13,
   "metadata": {},
   "outputs": [
    {
     "data": {
      "text/plain": [
       "array([[0., 0., 0., 0., 0., 1., 0., 0., 0., 0.],\n",
       "       [1., 0., 0., 0., 0., 0., 0., 0., 0., 0.],\n",
       "       [0., 0., 0., 0., 1., 0., 0., 0., 0., 0.],\n",
       "       [0., 1., 0., 0., 0., 0., 0., 0., 0., 0.],\n",
       "       [0., 0., 0., 0., 0., 0., 0., 0., 0., 1.],\n",
       "       [0., 0., 1., 0., 0., 0., 0., 0., 0., 0.],\n",
       "       [0., 1., 0., 0., 0., 0., 0., 0., 0., 0.],\n",
       "       [0., 0., 0., 1., 0., 0., 0., 0., 0., 0.],\n",
       "       [0., 1., 0., 0., 0., 0., 0., 0., 0., 0.],\n",
       "       [0., 0., 0., 0., 1., 0., 0., 0., 0., 0.]], dtype=float32)"
      ]
     },
     "execution_count": 13,
     "metadata": {},
     "output_type": "execute_result"
    }
   ],
   "source": [
    "y_TrainOneHot[:10]"
   ]
  },
  {
   "cell_type": "code",
   "execution_count": 14,
   "metadata": {},
   "outputs": [
    {
     "data": {
      "text/plain": [
       "(60000, 28, 28)"
      ]
     },
     "execution_count": 14,
     "metadata": {},
     "output_type": "execute_result"
    }
   ],
   "source": [
    "X_train.shape"
   ]
  },
  {
   "cell_type": "code",
   "execution_count": 15,
   "metadata": {},
   "outputs": [
    {
     "data": {
      "text/plain": [
       "(60000, 784)"
      ]
     },
     "execution_count": 15,
     "metadata": {},
     "output_type": "execute_result"
    }
   ],
   "source": [
    "# 將 input 資料轉為2維\n",
    "X_train_2D = X_train.reshape(X_train.shape[0], -1).astype('float32')  \n",
    "X_test_2D = X_test.reshape(X_test.shape[0], -1).astype('float32')  \n",
    "\n",
    "X_Train_norm = X_train_2D / 255\n",
    "X_Test_norm = X_test_2D / 255\n",
    "X_Train_norm.shape"
   ]
  },
  {
   "cell_type": "code",
   "execution_count": 16,
   "metadata": {},
   "outputs": [
    {
     "data": {
      "text/plain": [
       "True"
      ]
     },
     "execution_count": 16,
     "metadata": {},
     "output_type": "execute_result"
    }
   ],
   "source": [
    "60000 * (1 - 0.2) == 800 * 60"
   ]
  },
  {
   "cell_type": "code",
   "execution_count": 17,
   "metadata": {},
   "outputs": [
    {
     "name": "stdout",
     "output_type": "stream",
     "text": [
      "Epoch 1/10\n",
      "60/60 - 1s - loss: 1.0394 - accuracy: 0.7280 - val_loss: 0.3427 - val_accuracy: 0.9014\n",
      "Epoch 2/10\n",
      "60/60 - 0s - loss: 0.3561 - accuracy: 0.8963 - val_loss: 0.2418 - val_accuracy: 0.9306\n",
      "Epoch 3/10\n",
      "60/60 - 0s - loss: 0.2648 - accuracy: 0.9237 - val_loss: 0.1949 - val_accuracy: 0.9453\n",
      "Epoch 4/10\n",
      "60/60 - 0s - loss: 0.2123 - accuracy: 0.9395 - val_loss: 0.1639 - val_accuracy: 0.9517\n",
      "Epoch 5/10\n",
      "60/60 - 0s - loss: 0.1780 - accuracy: 0.9488 - val_loss: 0.1462 - val_accuracy: 0.9581\n",
      "Epoch 6/10\n",
      "60/60 - 0s - loss: 0.1517 - accuracy: 0.9564 - val_loss: 0.1299 - val_accuracy: 0.9627\n",
      "Epoch 7/10\n",
      "60/60 - 0s - loss: 0.1302 - accuracy: 0.9619 - val_loss: 0.1170 - val_accuracy: 0.9657\n",
      "Epoch 8/10\n",
      "60/60 - 0s - loss: 0.1143 - accuracy: 0.9666 - val_loss: 0.1126 - val_accuracy: 0.9659\n",
      "Epoch 9/10\n",
      "60/60 - 0s - loss: 0.0999 - accuracy: 0.9710 - val_loss: 0.1044 - val_accuracy: 0.9688\n",
      "Epoch 10/10\n",
      "60/60 - 0s - loss: 0.0886 - accuracy: 0.9737 - val_loss: 0.1001 - val_accuracy: 0.9694\n"
     ]
    }
   ],
   "source": [
    "# 進行訓練, 訓練過程會存在 train_history 變數中\n",
    "train_history = model.fit(x=X_Train_norm, y=y_TrainOneHot, validation_split=0.2, epochs=10, batch_size=800, verbose=2)"
   ]
  },
  {
   "cell_type": "code",
   "execution_count": 18,
   "metadata": {},
   "outputs": [
    {
     "data": {
      "text/plain": [
       "dict_keys(['loss', 'accuracy', 'val_loss', 'val_accuracy'])"
      ]
     },
     "execution_count": 18,
     "metadata": {},
     "output_type": "execute_result"
    }
   ],
   "source": [
    "train_history.history.keys()"
   ]
  },
  {
   "cell_type": "code",
   "execution_count": 20,
   "metadata": {},
   "outputs": [
    {
     "data": {
      "text/plain": [
       "<matplotlib.legend.Legend at 0x1d36d72b430>"
      ]
     },
     "execution_count": 20,
     "metadata": {},
     "output_type": "execute_result"
    },
    {
     "data": {
      "image/png": "[encoded data removed]",
      "text/plain": [
       "<Figure size 432x288 with 1 Axes>"
      ]
     },
     "metadata": {
      "needs_background": "light"
     },
     "output_type": "display_data"
    }
   ],
   "source": [
    "%matplotlib inline\n",
    "import matplotlib.pyplot as plt\n",
    "\n",
    "plt.plot(train_history.history['accuracy'], 'r', label = 'accuracy')\n",
    "plt.plot(train_history.history['val_accuracy'], 'g', label = 'val_accuracy')\n",
    "plt.xlabel('Epoch', fontdict={'c': 'r', 'size': 18})\n",
    "plt.legend(loc='lower right')"
   ]
  },
  {
   "cell_type": "code",
   "execution_count": 21,
   "metadata": {},
   "outputs": [
    {
     "data": {
      "text/plain": [
       "<matplotlib.legend.Legend at 0x1d36d7c02e0>"
      ]
     },
     "execution_count": 21,
     "metadata": {},
     "output_type": "execute_result"
    },
    {
     "data": {
      "image/png": "[encoded data removed]",
      "text/plain": [
       "<Figure size 432x288 with 1 Axes>"
      ]
     },
     "metadata": {
      "needs_background": "light"
     },
     "output_type": "display_data"
    }
   ],
   "source": [
    "plt.plot(train_history.history['loss'], 'r', label = 'loss')\n",
    "plt.plot(train_history.history['val_loss'], 'g', label = 'val_loss')\n",
    "plt.xlabel('Epoch', fontdict={'c': 'r', 'size': 18})\n",
    "plt.legend(loc='upper right')"
   ]
  },
  {
   "cell_type": "code",
   "execution_count": 22,
   "metadata": {},
   "outputs": [
    {
     "name": "stdout",
     "output_type": "stream",
     "text": [
      "Model: \"sequential\"\n",
      "_________________________________________________________________\n",
      "Layer (type)                 Output Shape              Param #   \n",
      "=================================================================\n",
      "dense (Dense)                (800, 256)                200960    \n",
      "_________________________________________________________________\n",
      "dense_1 (Dense)              (800, 64)                 16448     \n",
      "_________________________________________________________________\n",
      "dropout (Dropout)            (800, 64)                 0         \n",
      "_________________________________________________________________\n",
      "dense_2 (Dense)              (800, 10)                 650       \n",
      "=================================================================\n",
      "Total params: 218,058\n",
      "Trainable params: 218,058\n",
      "Non-trainable params: 0\n",
      "_________________________________________________________________\n"
     ]
    }
   ],
   "source": [
    "model.summary()"
   ]
  },
  {
   "cell_type": "code",
   "execution_count": 23,
   "metadata": {},
   "outputs": [
    {
     "name": "stdout",
     "output_type": "stream",
     "text": [
      "313/313 [==============================] - 0s 899us/step - loss: 0.0928 - accuracy: 0.9717\n",
      "\n",
      "\t[Info] Accuracy of testing data = 97.2%\n"
     ]
    }
   ],
   "source": [
    "# 顯示訓練成果(分數)\n",
    "scores = model.evaluate(X_Test_norm, y_TestOneHot)  \n",
    "print()\n",
    "print(\"\\t[Info] Accuracy of testing data = {:2.1f}%\".format(scores[1]*100.0))"
   ]
  },
  {
   "cell_type": "code",
   "execution_count": 24,
   "metadata": {},
   "outputs": [
    {
     "name": "stdout",
     "output_type": "stream",
     "text": [
      "WARNING:tensorflow:From <ipython-input-24-4113fa226f44>:3: Sequential.predict_classes (from tensorflow.python.keras.engine.sequential) is deprecated and will be removed after 2021-01-01.\n",
      "Instructions for updating:\n",
      "Please use instead:* `np.argmax(model.predict(x), axis=-1)`,   if your model does multi-class classification   (e.g. if it uses a `softmax` last-layer activation).* `(model.predict(x) > 0.5).astype(\"int32\")`,   if your model does binary classification   (e.g. if it uses a `sigmoid` last-layer activation).\n",
      "prediction: [7 2 1 0 4 1 4 9 6 9 0 6 9 0 1 5 9 7 3 4]\n",
      "actual    : [7 2 1 0 4 1 4 9 5 9 0 6 9 0 1 5 9 7 3 4]\n"
     ]
    }
   ],
   "source": [
    "# 預測(prediction)\n",
    "X = X_Test_norm\n",
    "predictions = model.predict_classes(X)\n",
    "# get prediction result\n",
    "print('prediction:', predictions[0:20])\n",
    "print('actual    :', y_test[0:20])"
   ]
  },
  {
   "cell_type": "code",
   "execution_count": 24,
   "metadata": {},
   "outputs": [
    {
     "name": "stdout",
     "output_type": "stream",
     "text": [
      "[[6.53272400e-06 5.77906007e-07 9.23094572e-04 1.09076151e-03\n",
      "  4.37889582e-08 7.32762601e-07 4.31650771e-10 9.97957230e-01\n",
      "  2.52991822e-06 1.85029858e-05]\n",
      " [7.73944464e-07 7.24607031e-04 9.98955488e-01 3.14069650e-04\n",
      "  3.24694230e-11 1.11011286e-06 1.32044491e-07 4.10221105e-07\n",
      "  3.55863381e-06 8.09196177e-09]\n",
      " [6.56759876e-05 9.94288802e-01 5.23758761e-04 4.43701225e-04\n",
      "  1.04115740e-03 2.18920177e-04 5.26212505e-04 2.26137135e-03\n",
      "  5.47360745e-04 8.29777418e-05]\n",
      " [9.99666214e-01 3.17357546e-07 1.61720964e-04 1.53366420e-06\n",
      "  1.11042226e-07 3.33234893e-05 3.63752624e-05 8.69849537e-05\n",
      "  5.44359182e-07 1.27853436e-05]\n",
      " [2.53320536e-06 1.06532627e-06 1.15360081e-06 1.03441539e-06\n",
      "  9.96616662e-01 2.38874745e-05 1.00446567e-04 4.72852953e-05\n",
      "  4.65811136e-05 3.15940473e-03]\n",
      " [7.67951042e-06 9.96893883e-01 2.89049112e-05 6.29134811e-05\n",
      "  2.05027987e-04 4.29283818e-06 8.51777713e-06 2.72581098e-03\n",
      "  3.57168392e-05 2.71944409e-05]\n",
      " [6.23987617e-08 1.11778309e-06 1.38578514e-07 1.27595445e-06\n",
      "  9.97471571e-01 5.01530958e-05 1.94747026e-05 2.21176433e-05\n",
      "  1.65098114e-03 7.83040421e-04]\n",
      " [6.21377421e-06 3.85451858e-04 1.58486233e-04 8.41980986e-03\n",
      "  1.01191911e-03 4.00709658e-04 2.28945623e-06 1.54929375e-03\n",
      "  4.14854330e-05 9.88024294e-01]\n",
      " [9.24989930e-04 1.51896384e-04 3.57736577e-03 1.27773514e-04\n",
      "  1.20106749e-01 4.32711095e-01 3.49850148e-01 1.99888996e-06\n",
      "  3.58899310e-02 5.66581823e-02]\n",
      " [2.57515978e-07 2.85888291e-08 8.84071483e-08 2.91352826e-05\n",
      "  3.48909292e-03 7.86407327e-07 1.47938293e-08 2.32134620e-03\n",
      "  6.50620423e-05 9.94094193e-01]\n",
      " [9.99553263e-01 4.19756731e-07 2.21921349e-04 1.09644770e-06\n",
      "  5.00058036e-07 6.05140740e-05 9.86788436e-05 2.27533674e-05\n",
      "  1.73436001e-06 3.91069079e-05]\n",
      " [1.55911397e-03 3.49395646e-06 2.37104992e-04 2.41103698e-05\n",
      "  7.60343624e-04 1.84044504e-04 9.95961010e-01 4.83289512e-07\n",
      "  1.26645295e-03 3.84923578e-06]\n",
      " [6.59643604e-07 4.81402537e-07 5.59032969e-07 8.34227103e-05\n",
      "  8.08983343e-04 3.42442545e-05 6.79642653e-08 2.59742927e-04\n",
      "  4.68543549e-05 9.98764992e-01]\n",
      " [9.99057591e-01 4.68874816e-07 8.97783830e-05 1.30603837e-06\n",
      "  3.11131703e-06 1.26873230e-04 5.38748609e-05 3.93800146e-04\n",
      "  1.92888856e-05 2.53968377e-04]\n",
      " [3.64627056e-07 9.99384761e-01 6.06646336e-06 4.33373498e-04\n",
      "  1.16938163e-05 3.15580110e-05 1.29444297e-05 3.36159574e-05\n",
      "  7.49238679e-05 1.05883273e-05]\n",
      " [4.47609591e-06 2.32873266e-04 4.15844397e-06 5.20329550e-03\n",
      "  1.56925682e-06 9.94356692e-01 3.01270884e-05 3.75529169e-07\n",
      "  7.82463321e-05 8.81752057e-05]\n",
      " [2.57259035e-05 2.81562222e-07 6.32209276e-06 4.97430956e-05\n",
      "  4.98424424e-03 1.93579308e-05 1.21616142e-06 1.11312093e-03\n",
      "  2.26065735e-04 9.93573964e-01]\n",
      " [4.21417008e-06 1.52962940e-07 7.80149712e-04 3.91618174e-04\n",
      "  5.68271474e-09 1.45123806e-07 1.37457642e-10 9.98821199e-01\n",
      "  5.98788716e-08 2.39717610e-06]\n",
      " [1.50139022e-05 8.48443306e-04 1.62210409e-03 9.61093783e-01\n",
      "  5.29916433e-04 1.24895498e-02 2.75880884e-04 1.10717985e-04\n",
      "  2.08732672e-02 2.14140001e-03]\n",
      " [3.47217934e-07 8.28492887e-07 1.74856166e-06 8.81835263e-07\n",
      "  9.99840498e-01 4.74494027e-06 2.32480816e-05 4.31125227e-05\n",
      "  1.46943958e-05 6.99050943e-05]]\n",
      "------------------------------\n",
      "[0.99999994 1.0000001  0.9999999  0.99999994 1.0000001  0.9999999\n",
      " 0.99999994 0.99999994 1.0000001  1.         1.         1.\n",
      " 1.         1.0000001  0.99999994 1.         1.         0.99999994\n",
      " 1.         1.        ]\n",
      "------------------------------\n",
      "[7 2 1 0 4 1 4 9 5 9 0 6 9 0 1 5 9 7 3 4]\n",
      "------------------------------\n",
      "[7 2 1 0 4 1 4 9 5 9 0 6 9 0 1 5 9 7 3 4]\n"
     ]
    }
   ],
   "source": [
    "# 機率分配\n",
    "predictions_proba = model.predict_proba(X)\n",
    "print(predictions_proba[:20])\n",
    "print('-' * 30)\n",
    "print(np.sum(predictions_proba[:20], axis=1))\n",
    "print('-' * 30)\n",
    "print(np.argmax(predictions_proba[:20], axis = -1))\n",
    "print('-' * 30)\n",
    "print(np.argmax(predictions_proba[:20], axis = 1))"
   ]
  },
  {
   "cell_type": "code",
   "execution_count": 25,
   "metadata": {},
   "outputs": [
    {
     "name": "stdout",
     "output_type": "stream",
     "text": [
      "(28, 28)\n"
     ]
    },
    {
     "data": {
      "image/png": "[encoded data removed]",
      "text/plain": [
       "<Figure size 432x288 with 1 Axes>"
      ]
     },
     "metadata": {
      "needs_background": "light"
     },
     "output_type": "display_data"
    }
   ],
   "source": [
    "# 顯示錯誤的資料圖像\n",
    "X2 = X_test[8,:,:]\n",
    "print(X2.shape)\n",
    "# plt.imshow(X2.reshape(28,28), cmap = plt.get_cmap('gray'))\n",
    "# plt.imshow(X2)\n",
    "plt.imshow(X2, cmap = plt.get_cmap('binary'))\n",
    "plt.show()"
   ]
  },
  {
   "cell_type": "code",
   "execution_count": 26,
   "metadata": {},
   "outputs": [
    {
     "name": "stdout",
     "output_type": "stream",
     "text": [
      "[[3.63742356e-06 9.71811096e-06 1.17345888e-04 ... 9.98579860e-01\n",
      "  2.36516121e-06 7.56401641e-05]\n",
      " [1.27019703e-07 2.31291633e-03 9.97173309e-01 ... 6.26195117e-07\n",
      "  7.05244565e-06 1.62512490e-10]\n",
      " [4.17412730e-06 9.96063411e-01 4.54343855e-04 ... 2.05834117e-03\n",
      "  4.46208374e-04 1.66049176e-05]\n",
      " ...\n",
      " [1.07372511e-09 5.60066375e-08 4.08599599e-09 ... 1.81939686e-06\n",
      "  1.09391003e-05 7.26900398e-05]\n",
      " [1.10334554e-07 3.73806088e-08 1.67657804e-10 ... 6.63017552e-09\n",
      "  4.00351826e-04 1.04119316e-07]\n",
      " [1.29569344e-06 5.30844524e-09 6.80445567e-07 ... 5.83206053e-11\n",
      "  4.50417303e-08 1.70884945e-10]]\n"
     ]
    }
   ],
   "source": [
    "prob = model.predict(X)\n",
    "print(prob)"
   ]
  },
  {
   "cell_type": "code",
   "execution_count": 27,
   "metadata": {},
   "outputs": [
    {
     "data": {
      "text/plain": [
       "array([6.9353358e-05, 3.3644024e-05, 5.8977323e-04, 1.6230073e-05,\n",
       "       6.2020118e-03, 4.7862998e-01, 5.1386708e-01, 6.6011091e-07,\n",
       "       5.7404273e-04, 1.7194521e-05], dtype=float32)"
      ]
     },
     "execution_count": 27,
     "metadata": {},
     "output_type": "execute_result"
    }
   ],
   "source": [
    "prob[8]"
   ]
  },
  {
   "cell_type": "code",
   "execution_count": 28,
   "metadata": {},
   "outputs": [
    {
     "data": {
      "text/plain": [
       "6"
      ]
     },
     "execution_count": 28,
     "metadata": {},
     "output_type": "execute_result"
    }
   ],
   "source": [
    "np.argmax(prob[8])"
   ]
  },
  {
   "cell_type": "code",
   "execution_count": 29,
   "metadata": {},
   "outputs": [
    {
     "data": {
      "text/plain": [
       "array([3.63742356e-06, 9.71811096e-06, 1.17345888e-04, 1.20707520e-03,\n",
       "       4.24022545e-07, 3.86604324e-06, 1.03666906e-07, 9.98579860e-01,\n",
       "       2.36516121e-06, 7.56401641e-05], dtype=float32)"
      ]
     },
     "execution_count": 29,
     "metadata": {},
     "output_type": "execute_result"
    }
   ],
   "source": [
    "prob[0]"
   ]
  },
  {
   "cell_type": "code",
   "execution_count": 30,
   "metadata": {},
   "outputs": [
    {
     "data": {
      "text/plain": [
       "7"
      ]
     },
     "execution_count": 30,
     "metadata": {},
     "output_type": "execute_result"
    }
   ],
   "source": [
    "np.argmax(prob[0])"
   ]
  },
  {
   "cell_type": "code",
   "execution_count": 31,
   "metadata": {},
   "outputs": [],
   "source": [
    "model.save('20200830.h5')"
   ]
  },
  {
   "cell_type": "code",
   "execution_count": null,
   "metadata": {},
   "outputs": [],
   "source": []
  },
  {
   "cell_type": "markdown",
   "metadata": {},
   "source": [
    "# # Method 2: 類別有大小關係 -> 最終輸出為1個數值\n",
    "## loss='sparse_categorical_crossentropy' (輸出1個數值)"
   ]
  },
  {
   "cell_type": "code",
   "execution_count": 37,
   "metadata": {},
   "outputs": [],
   "source": [
    "# 建立簡單的線性執行的模型\n",
    "model = keras.models.Sequential()\n",
    "# Add Input layer, 隱藏層(hidden layer) 有 256個輸出變數\n",
    "# model.add(Dense(units=256, input_dim=784, kernel_initializer='normal', activation='relu')) \n",
    "model.add(Dense(units=256, kernel_initializer='normal', activation='relu')) \n",
    "model.add(Dense(units=64, kernel_initializer='normal', activation='relu'))\n",
    "model.add(Dropout(0.2)) # 可加可不加!\n",
    "# Add output layer\n",
    "model.add(Dense(units=10, kernel_initializer='normal', activation='softmax'))"
   ]
  },
  {
   "cell_type": "code",
   "execution_count": 38,
   "metadata": {},
   "outputs": [],
   "source": [
    "# 編譯: 選擇損失函數、優化方法及成效衡量方式\n",
    "model.compile(loss='sparse_categorical_crossentropy', optimizer='adam', metrics=['accuracy'])"
   ]
  },
  {
   "cell_type": "code",
   "execution_count": 39,
   "metadata": {
    "scrolled": false
   },
   "outputs": [
    {
     "name": "stdout",
     "output_type": "stream",
     "text": [
      "Epoch 1/10\n",
      "60/60 - 0s - loss: 1.0277 - accuracy: 0.7215 - val_loss: 0.3478 - val_accuracy: 0.8997\n",
      "Epoch 2/10\n",
      "60/60 - 0s - loss: 0.3513 - accuracy: 0.8973 - val_loss: 0.2444 - val_accuracy: 0.9312\n",
      "Epoch 3/10\n",
      "60/60 - 0s - loss: 0.2657 - accuracy: 0.9245 - val_loss: 0.1943 - val_accuracy: 0.9448\n",
      "Epoch 4/10\n",
      "60/60 - 0s - loss: 0.2096 - accuracy: 0.9400 - val_loss: 0.1653 - val_accuracy: 0.9526\n",
      "Epoch 5/10\n",
      "60/60 - 0s - loss: 0.1781 - accuracy: 0.9479 - val_loss: 0.1422 - val_accuracy: 0.9588\n",
      "Epoch 6/10\n",
      "60/60 - 0s - loss: 0.1514 - accuracy: 0.9564 - val_loss: 0.1316 - val_accuracy: 0.9616\n",
      "Epoch 7/10\n",
      "60/60 - 0s - loss: 0.1302 - accuracy: 0.9620 - val_loss: 0.1209 - val_accuracy: 0.9633\n",
      "Epoch 8/10\n",
      "60/60 - 0s - loss: 0.1171 - accuracy: 0.9665 - val_loss: 0.1128 - val_accuracy: 0.9663\n",
      "Epoch 9/10\n",
      "60/60 - 0s - loss: 0.1024 - accuracy: 0.9704 - val_loss: 0.1061 - val_accuracy: 0.9681\n",
      "Epoch 10/10\n",
      "60/60 - 0s - loss: 0.0911 - accuracy: 0.9740 - val_loss: 0.1004 - val_accuracy: 0.9703\n"
     ]
    }
   ],
   "source": [
    "# 進行訓練, 訓練過程會存在 train_history 變數中\n",
    "train_history = model.fit(x=X_Train_norm, y=y_train, validation_split=0.2, epochs=10, batch_size=800, verbose=2)"
   ]
  },
  {
   "cell_type": "code",
   "execution_count": 40,
   "metadata": {},
   "outputs": [
    {
     "data": {
      "text/plain": [
       "<matplotlib.legend.Legend at 0x25d245a26a0>"
      ]
     },
     "execution_count": 40,
     "metadata": {},
     "output_type": "execute_result"
    },
    {
     "data": {
      "image/png": "[encoded data removed]",
      "text/plain": [
       "<Figure size 432x288 with 1 Axes>"
      ]
     },
     "metadata": {
      "needs_background": "light"
     },
     "output_type": "display_data"
    }
   ],
   "source": [
    "%matplotlib inline\n",
    "import matplotlib.pyplot as plt\n",
    "\n",
    "plt.plot(train_history.history['accuracy'], 'r', label = 'accuracy')\n",
    "plt.plot(train_history.history['val_accuracy'], 'g', label = 'val_accuracy')\n",
    "plt.xlabel('Epoch', fontdict={'c': 'r', 'size': 18})\n",
    "plt.legend(loc='lower right')"
   ]
  },
  {
   "cell_type": "code",
   "execution_count": 41,
   "metadata": {},
   "outputs": [
    {
     "data": {
      "text/plain": [
       "<matplotlib.legend.Legend at 0x25d24601bb0>"
      ]
     },
     "execution_count": 41,
     "metadata": {},
     "output_type": "execute_result"
    },
    {
     "data": {
      "image/png": "[encoded data removed]",
      "text/plain": [
       "<Figure size 432x288 with 1 Axes>"
      ]
     },
     "metadata": {
      "needs_background": "light"
     },
     "output_type": "display_data"
    }
   ],
   "source": [
    "plt.plot(train_history.history['loss'], 'r', label = 'loss')\n",
    "plt.plot(train_history.history['val_loss'], 'g', label = 'val_loss')\n",
    "plt.xlabel('Epoch', fontdict={'c': 'r', 'size': 18})\n",
    "plt.legend(loc='upper right')"
   ]
  },
  {
   "cell_type": "code",
   "execution_count": 42,
   "metadata": {},
   "outputs": [
    {
     "name": "stdout",
     "output_type": "stream",
     "text": [
      "Model: \"sequential_1\"\n",
      "_________________________________________________________________\n",
      "Layer (type)                 Output Shape              Param #   \n",
      "=================================================================\n",
      "dense_3 (Dense)              (800, 256)                200960    \n",
      "_________________________________________________________________\n",
      "dense_4 (Dense)              (800, 64)                 16448     \n",
      "_________________________________________________________________\n",
      "dropout_1 (Dropout)          (800, 64)                 0         \n",
      "_________________________________________________________________\n",
      "dense_5 (Dense)              (800, 10)                 650       \n",
      "=================================================================\n",
      "Total params: 218,058\n",
      "Trainable params: 218,058\n",
      "Non-trainable params: 0\n",
      "_________________________________________________________________\n"
     ]
    }
   ],
   "source": [
    "model.summary()"
   ]
  },
  {
   "cell_type": "code",
   "execution_count": 43,
   "metadata": {},
   "outputs": [
    {
     "name": "stdout",
     "output_type": "stream",
     "text": [
      "313/313 [==============================] - 0s 762us/step - loss: 0.0953 - accuracy: 0.9717\n",
      "\n",
      "\t[Info] Accuracy of testing data = 97.2%\n"
     ]
    }
   ],
   "source": [
    "# 顯示訓練成果(分數)\n",
    "scores = model.evaluate(X_Test_norm, y_test)  \n",
    "print()\n",
    "print(\"\\t[Info] Accuracy of testing data = {:2.1f}%\".format(scores[1]*100.0))"
   ]
  },
  {
   "cell_type": "code",
   "execution_count": null,
   "metadata": {},
   "outputs": [],
   "source": []
  }
 ],
 "metadata": {
  "kernelspec": {
   "display_name": "Python 3",
   "language": "python",
   "name": "python3"
  },
  "language_info": {
   "codemirror_mode": {
    "name": "ipython",
    "version": 3
   },
   "file_extension": ".py",
   "mimetype": "text/x-python",
   "name": "python",
   "nbconvert_exporter": "python",
   "pygments_lexer": "ipython3",
   "version": "3.8.3"
  }
 },
 "nbformat": 4,
 "nbformat_minor": 2
}
