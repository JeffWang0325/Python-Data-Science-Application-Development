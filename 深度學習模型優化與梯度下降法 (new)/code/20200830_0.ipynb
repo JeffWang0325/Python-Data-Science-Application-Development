{
 "cells": [
  {
   "cell_type": "code",
   "execution_count": 2,
   "metadata": {},
   "outputs": [],
   "source": [
    "# 導入函式庫\n",
    "import numpy as np  \n",
    "import keras\n",
    "# from keras.models import Sequential\n",
    "# from keras.datasets import mnist\n",
    "from keras.layers import Dense, Dropout, Activation, Flatten\n",
    "from keras.utils import np_utils  # 用來後續將 label 標籤轉為 one-hot-encoding  \n",
    "from matplotlib import pyplot as plt\n",
    "import os\n"
   ]
  },
  {
   "cell_type": "code",
   "execution_count": 3,
   "metadata": {
    "scrolled": false
   },
   "outputs": [
    {
     "data": {
      "text/plain": [
       "array([[[0, 0, 0, ..., 0, 0, 0],\n",
       "        [0, 0, 0, ..., 0, 0, 0],\n",
       "        [0, 0, 0, ..., 0, 0, 0],\n",
       "        ...,\n",
       "        [0, 0, 0, ..., 0, 0, 0],\n",
       "        [0, 0, 0, ..., 0, 0, 0],\n",
       "        [0, 0, 0, ..., 0, 0, 0]],\n",
       "\n",
       "       [[0, 0, 0, ..., 0, 0, 0],\n",
       "        [0, 0, 0, ..., 0, 0, 0],\n",
       "        [0, 0, 0, ..., 0, 0, 0],\n",
       "        ...,\n",
       "        [0, 0, 0, ..., 0, 0, 0],\n",
       "        [0, 0, 0, ..., 0, 0, 0],\n",
       "        [0, 0, 0, ..., 0, 0, 0]],\n",
       "\n",
       "       [[0, 0, 0, ..., 0, 0, 0],\n",
       "        [0, 0, 0, ..., 0, 0, 0],\n",
       "        [0, 0, 0, ..., 0, 0, 0],\n",
       "        ...,\n",
       "        [0, 0, 0, ..., 0, 0, 0],\n",
       "        [0, 0, 0, ..., 0, 0, 0],\n",
       "        [0, 0, 0, ..., 0, 0, 0]],\n",
       "\n",
       "       ...,\n",
       "\n",
       "       [[0, 0, 0, ..., 0, 0, 0],\n",
       "        [0, 0, 0, ..., 0, 0, 0],\n",
       "        [0, 0, 0, ..., 0, 0, 0],\n",
       "        ...,\n",
       "        [0, 0, 0, ..., 0, 0, 0],\n",
       "        [0, 0, 0, ..., 0, 0, 0],\n",
       "        [0, 0, 0, ..., 0, 0, 0]],\n",
       "\n",
       "       [[0, 0, 0, ..., 0, 0, 0],\n",
       "        [0, 0, 0, ..., 0, 0, 0],\n",
       "        [0, 0, 0, ..., 0, 0, 0],\n",
       "        ...,\n",
       "        [0, 0, 0, ..., 0, 0, 0],\n",
       "        [0, 0, 0, ..., 0, 0, 0],\n",
       "        [0, 0, 0, ..., 0, 0, 0]],\n",
       "\n",
       "       [[0, 0, 0, ..., 0, 0, 0],\n",
       "        [0, 0, 0, ..., 0, 0, 0],\n",
       "        [0, 0, 0, ..., 0, 0, 0],\n",
       "        ...,\n",
       "        [0, 0, 0, ..., 0, 0, 0],\n",
       "        [0, 0, 0, ..., 0, 0, 0],\n",
       "        [0, 0, 0, ..., 0, 0, 0]]], dtype=uint8)"
      ]
     },
     "execution_count": 3,
     "metadata": {},
     "output_type": "execute_result"
    }
   ],
   "source": [
    "# 載入 MNIST 資料庫的訓練資料，並自動分為『訓練組』及『測試組』\n",
    "# (X_train, y_train), (X_test, y_test) = mnist.load_data(os.path.join(os.getcwd(), 'datasets/mnist.npz'))\n",
    "# (X_train, y_train), (X_test, y_test) = mnist.load_data()\n",
    "(X_train, y_train), (X_test, y_test) = keras.datasets.mnist.load_data()\n",
    "X_train"
   ]
  },
  {
   "cell_type": "code",
   "execution_count": 4,
   "metadata": {},
   "outputs": [
    {
     "data": {
      "text/plain": [
       "(60000, 28, 28)"
      ]
     },
     "execution_count": 4,
     "metadata": {},
     "output_type": "execute_result"
    }
   ],
   "source": [
    "X_train.shape"
   ]
  },
  {
   "cell_type": "code",
   "execution_count": 5,
   "metadata": {},
   "outputs": [
    {
     "data": {
      "text/plain": [
       "(0, 255)"
      ]
     },
     "execution_count": 5,
     "metadata": {},
     "output_type": "execute_result"
    }
   ],
   "source": [
    "X_train.min(), X_train.max()"
   ]
  },
  {
   "cell_type": "code",
   "execution_count": 6,
   "metadata": {},
   "outputs": [
    {
     "data": {
      "text/plain": [
       "dtype('uint8')"
      ]
     },
     "execution_count": 6,
     "metadata": {},
     "output_type": "execute_result"
    }
   ],
   "source": [
    "X_train.dtype"
   ]
  },
  {
   "cell_type": "markdown",
   "metadata": {},
   "source": [
    "# Method 1: 類別無大小關係 -> 最終輸出為各label的機率分配\n",
    "## loss='categorical_crossentropy' (輸出one-hot-encoding )"
   ]
  },
  {
   "cell_type": "code",
   "execution_count": 7,
   "metadata": {},
   "outputs": [],
   "source": [
    "# 建立簡單的線性執行的模型\n",
    "model = keras.models.Sequential()\n",
    "# Add Input layer, 隱藏層(hidden layer) 有 256個輸出變數\n",
    "# model.add(Dense(units=256, input_dim=784, kernel_initializer='normal', activation='relu')) \n",
    "model.add(Dense(units=256, kernel_initializer='normal', activation='relu')) \n",
    "model.add(Dense(units=64, kernel_initializer='normal', activation='relu'))\n",
    "model.add(Dropout(0.2)) # 可加可不加!\n",
    "# Add output layer\n",
    "model.add(Dense(units=10, kernel_initializer='normal', activation='softmax'))"
   ]
  },
  {
   "cell_type": "code",
   "execution_count": 8,
   "metadata": {},
   "outputs": [],
   "source": [
    "# 編譯: 選擇損失函數、優化方法及成效衡量方式\n",
    "model.compile(loss='categorical_crossentropy', optimizer='adam', metrics=['accuracy'])"
   ]
  },
  {
   "cell_type": "code",
   "execution_count": 9,
   "metadata": {},
   "outputs": [
    {
     "data": {
      "text/plain": [
       "array([5, 0, 4, 1, 9, 2, 1, 3, 1, 4], dtype=uint8)"
      ]
     },
     "execution_count": 9,
     "metadata": {},
     "output_type": "execute_result"
    }
   ],
   "source": [
    "y_train[:10]"
   ]
  },
  {
   "cell_type": "code",
   "execution_count": 10,
   "metadata": {},
   "outputs": [],
   "source": [
    "# 將 output 的 label 進行 one-hot encoding，例如數字 7 經過 One-hot encoding 轉換後是 0000000100，即第8個值為 1\n",
    "y_TrainOneHot = np_utils.to_categorical(y_train)\n",
    "y_TestOneHot = np_utils.to_categorical(y_test)"
   ]
  },
  {
   "cell_type": "code",
   "execution_count": 11,
   "metadata": {},
   "outputs": [
    {
     "data": {
      "text/plain": [
       "array([[0., 0., 0., 0., 0., 1., 0., 0., 0., 0.],\n",
       "       [1., 0., 0., 0., 0., 0., 0., 0., 0., 0.],\n",
       "       [0., 0., 0., 0., 1., 0., 0., 0., 0., 0.],\n",
       "       [0., 1., 0., 0., 0., 0., 0., 0., 0., 0.],\n",
       "       [0., 0., 0., 0., 0., 0., 0., 0., 0., 1.],\n",
       "       [0., 0., 1., 0., 0., 0., 0., 0., 0., 0.],\n",
       "       [0., 1., 0., 0., 0., 0., 0., 0., 0., 0.],\n",
       "       [0., 0., 0., 1., 0., 0., 0., 0., 0., 0.],\n",
       "       [0., 1., 0., 0., 0., 0., 0., 0., 0., 0.],\n",
       "       [0., 0., 0., 0., 1., 0., 0., 0., 0., 0.]], dtype=float32)"
      ]
     },
     "execution_count": 11,
     "metadata": {},
     "output_type": "execute_result"
    }
   ],
   "source": [
    "y_TrainOneHot[:10]"
   ]
  },
  {
   "cell_type": "code",
   "execution_count": 12,
   "metadata": {},
   "outputs": [
    {
     "data": {
      "text/plain": [
       "(60000, 784)"
      ]
     },
     "execution_count": 12,
     "metadata": {},
     "output_type": "execute_result"
    }
   ],
   "source": [
    "# 將 input 資料轉為2維\n",
    "X_train_2D = X_train.reshape(X_train.shape[0], -1).astype('float32')  \n",
    "X_test_2D = X_test.reshape(X_test.shape[0], -1).astype('float32')  \n",
    "\n",
    "X_Train_norm = X_train_2D / 255\n",
    "X_Test_norm = X_test_2D / 255\n",
    "X_Train_norm.shape"
   ]
  },
  {
   "cell_type": "code",
   "execution_count": 13,
   "metadata": {},
   "outputs": [
    {
     "data": {
      "text/plain": [
       "True"
      ]
     },
     "execution_count": 13,
     "metadata": {},
     "output_type": "execute_result"
    }
   ],
   "source": [
    "60000 * (1 - 0.2) == 800 * 60"
   ]
  },
  {
   "cell_type": "code",
   "execution_count": 14,
   "metadata": {},
   "outputs": [
    {
     "name": "stdout",
     "output_type": "stream",
     "text": [
      "Epoch 1/10\n",
      "60/60 - 1s - loss: 1.0054 - accuracy: 0.7397 - val_loss: 0.3439 - val_accuracy: 0.9020\n",
      "Epoch 2/10\n",
      "60/60 - 0s - loss: 0.3589 - accuracy: 0.8955 - val_loss: 0.2563 - val_accuracy: 0.9267\n",
      "Epoch 3/10\n",
      "60/60 - 0s - loss: 0.2738 - accuracy: 0.9209 - val_loss: 0.2037 - val_accuracy: 0.9420\n",
      "Epoch 4/10\n",
      "60/60 - 0s - loss: 0.2203 - accuracy: 0.9377 - val_loss: 0.1695 - val_accuracy: 0.9518\n",
      "Epoch 5/10\n",
      "60/60 - 0s - loss: 0.1823 - accuracy: 0.9475 - val_loss: 0.1483 - val_accuracy: 0.9572\n",
      "Epoch 6/10\n",
      "60/60 - 0s - loss: 0.1537 - accuracy: 0.9563 - val_loss: 0.1341 - val_accuracy: 0.9604\n",
      "Epoch 7/10\n",
      "60/60 - 0s - loss: 0.1318 - accuracy: 0.9620 - val_loss: 0.1187 - val_accuracy: 0.9640\n",
      "Epoch 8/10\n",
      "60/60 - 0s - loss: 0.1191 - accuracy: 0.9647 - val_loss: 0.1106 - val_accuracy: 0.9663\n",
      "Epoch 9/10\n",
      "60/60 - 0s - loss: 0.1015 - accuracy: 0.9705 - val_loss: 0.1027 - val_accuracy: 0.9691\n",
      "Epoch 10/10\n",
      "60/60 - 0s - loss: 0.0903 - accuracy: 0.9729 - val_loss: 0.0987 - val_accuracy: 0.9710\n"
     ]
    }
   ],
   "source": [
    "# 進行訓練, 訓練過程會存在 train_history 變數中\n",
    "train_history = model.fit(x=X_Train_norm, y=y_TrainOneHot, validation_split=0.2, epochs=10, batch_size=800, verbose=2)"
   ]
  },
  {
   "cell_type": "code",
   "execution_count": 15,
   "metadata": {},
   "outputs": [
    {
     "data": {
      "text/plain": [
       "dict_keys(['loss', 'accuracy', 'val_loss', 'val_accuracy'])"
      ]
     },
     "execution_count": 15,
     "metadata": {},
     "output_type": "execute_result"
    }
   ],
   "source": [
    "train_history.history.keys()"
   ]
  },
  {
   "cell_type": "code",
   "execution_count": 17,
   "metadata": {},
   "outputs": [
    {
     "data": {
      "text/plain": [
       "[0.7396666407585144,\n",
       " 0.895479142665863,\n",
       " 0.9208541512489319,\n",
       " 0.937666654586792,\n",
       " 0.9475416541099548,\n",
       " 0.956291675567627,\n",
       " 0.9619791507720947,\n",
       " 0.9646875262260437,\n",
       " 0.9705208539962769,\n",
       " 0.9728541374206543]"
      ]
     },
     "execution_count": 17,
     "metadata": {},
     "output_type": "execute_result"
    }
   ],
   "source": [
    "train_history.history['accuracy']"
   ]
  },
  {
   "cell_type": "code",
   "execution_count": 16,
   "metadata": {},
   "outputs": [
    {
     "data": {
      "text/plain": [
       "<matplotlib.legend.Legend at 0x255421ca460>"
      ]
     },
     "execution_count": 16,
     "metadata": {},
     "output_type": "execute_result"
    },
    {
     "data": {
      "image/png": "[encoded data removed]",
      "text/plain": [
       "<Figure size 432x288 with 1 Axes>"
      ]
     },
     "metadata": {
      "needs_background": "light"
     },
     "output_type": "display_data"
    }
   ],
   "source": [
    "%matplotlib inline\n",
    "import matplotlib.pyplot as plt\n",
    "\n",
    "plt.plot(train_history.history['accuracy'], 'r', label = 'accuracy')\n",
    "plt.plot(train_history.history['val_accuracy'], 'g', label = 'val_accuracy')\n",
    "plt.xlabel('Epoch', fontdict={'c': 'r', 'size': 18})\n",
    "plt.legend(loc='lower right')"
   ]
  },
  {
   "cell_type": "code",
   "execution_count": 18,
   "metadata": {},
   "outputs": [
    {
     "data": {
      "text/plain": [
       "<matplotlib.legend.Legend at 0x255430233d0>"
      ]
     },
     "execution_count": 18,
     "metadata": {},
     "output_type": "execute_result"
    },
    {
     "data": {
      "image/png": "[encoded data removed]",
      "text/plain": [
       "<Figure size 432x288 with 1 Axes>"
      ]
     },
     "metadata": {
      "needs_background": "light"
     },
     "output_type": "display_data"
    }
   ],
   "source": [
    "plt.plot(train_history.history['loss'], 'r', label = 'loss')\n",
    "plt.plot(train_history.history['val_loss'], 'g', label = 'val_loss')\n",
    "plt.xlabel('Epoch', fontdict={'c': 'r', 'size': 18})\n",
    "plt.legend(loc='upper right')"
   ]
  },
  {
   "cell_type": "code",
   "execution_count": 19,
   "metadata": {},
   "outputs": [
    {
     "name": "stdout",
     "output_type": "stream",
     "text": [
      "Model: \"sequential\"\n",
      "_________________________________________________________________\n",
      "Layer (type)                 Output Shape              Param #   \n",
      "=================================================================\n",
      "dense (Dense)                (800, 256)                200960    \n",
      "_________________________________________________________________\n",
      "dense_1 (Dense)              (800, 64)                 16448     \n",
      "_________________________________________________________________\n",
      "dropout (Dropout)            (800, 64)                 0         \n",
      "_________________________________________________________________\n",
      "dense_2 (Dense)              (800, 10)                 650       \n",
      "=================================================================\n",
      "Total params: 218,058\n",
      "Trainable params: 218,058\n",
      "Non-trainable params: 0\n",
      "_________________________________________________________________\n"
     ]
    }
   ],
   "source": [
    "model.summary()"
   ]
  },
  {
   "cell_type": "code",
   "execution_count": 20,
   "metadata": {},
   "outputs": [
    {
     "name": "stdout",
     "output_type": "stream",
     "text": [
      "313/313 [==============================] - 0s 913us/step - loss: 0.0944 - accuracy: 0.9711\n",
      "\n",
      "\t[Info] Accuracy of testing data = 97.1%\n"
     ]
    }
   ],
   "source": [
    "# 顯示訓練成果(分數)\n",
    "scores = model.evaluate(X_Test_norm, y_TestOneHot)  \n",
    "print()\n",
    "print(\"\\t[Info] Accuracy of testing data = {:2.1f}%\".format(scores[1]*100.0))"
   ]
  },
  {
   "cell_type": "code",
   "execution_count": 22,
   "metadata": {},
   "outputs": [
    {
     "name": "stdout",
     "output_type": "stream",
     "text": [
      "prediction: [7 2 1 0 4 1 4 9 6 9 0 6 9 0 1 5 9 7 3 4]\n",
      "actual    : [7 2 1 0 4 1 4 9 5 9 0 6 9 0 1 5 9 7 3 4]\n"
     ]
    }
   ],
   "source": [
    "# 預測(prediction)\n",
    "X = X_Test_norm\n",
    "# predictions = model.predict_classes(X)\n",
    "predictions = np.argmax(model.predict(X), axis=1)\n",
    "# get prediction result\n",
    "print('prediction:', predictions[:20])\n",
    "print('actual    :', y_test[:20])"
   ]
  },
  {
   "cell_type": "code",
   "execution_count": 24,
   "metadata": {},
   "outputs": [
    {
     "name": "stdout",
     "output_type": "stream",
     "text": [
      "[[7.89534897e-06 9.65842446e-07 2.86457449e-04 2.18898407e-03\n",
      "  1.83688016e-08 1.95275570e-05 1.54367949e-10 9.97436345e-01\n",
      "  5.85077146e-07 5.92562465e-05]\n",
      " [1.74041850e-06 1.12779555e-03 9.98317242e-01 4.87563026e-04\n",
      "  1.11699772e-09 3.97776603e-07 7.40603241e-07 1.87838054e-06\n",
      "  6.27040863e-05 9.51020818e-10]\n",
      " [2.04639655e-05 9.93327975e-01 5.17297129e-04 2.78965337e-04\n",
      "  3.65128275e-04 4.42207165e-05 6.96567149e-05 4.86814976e-03\n",
      "  4.21686884e-04 8.65146721e-05]\n",
      " [9.99364078e-01 2.35389916e-06 4.06942527e-05 2.16656008e-06\n",
      "  2.80638551e-06 2.18851346e-05 1.13676993e-04 3.65524087e-04\n",
      "  1.04780884e-06 8.56232364e-05]\n",
      " [2.00278464e-05 1.43416228e-05 1.74487686e-05 1.70183444e-06\n",
      "  9.95672226e-01 7.58374426e-07 7.17403645e-06 5.31608355e-04\n",
      "  2.85811366e-05 3.70624778e-03]\n",
      " [1.34053403e-06 9.94523168e-01 3.83136248e-05 4.69689840e-05\n",
      "  6.33778691e-05 8.33055367e-07 5.56401346e-07 5.28227305e-03\n",
      "  2.30567093e-05 2.01646508e-05]\n",
      " [1.25318127e-06 3.09751631e-05 9.02106706e-07 1.22194970e-05\n",
      "  9.92334664e-01 9.06851856e-05 2.22455492e-06 3.93401540e-04\n",
      "  3.40217538e-03 3.73135088e-03]\n",
      " [1.16109304e-05 5.51581499e-04 5.25993819e-04 4.00989503e-03\n",
      "  9.20770876e-03 1.12993175e-05 4.29614062e-07 1.96729554e-03\n",
      "  2.38790948e-04 9.83475327e-01]\n",
      " [1.13353122e-03 6.61720347e-04 5.51750557e-03 4.79488044e-05\n",
      "  2.37010815e-03 1.77793607e-01 8.04484606e-01 1.05423915e-05\n",
      "  7.81676732e-03 1.63584322e-04]\n",
      " [3.84298829e-07 6.97915326e-08 2.14388521e-07 1.08122358e-05\n",
      "  1.22311409e-03 5.84681743e-07 5.97952798e-10 9.81722143e-04\n",
      "  1.74378874e-04 9.97608662e-01]\n",
      " [9.99678493e-01 4.87653779e-07 1.20284683e-04 1.28395641e-06\n",
      "  2.52711487e-07 3.12003503e-05 7.34514542e-05 2.46034615e-05\n",
      "  2.04638627e-06 6.80867015e-05]\n",
      " [5.54399914e-04 3.62126593e-05 1.16338721e-04 9.93223875e-06\n",
      "  1.88369799e-04 3.55982367e-04 9.97651160e-01 1.31268621e-06\n",
      "  1.08158740e-03 4.79656819e-06]\n",
      " [4.35701281e-07 2.13977430e-07 2.33793500e-07 4.21051918e-05\n",
      "  4.39226802e-04 7.50874369e-06 1.21088095e-09 1.42325574e-04\n",
      "  4.68270919e-05 9.99321103e-01]\n",
      " [9.99068797e-01 1.17142861e-06 1.40955972e-05 7.53135396e-07\n",
      "  5.61541356e-06 1.37684896e-04 7.94294538e-05 3.01120308e-04\n",
      "  7.96017048e-06 3.83450155e-04]\n",
      " [2.96554106e-08 9.99760449e-01 1.86498755e-06 1.01640537e-04\n",
      "  3.68313385e-06 3.67572625e-06 4.81168740e-07 6.26850597e-05\n",
      "  6.13485827e-05 4.02542355e-06]\n",
      " [1.47039455e-05 2.07270205e-04 4.82498444e-06 5.20825339e-03\n",
      "  5.10581185e-06 9.92929757e-01 5.58383399e-05 5.19529021e-06\n",
      "  1.46511057e-03 1.03874510e-04]\n",
      " [1.00641901e-05 2.40902523e-07 4.35378797e-06 1.66233604e-05\n",
      "  5.29328478e-04 1.11296742e-06 2.65363891e-08 3.38373356e-04\n",
      "  2.94165889e-04 9.98805761e-01]\n",
      " [3.76901335e-06 2.18444868e-07 2.95592967e-04 6.37815683e-04\n",
      "  4.12451806e-09 4.56543432e-07 2.39503452e-11 9.99057949e-01\n",
      "  3.68712372e-09 4.21453797e-06]\n",
      " [2.89650488e-04 1.32309198e-02 3.29058729e-02 9.03290153e-01\n",
      "  4.43330558e-04 2.04194686e-03 2.46257754e-04 1.96251716e-03\n",
      "  4.15051170e-02 4.08422621e-03]\n",
      " [1.27771170e-06 8.77652201e-06 4.45348905e-06 5.07975210e-06\n",
      "  9.99279678e-01 5.50783511e-07 1.14311376e-06 2.46262120e-04\n",
      "  3.05131653e-06 4.49666375e-04]]\n",
      "------------------------------\n",
      "[1.0000001  1.         1.         0.9999999  1.0000001  1.\n",
      " 0.9999999  0.99999994 0.9999999  0.99999994 1.0000002  1.0000001\n",
      " 1.         1.0000001  0.9999999  0.99999994 1.         1.\n",
      " 1.         0.99999994]\n",
      "------------------------------\n",
      "[7 2 1 0 4 1 4 9 6 9 0 6 9 0 1 5 9 7 3 4]\n",
      "------------------------------\n",
      "[7 2 1 0 4 1 4 9 6 9 0 6 9 0 1 5 9 7 3 4]\n"
     ]
    }
   ],
   "source": [
    "# 機率分配\n",
    "# predictions_proba = model.predict_proba(X) # will be removed after 2021-01-01.\n",
    "predictions_proba = model.predict(X)\n",
    "print(predictions_proba[:20])\n",
    "print('-' * 30)\n",
    "print(np.sum(predictions_proba[:20], axis=1))\n",
    "print('-' * 30)\n",
    "print(np.argmax(predictions_proba[:20], axis = -1))\n",
    "print('-' * 30)\n",
    "print(np.argmax(predictions_proba[:20], axis = 1))"
   ]
  },
  {
   "cell_type": "code",
   "execution_count": 27,
   "metadata": {},
   "outputs": [
    {
     "name": "stdout",
     "output_type": "stream",
     "text": [
      "(28, 28)\n"
     ]
    },
    {
     "data": {
      "image/png": "[encoded data removed]",
      "text/plain": [
       "<Figure size 432x288 with 1 Axes>"
      ]
     },
     "metadata": {
      "needs_background": "light"
     },
     "output_type": "display_data"
    }
   ],
   "source": [
    "# 顯示錯誤的資料圖像\n",
    "X2 = X_test[8,:,:]\n",
    "print(X2.shape)\n",
    "plt.imshow(X2, cmap = plt.get_cmap('gray'))\n",
    "# plt.imshow(X2)\n",
    "# plt.imshow(X2, cmap = plt.get_cmap('binary'))\n",
    "plt.show()"
   ]
  },
  {
   "cell_type": "code",
   "execution_count": 28,
   "metadata": {},
   "outputs": [
    {
     "name": "stdout",
     "output_type": "stream",
     "text": [
      "[[7.8953490e-06 9.6584245e-07 2.8645745e-04 ... 9.9743634e-01\n",
      "  5.8507715e-07 5.9256246e-05]\n",
      " [1.7404185e-06 1.1277955e-03 9.9831724e-01 ... 1.8783805e-06\n",
      "  6.2704086e-05 9.5102082e-10]\n",
      " [2.0463965e-05 9.9332798e-01 5.1729713e-04 ... 4.8681498e-03\n",
      "  4.2168688e-04 8.6514672e-05]\n",
      " ...\n",
      " [1.9555353e-08 1.8164600e-08 9.8213526e-09 ... 3.0498721e-05\n",
      "  2.3003582e-05 8.7434950e-04]\n",
      " [2.1027709e-08 1.4353813e-06 8.5125962e-11 ... 4.0550066e-08\n",
      "  4.4666565e-05 2.6357256e-08]\n",
      " [9.6163308e-07 2.6501072e-08 2.7753623e-07 ... 9.1502267e-10\n",
      "  4.2668916e-07 1.2858552e-10]]\n"
     ]
    }
   ],
   "source": [
    "prob = model.predict(X)\n",
    "print(prob)"
   ]
  },
  {
   "cell_type": "code",
   "execution_count": 29,
   "metadata": {},
   "outputs": [
    {
     "data": {
      "text/plain": [
       "array([1.13353122e-03, 6.61720347e-04, 5.51750557e-03, 4.79488044e-05,\n",
       "       2.37010815e-03, 1.77793607e-01, 8.04484606e-01, 1.05423915e-05,\n",
       "       7.81676732e-03, 1.63584322e-04], dtype=float32)"
      ]
     },
     "execution_count": 29,
     "metadata": {},
     "output_type": "execute_result"
    }
   ],
   "source": [
    "prob[8]"
   ]
  },
  {
   "cell_type": "code",
   "execution_count": 31,
   "metadata": {},
   "outputs": [
    {
     "data": {
      "text/plain": [
       "6"
      ]
     },
     "execution_count": 31,
     "metadata": {},
     "output_type": "execute_result"
    }
   ],
   "source": [
    "np.argmax(prob[8])"
   ]
  },
  {
   "cell_type": "code",
   "execution_count": 32,
   "metadata": {},
   "outputs": [
    {
     "data": {
      "text/plain": [
       "array([7.8953490e-06, 9.6584245e-07, 2.8645745e-04, 2.1889841e-03,\n",
       "       1.8368802e-08, 1.9527557e-05, 1.5436795e-10, 9.9743634e-01,\n",
       "       5.8507715e-07, 5.9256246e-05], dtype=float32)"
      ]
     },
     "execution_count": 32,
     "metadata": {},
     "output_type": "execute_result"
    }
   ],
   "source": [
    "prob[0]"
   ]
  },
  {
   "cell_type": "code",
   "execution_count": 33,
   "metadata": {},
   "outputs": [
    {
     "data": {
      "text/plain": [
       "7"
      ]
     },
     "execution_count": 33,
     "metadata": {},
     "output_type": "execute_result"
    }
   ],
   "source": [
    "np.argmax(prob[0])"
   ]
  },
  {
   "cell_type": "code",
   "execution_count": 34,
   "metadata": {},
   "outputs": [],
   "source": [
    "model.save('20200830.h5')"
   ]
  },
  {
   "cell_type": "code",
   "execution_count": null,
   "metadata": {},
   "outputs": [],
   "source": []
  },
  {
   "cell_type": "markdown",
   "metadata": {},
   "source": [
    "# # Method 2: 類別有大小關係 -> 最終輸出為1個數值\n",
    "## loss='sparse_categorical_crossentropy' (輸出1個數值)"
   ]
  },
  {
   "cell_type": "code",
   "execution_count": 35,
   "metadata": {},
   "outputs": [],
   "source": [
    "# 建立簡單的線性執行的模型\n",
    "model = keras.models.Sequential()\n",
    "# Add Input layer, 隱藏層(hidden layer) 有 256個輸出變數\n",
    "# model.add(Dense(units=256, input_dim=784, kernel_initializer='normal', activation='relu')) \n",
    "model.add(Dense(units=256, kernel_initializer='normal', activation='relu')) \n",
    "model.add(Dense(units=64, kernel_initializer='normal', activation='relu'))\n",
    "model.add(Dropout(0.2)) # 可加可不加!\n",
    "# Add output layer\n",
    "model.add(Dense(units=10, kernel_initializer='normal', activation='softmax'))"
   ]
  },
  {
   "cell_type": "code",
   "execution_count": 36,
   "metadata": {},
   "outputs": [],
   "source": [
    "# 編譯: 選擇損失函數、優化方法及成效衡量方式\n",
    "model.compile(loss='sparse_categorical_crossentropy', optimizer='adam', metrics=['accuracy'])"
   ]
  },
  {
   "cell_type": "code",
   "execution_count": 37,
   "metadata": {
    "scrolled": false
   },
   "outputs": [
    {
     "name": "stdout",
     "output_type": "stream",
     "text": [
      "Epoch 1/10\n",
      "60/60 - 1s - loss: 1.0285 - accuracy: 0.7236 - val_loss: 0.3391 - val_accuracy: 0.9070\n",
      "Epoch 2/10\n",
      "60/60 - 0s - loss: 0.3451 - accuracy: 0.8997 - val_loss: 0.2403 - val_accuracy: 0.9328\n",
      "Epoch 3/10\n",
      "60/60 - 0s - loss: 0.2611 - accuracy: 0.9247 - val_loss: 0.1996 - val_accuracy: 0.9423\n",
      "Epoch 4/10\n",
      "60/60 - 0s - loss: 0.2130 - accuracy: 0.9386 - val_loss: 0.1671 - val_accuracy: 0.9517\n",
      "Epoch 5/10\n",
      "60/60 - 0s - loss: 0.1771 - accuracy: 0.9492 - val_loss: 0.1463 - val_accuracy: 0.9574\n",
      "Epoch 6/10\n",
      "60/60 - 0s - loss: 0.1531 - accuracy: 0.9562 - val_loss: 0.1343 - val_accuracy: 0.9624\n",
      "Epoch 7/10\n",
      "60/60 - 0s - loss: 0.1351 - accuracy: 0.9610 - val_loss: 0.1237 - val_accuracy: 0.9632\n",
      "Epoch 8/10\n",
      "60/60 - 0s - loss: 0.1190 - accuracy: 0.9645 - val_loss: 0.1138 - val_accuracy: 0.9659\n",
      "Epoch 9/10\n",
      "60/60 - 0s - loss: 0.1042 - accuracy: 0.9697 - val_loss: 0.1114 - val_accuracy: 0.9660\n",
      "Epoch 10/10\n",
      "60/60 - 0s - loss: 0.0947 - accuracy: 0.9726 - val_loss: 0.1015 - val_accuracy: 0.9692\n"
     ]
    }
   ],
   "source": [
    "# 進行訓練, 訓練過程會存在 train_history 變數中\n",
    "train_history = model.fit(x=X_Train_norm, y=y_train, validation_split=0.2, epochs=10, batch_size=800, verbose=2)"
   ]
  },
  {
   "cell_type": "code",
   "execution_count": 38,
   "metadata": {},
   "outputs": [
    {
     "data": {
      "text/plain": [
       "<matplotlib.legend.Legend at 0x255444d1e50>"
      ]
     },
     "execution_count": 38,
     "metadata": {},
     "output_type": "execute_result"
    },
    {
     "data": {
      "image/png": "[encoded data removed]",
      "text/plain": [
       "<Figure size 432x288 with 1 Axes>"
      ]
     },
     "metadata": {
      "needs_background": "light"
     },
     "output_type": "display_data"
    }
   ],
   "source": [
    "%matplotlib inline\n",
    "import matplotlib.pyplot as plt\n",
    "\n",
    "plt.plot(train_history.history['accuracy'], 'r', label = 'accuracy')\n",
    "plt.plot(train_history.history['val_accuracy'], 'g', label = 'val_accuracy')\n",
    "plt.xlabel('Epoch', fontdict={'c': 'r', 'size': 18})\n",
    "plt.legend(loc='lower right')"
   ]
  },
  {
   "cell_type": "code",
   "execution_count": 39,
   "metadata": {},
   "outputs": [
    {
     "data": {
      "text/plain": [
       "<matplotlib.legend.Legend at 0x25545812ac0>"
      ]
     },
     "execution_count": 39,
     "metadata": {},
     "output_type": "execute_result"
    },
    {
     "data": {
      "image/png": "[encoded data removed]",
      "text/plain": [
       "<Figure size 432x288 with 1 Axes>"
      ]
     },
     "metadata": {
      "needs_background": "light"
     },
     "output_type": "display_data"
    }
   ],
   "source": [
    "plt.plot(train_history.history['loss'], 'r', label = 'loss')\n",
    "plt.plot(train_history.history['val_loss'], 'g', label = 'val_loss')\n",
    "plt.xlabel('Epoch', fontdict={'c': 'r', 'size': 18})\n",
    "plt.legend(loc='upper right')"
   ]
  },
  {
   "cell_type": "code",
   "execution_count": 40,
   "metadata": {},
   "outputs": [
    {
     "name": "stdout",
     "output_type": "stream",
     "text": [
      "Model: \"sequential_1\"\n",
      "_________________________________________________________________\n",
      "Layer (type)                 Output Shape              Param #   \n",
      "=================================================================\n",
      "dense_3 (Dense)              (800, 256)                200960    \n",
      "_________________________________________________________________\n",
      "dense_4 (Dense)              (800, 64)                 16448     \n",
      "_________________________________________________________________\n",
      "dropout_1 (Dropout)          (800, 64)                 0         \n",
      "_________________________________________________________________\n",
      "dense_5 (Dense)              (800, 10)                 650       \n",
      "=================================================================\n",
      "Total params: 218,058\n",
      "Trainable params: 218,058\n",
      "Non-trainable params: 0\n",
      "_________________________________________________________________\n"
     ]
    }
   ],
   "source": [
    "model.summary()"
   ]
  },
  {
   "cell_type": "code",
   "execution_count": 41,
   "metadata": {},
   "outputs": [
    {
     "name": "stdout",
     "output_type": "stream",
     "text": [
      "313/313 [==============================] - 0s 923us/step - loss: 0.0989 - accuracy: 0.9704\n",
      "\n",
      "\t[Info] Accuracy of testing data = 97.0%\n"
     ]
    }
   ],
   "source": [
    "# 顯示訓練成果(分數)\n",
    "scores = model.evaluate(X_Test_norm, y_test)  \n",
    "print()\n",
    "print(\"\\t[Info] Accuracy of testing data = {:2.1f}%\".format(scores[1]*100.0))"
   ]
  }
 ],
 "metadata": {
  "kernelspec": {
   "display_name": "Python 3",
   "language": "python",
   "name": "python3"
  },
  "language_info": {
   "codemirror_mode": {
    "name": "ipython",
    "version": 3
   },
   "file_extension": ".py",
   "mimetype": "text/x-python",
   "name": "python",
   "nbconvert_exporter": "python",
   "pygments_lexer": "ipython3",
   "version": "3.8.3"
  }
 },
 "nbformat": 4,
 "nbformat_minor": 2
}
